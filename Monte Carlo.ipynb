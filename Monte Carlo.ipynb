{
 "cells": [
  {
   "cell_type": "markdown",
   "metadata": {
    "collapsed": true
   },
   "source": [
    "# Le voyageur de commerce\n",
    "\n",
    "Ce projet est inspiré du Chapitre 4 du livre “The Cross-Entropy Method” de\n",
    "Rubinstein et Kroese.\n",
    "\n",
    "Le problème du voyageur de commerce (en anglais, TSP, travelling salesman\n",
    "problem) revient à minimiser le trajet effectué entre M villes, sous la contrainte\n",
    "de passer par chaque ville exactement une fois. Soit D la matrice telle que Dij\n",
    "est la distance entre la ville i et la ville j; noter que Dii = 0 et D est symétrique."
   ]
  },
  {
   "cell_type": "markdown",
   "metadata": {},
   "source": [
    "1) Rappeler (ou retrouver!) la méthode permettant de simuler efficacement\n",
    "N vecteurs selon la loi Multinomiale définie par le vecteur de probabilité\n",
    "p = (p1, . . . , pM). La mettre en œuvre."
   ]
  },
  {
   "cell_type": "code",
   "execution_count": 1,
   "metadata": {
    "collapsed": false
   },
   "outputs": [
    {
     "name": "stdout",
     "output_type": "stream",
     "text": [
      "Populating the interactive namespace from numpy and matplotlib\n"
     ]
    }
   ],
   "source": [
    "%pylab inline\n",
    "%load_ext line_profiler"
   ]
  },
  {
   "cell_type": "code",
   "execution_count": 2,
   "metadata": {
    "collapsed": false
   },
   "outputs": [],
   "source": [
    "import matplotlib.pyplot as plt\n",
    "import seaborn\n",
    "\n",
    "from scipy.stats import expon, uniform\n",
    "\n",
    "from sklearn.preprocessing import normalize"
   ]
  },
  {
   "cell_type": "code",
   "execution_count": 3,
   "metadata": {
    "collapsed": false,
    "scrolled": true
   },
   "outputs": [
    {
     "data": {
      "text/plain": [
       "<matplotlib.text.Text at 0x11390ae10>"
      ]
     },
     "execution_count": 3,
     "metadata": {},
     "output_type": "execute_result"
    },
    {
     "data": {
      "image/png": "[encoded data removed]",
      "text/plain": [
       "<matplotlib.figure.Figure at 0x104222d30>"
      ]
     },
     "metadata": {},
     "output_type": "display_data"
    }
   ],
   "source": [
    "def sorted_uniforms(N):\n",
    "    \"\"\"\n",
    "    Returns N sorted uniforms\n",
    "    \"\"\"\n",
    "    E = expon.rvs(size=N+1)\n",
    "    V = [sum(E[:i+1]) for i in range(N+1)]\n",
    "    return V[:-1]/V[-1]\n",
    "\n",
    "plt.hist(sorted_uniforms(10000))\n",
    "plt.title('Histogram of 10000 uniforms')"
   ]
  },
  {
   "cell_type": "code",
   "execution_count": 4,
   "metadata": {
    "collapsed": false
   },
   "outputs": [],
   "source": [
    "def multinomial_su(P, N):\n",
    "    \"\"\"\n",
    "    Returns a vector of N multinomials using sorted uniforms\n",
    "    \"\"\"\n",
    "    su = sorted_uniforms(N)\n",
    "    j = 0\n",
    "    s = P[0]\n",
    "    A = [0]\n",
    "    for n in range(N):\n",
    "        while su[n] > s:\n",
    "            j += 1\n",
    "            A += [0]\n",
    "            s += P[j]\n",
    "        A[j] += 1\n",
    "        \n",
    "    return A"
   ]
  },
  {
   "cell_type": "code",
   "execution_count": 5,
   "metadata": {
    "collapsed": false
   },
   "outputs": [],
   "source": [
    "def multinomial_bin(P,N):\n",
    "    \"\"\" \n",
    "    Returs a vector of N multinomial using binomial distribution\n",
    "    \"\"\"\n",
    "    number_simulated = 0\n",
    "    n_coeffs = len(P)\n",
    "    multinomials = np.zeros(n_coeffs)\n",
    "    i = 0\n",
    "    N_ = N\n",
    "    while N_ > 0 and i < n_coeffs :\n",
    "        N_ -= number_simulated\n",
    "        binomial = uniform.rvs(size = N_)\n",
    "        n_p = np.count_nonzero(binomial < P[i])\n",
    "        multinomials[i] = np.count_nonzero(binomial < P[i])\n",
    "        i+=1\n",
    "    return multinomials"
   ]
  },
  {
   "cell_type": "code",
   "execution_count": 6,
   "metadata": {
    "collapsed": false,
    "scrolled": false
   },
   "outputs": [
    {
     "name": "stdout",
     "output_type": "stream",
     "text": [
      "[251, 248, 266, 120, 115]\n",
      "[ 238.  281.  236.  115.  118.]\n"
     ]
    }
   ],
   "source": [
    "# Example\n",
    "P = [1/4, 1/4, 1/4, 1/8, 1/8]\n",
    "print(multinomial_su(P, 1000))\n",
    "print(multinomial_bin(P, 1000))"
   ]
  },
  {
   "cell_type": "code",
   "execution_count": 7,
   "metadata": {
    "collapsed": false,
    "scrolled": true
   },
   "outputs": [
    {
     "name": "stdout",
     "output_type": "stream",
     "text": [
      "Multinomial (sorted uniforms method): \n",
      "10 loops, best of 3: 60.6 ms per loop\n",
      "Multinomial (binomial method): \n",
      "1000 loops, best of 3: 948 µs per loop\n",
      "Numpy multinomial:\n",
      "The slowest run took 13.18 times longer than the fastest. This could mean that an intermediate result is being cached.\n",
      "100000 loops, best of 3: 2.92 µs per loop\n"
     ]
    }
   ],
   "source": [
    "# Speed comparison\n",
    "n = 10000\n",
    "print(\"Multinomial (sorted uniforms method): \") \n",
    "%timeit multinomial_su(P, n)\n",
    "print(\"Multinomial (binomial method): \")\n",
    "%timeit multinomial_bin(P, n)\n",
    "print(\"Numpy multinomial:\")\n",
    "%timeit np.random.multinomial(n, P, size=1)"
   ]
  },
  {
   "cell_type": "markdown",
   "metadata": {},
   "source": [
    "2) Utiliser l’algorithme CE vu en cours pour résoudre le problème TSP. Pour\n",
    "ce faire, proposer une famille paramétrique de lois pour la simulation de\n",
    "trajets. Programmer cet algorithme, et le tester sur quelques exemples."
   ]
  },
  {
   "cell_type": "code",
   "execution_count": 8,
   "metadata": {
    "collapsed": false,
    "scrolled": true
   },
   "outputs": [
    {
     "data": {
      "image/png": "[encoded data removed]",
      "text/plain": [
       "<matplotlib.figure.Figure at 0x113609128>"
      ]
     },
     "metadata": {},
     "output_type": "display_data"
    }
   ],
   "source": [
    "# Random cities\n",
    "number_of_cities = 10\n",
    "X = np.array([(np.random.rand(2)) for i in range(number_of_cities)])\n",
    "plt.scatter(X[:,0], X[:,1])\n",
    "plt.title('Random cities positions')\n",
    "\n",
    "D = np.empty((number_of_cities,number_of_cities))\n",
    "for i in range(number_of_cities):\n",
    "    D[i,i] = 0\n",
    "    for j in range(number_of_cities):\n",
    "        D[i,j] = np.linalg.norm(X[i]-X[j])\n",
    "        D[j,i] = D[i,j]\n",
    "        \n",
    "# Random transition matrix P\n",
    "P = np.reshape(np.random.rand(number_of_cities**2), (number_of_cities,number_of_cities))\n",
    "for i in range(number_of_cities): \n",
    "    P[i,i] = 0\n",
    "P = P/P.sum(axis=1)[:,None]"
   ]
  },
  {
   "cell_type": "code",
   "execution_count": 9,
   "metadata": {
    "collapsed": false
   },
   "outputs": [],
   "source": [
    "def one_step(d, P):\n",
    "    \"\"\"\n",
    "    d represents partial trajectories and their number\n",
    "    e.g. d = {(1,5,4,3):34, (1,3,6,7):16} means 34 partial trajectory went through (1,5,4,3) \n",
    "    The function generates the next step of the trajectory with P\n",
    "    \"\"\"\n",
    "    new_dict = {}\n",
    "    \n",
    "    # d.keys() are all the partial trajectories\n",
    "    for traj in d.keys():\n",
    "        n = d[traj]\n",
    "        if traj != 0:\n",
    "            traj = list(traj)\n",
    "        else:\n",
    "            traj = [0]\n",
    "        \n",
    "        P1 = P.copy()\n",
    "        \n",
    "        # traj[-1] is the current vertex of the trajectory\n",
    "        alpha = P1[traj[-1], :]\n",
    "        \n",
    "        # We set to zeros the column of the already visited vertices so they can't be visited twice\n",
    "        alpha[traj[:-1]] = 0\n",
    "        \n",
    "        # Normalizes so alpha is a valid probability vector \n",
    "        alpha /= sum(alpha)\n",
    "        \n",
    "        # Generates the next step of the trajectory\n",
    "        new = np.random.multinomial(n, alpha, size=1).tolist()[0]\n",
    "        \n",
    "        # Updates trajectories\n",
    "        new_dict.update({ tuple(traj + [j]) : new[j] for j in range(1, len(new)) if new[j] != 0})\n",
    "    \n",
    "    # Returns the updated trajectories\n",
    "    return new_dict"
   ]
  },
  {
   "cell_type": "code",
   "execution_count": 10,
   "metadata": {
    "collapsed": true
   },
   "outputs": [],
   "source": [
    "def multi_trajectories(P, N):\n",
    "    \"\"\"\n",
    "    Generates N stochastic trajectories according to transition matrix P\n",
    "    \"\"\"\n",
    "    d = {(0):N}\n",
    "    \n",
    "    # We proceed step by step\n",
    "    for i in range(len(P)-1):\n",
    "        d = one_step(d, P)\n",
    "    return d"
   ]
  },
  {
   "cell_type": "code",
   "execution_count": 11,
   "metadata": {
    "collapsed": false,
    "scrolled": true
   },
   "outputs": [],
   "source": [
    "def S(X, D):\n",
    "    \"\"\"\n",
    "    Input: \n",
    "    X 1D-array representing a path on a graph\n",
    "    D 2D-array distance matrice for the graph\n",
    "    \n",
    "    Output:\n",
    "    The length of the path X (starting from X[0] and ending on X[0])\n",
    "    \n",
    "    \"\"\"\n",
    "    return sum([D[X[i], X[(i+1)%len(X)]] for i in range(len(X))])"
   ]
  },
  {
   "cell_type": "code",
   "execution_count": 12,
   "metadata": {
    "collapsed": false,
    "scrolled": true
   },
   "outputs": [
    {
     "data": {
      "text/plain": [
       "array([[ 0. ,  0.5,  0.5],\n",
       "       [ 0.5,  0. ,  0.5],\n",
       "       [ 0.5,  0.5,  0. ]])"
      ]
     },
     "execution_count": 12,
     "metadata": {},
     "output_type": "execute_result"
    }
   ],
   "source": [
    "def init_P(size):\n",
    "    \"\"\"\n",
    "    Returns a stochastic matrix of dim size*size with zeros on the diagonal and 1/(size-1) elsewhere \n",
    "    \"\"\"\n",
    "    P = (np.ones((size, size)) - np.identity((size)))/(size-1)\n",
    "    return P\n",
    "\n",
    "init_P(3)"
   ]
  },
  {
   "cell_type": "code",
   "execution_count": 13,
   "metadata": {
    "collapsed": false
   },
   "outputs": [],
   "source": [
    "def cross_entropy(C, n, rho=5, alpha=0.99):\n",
    "    \"\"\"\n",
    "    Cross-entropy algorithm to find the best trajectory matrix\n",
    "    C is the cost-matrix, n the number of random walks\n",
    "    Rubinstein suggest n = 5*(number of cities)**2 \n",
    "    \"\"\"\n",
    "    # Number of vertices\n",
    "    degree = len(C)\n",
    "    \n",
    "    # Initial transition matrix\n",
    "    P = init_P(degree)\n",
    "\n",
    "    #length = [0,1]\n",
    "    \n",
    "    #while max(length) > min(length):\n",
    "        \n",
    "    length = [1]\n",
    "    \n",
    "    last_min = [0 for i in range(16)]\n",
    "    \n",
    "    while max(last_min) != min(length):\n",
    "        # Generates n trajectories\n",
    "        trajectories = multi_trajectories(P, n)\n",
    "        \n",
    "        # Sets the right format for the trajectories\n",
    "        trajectories = [np.array(traj) for traj in trajectories.keys()]\n",
    "        \n",
    "        last_min = last_min[-15:] + [min(length)]\n",
    "        \n",
    "        # Computes the length of each trajectorie\n",
    "        length = [S(trajectory, C) for trajectory in trajectories]\n",
    "        \n",
    "        # Percentile of order rho for the length of the trajectories\n",
    "        gamma = np.percentile(length, rho, interpolation='lower')\n",
    "\n",
    "        # Keeps only the best trajectories (length of trajectory < gamma )\n",
    "        trajectories_sample = [traj for i, traj in enumerate(trajectories) if length[i] <= gamma]\n",
    "        \n",
    "        # Updates transition matrix \n",
    "        P_ = np.zeros(P.shape)\n",
    "        for i in range(degree):\n",
    "            for traj in trajectories_sample:\n",
    "                P_[traj[i], traj[(i+1)%degree]] += 1/len(trajectories_sample)\n",
    "        # Avoids getting zeros for non diagonal terms (otherwise it would create illicit trajectories)\n",
    "        P = alpha * P_ + (1-alpha)* P            \n",
    "    \n",
    "    return P, gamma, trajectories_sample[0]"
   ]
  },
  {
   "cell_type": "code",
   "execution_count": 14,
   "metadata": {
    "collapsed": false
   },
   "outputs": [],
   "source": [
    "%lprun -f cross_entropy cross_entropy(D, 3000)"
   ]
  },
  {
   "cell_type": "code",
   "execution_count": 15,
   "metadata": {
    "collapsed": false
   },
   "outputs": [],
   "source": [
    "P, gamma, best_traj =  cross_entropy(D, 3000)"
   ]
  },
  {
   "cell_type": "code",
   "execution_count": 16,
   "metadata": {
    "collapsed": false,
    "scrolled": false
   },
   "outputs": [
    {
     "data": {
      "text/plain": [
       "<matplotlib.image.AxesImage at 0x11366f4a8>"
      ]
     },
     "execution_count": 16,
     "metadata": {},
     "output_type": "execute_result"
    },
    {
     "data": {
      "image/png": "[encoded data removed]",
      "text/plain": [
       "<matplotlib.figure.Figure at 0x1136c7f60>"
      ]
     },
     "metadata": {},
     "output_type": "display_data"
    }
   ],
   "source": [
    "# We plot the final transition matrix\n",
    "plt.matshow(P,interpolation='none')"
   ]
  },
  {
   "cell_type": "code",
   "execution_count": 17,
   "metadata": {
    "collapsed": false
   },
   "outputs": [
    {
     "data": {
      "text/plain": [
       "<matplotlib.text.Text at 0x102fb9518>"
      ]
     },
     "execution_count": 17,
     "metadata": {},
     "output_type": "execute_result"
    },
    {
     "data": {
      "image/png": "[encoded data removed]",
      "text/plain": [
       "<matplotlib.figure.Figure at 0x113672630>"
      ]
     },
     "metadata": {},
     "output_type": "display_data"
    }
   ],
   "source": [
    "# We plot the best trajectory\n",
    "for i in range(len(best_traj)):\n",
    "    plt.plot((X[best_traj[i]][0], X[best_traj[(i+1)%len(best_traj)]][0]), (X[best_traj[i]][1], X[best_traj[(i+1)%len(best_traj)]][1]))\n",
    "plt.scatter(X[:,0], X[:,1])\n",
    "plt.title('Shortest path')"
   ]
  },
  {
   "cell_type": "markdown",
   "metadata": {},
   "source": [
    "3) Concernant l’estimation bayésienne de vecteurs de probabilité d’une loi\n",
    "multinomiale, retrouver le fait que la famille des lois de Dirichlet est\n",
    "conjuguée pour ce modèle. Expliquer comment en pratique vous pouvez\n",
    "utiliser cette propriété pour améliorer votre algorithme."
   ]
  },
  {
   "cell_type": "markdown",
   "metadata": {},
   "source": [
    "If $p = (p_1,...,p_k) \\sim Dirichlet_k(\\alpha_1, ..., \\alpha_k)$, the density of $p$ is given by :\n",
    "$$ \\pi(p_1,...,p_k ; \\alpha_1, ..., \\alpha_k) = \\dfrac{1}{B(\\alpha)} \\Pi_{i=1}^k p_i^{\\alpha_i - 1} $$ \n",
    "for all $p_1,...,p_k >0$ such that $p_k = 1 - \\sum_{j=1}^{k-1} p_j$.\n",
    "\n",
    "If $x = (x_1,...,x_k) \\sim Multinomial(p_1,...,p_k)$, the likelihood of $x$ is given by :\n",
    "\n",
    "$$ L(x_1,...,x_k ; p_1,...,p_k) = \\dfrac{ (\\sum_i x_i)! }{x_1!...x_k!} \\Pi_{i=1}^k p_i^{x_i} $$\n",
    "\n",
    "We deduce :\n",
    "\n",
    "$$ \\pi(p_1,...,p_k ; \\alpha_1, ..., \\alpha_k, x_1,...,x_k) \\propto \\Pi_{i=1}^k p_i^{\\alpha_i + x_i - 1} $$ \n",
    "\n",
    "Hence, by identification, $p|x \\sim Dirichlet_k(\\alpha_1 + x_1, ..., \\alpha_k + x_k)$ so the Dirichlet distribution family is conjugate for this model."
   ]
  },
  {
   "cell_type": "code",
   "execution_count": 18,
   "metadata": {
    "collapsed": false
   },
   "outputs": [],
   "source": [
    "def bayesian_multi_trajectories(alpha, N):\n",
    "    l = []\n",
    "    P = np.empty((len(alpha), len(alpha)))\n",
    "    for j in range(N):\n",
    "        for i in range(len(alpha)):\n",
    "            P[i,:] = numpy.random.dirichlet(alpha[i,:])\n",
    "            P[i,i] = 0\n",
    "        P = P/P.sum(axis=1)[:,None]\n",
    "        l += [trajectory(P)]\n",
    "    return l\n",
    "\n",
    "def trajectory(P):\n",
    "    \"\"\"\n",
    "    \"\"\"\n",
    "    P_ = P.copy()\n",
    "    X = np.zeros(len(P), np.int8)\n",
    "    for i in range(len(P)-1):\n",
    "        P_[:,X[i]] = 0\n",
    "        P_ = P_/P_.sum(axis=1)[:,None]\n",
    "        multi = np.random.multinomial(1, P_[X[i],:], size=1)\n",
    "        X[i+1] = np.argmax(multi)\n",
    "    return X"
   ]
  },
  {
   "cell_type": "code",
   "execution_count": 19,
   "metadata": {
    "collapsed": true
   },
   "outputs": [],
   "source": [
    "def bayesian_cross_entropy(C, n, rho=5):\n",
    "    \n",
    "    degree = len(C)\n",
    "                \n",
    "    alpha = np.ones((degree, degree))\n",
    "    \n",
    "    P = np.zeros((degree, degree))\n",
    "    \n",
    "    length = [1]\n",
    "    \n",
    "    last_min = [0 for i in range(10)]\n",
    "    \n",
    "    previous_gamma = 1000\n",
    "    \n",
    "    while max(last_min) != min(length):\n",
    "        \n",
    "        #trajectories = bayesian_multi_trajectories(alpha, n)        \n",
    "        \n",
    "        for i in range(len(alpha)):\n",
    "            P[i,:] = numpy.random.dirichlet(alpha[i,:])\n",
    "            P[i,i] = 0\n",
    "        \n",
    "        P = P/P.sum(axis=1)[:,None]\n",
    "        \n",
    "        trajectories = multi_trajectories(P, n)\n",
    "                        \n",
    "        trajectories = [np.array(traj) for traj in trajectories.keys()]\n",
    "        \n",
    "        last_min = last_min[-9:] + [min(length)]\n",
    "        \n",
    "        length = [S(trajectory, C) for trajectory in trajectories]\n",
    "        \n",
    "        gamma = np.percentile(length, rho, interpolation='lower')\n",
    "        \n",
    "        # If the new sample is not \"better\" than the previous\n",
    "        if gamma > previous_gamma:\n",
    "            continue\n",
    "        \n",
    "        trajectories_sample = [traj for i, traj in enumerate(trajectories) if length[i] <= gamma]\n",
    "        \n",
    "        couples = [[(traj[i], traj[(i+1)%degree]) for i in range(degree)] for traj in trajectories_sample]\n",
    "        \n",
    "        for i in range(degree):\n",
    "            for j in range(degree):\n",
    "                alpha[i,j] += sum([1 for couple in couples if (i,j) in couple]) \n",
    "        \n",
    "        previous_gamma = gamma\n",
    "                \n",
    "    best_traj = trajectories[min(range(len(length)), key=length.__getitem__)]\n",
    "    \n",
    "    return alpha, gamma, best_traj "
   ]
  },
  {
   "cell_type": "code",
   "execution_count": 20,
   "metadata": {
    "collapsed": false,
    "scrolled": false
   },
   "outputs": [],
   "source": [
    "alpha_bayesian, gamma_bayesian, best_traj_bayesian = bayesian_cross_entropy(D, 500)"
   ]
  },
  {
   "cell_type": "code",
   "execution_count": null,
   "metadata": {
    "collapsed": false
   },
   "outputs": [],
   "source": [
    "%lprun -f bayesian_cross_entropy bayesian_cross_entropy(D, 500)"
   ]
  },
  {
   "cell_type": "code",
   "execution_count": 21,
   "metadata": {
    "collapsed": false,
    "scrolled": false
   },
   "outputs": [
    {
     "data": {
      "text/plain": [
       "<matplotlib.text.Text at 0x113a5c048>"
      ]
     },
     "execution_count": 21,
     "metadata": {},
     "output_type": "execute_result"
    },
    {
     "data": {
      "image/png": "[encoded data removed]",
      "text/plain": [
       "<matplotlib.figure.Figure at 0x1137b2dd8>"
      ]
     },
     "metadata": {},
     "output_type": "display_data"
    }
   ],
   "source": [
    "for i in range(len(best_traj_bayesian)):\n",
    "    plt.plot((X[best_traj_bayesian[i]][0], X[best_traj_bayesian[(i+1)%len(best_traj)]][0]), (X[best_traj_bayesian[i]][1], X[best_traj_bayesian[(i+1)%len(best_traj)]][1]))\n",
    "plt.scatter(X[:,0], X[:,1])\n",
    "plt.title('Shortest path')"
   ]
  },
  {
   "cell_type": "markdown",
   "metadata": {},
   "source": [
    "4) Bonus: en fonction du temps disponible, vous pouvez tester votre algorithme\n",
    "sur de “gros” problèmes (par ex. trajet optimal du tour de France\n",
    "en se basant sur la liste des villes de l’année dernière), ou comparer à\n",
    "d’autres algorithmes que vous trouverez dans la littérature."
   ]
  },
  {
   "cell_type": "markdown",
   "metadata": {},
   "source": [
    "Nous utilisons la méthode cross-entropy pour trouver le chemin les plus courts entre un ensemble d'arbres à Paris.\n",
    "\n",
    "Nous avons récupéré une base de données qui recense les arbres et leurs locations à Paris sur le site Open Data Paris.\n",
    "\n",
    "Vous pouvez choisir un arbre (Sequoia dans l'exemple ou Arbutus) et l'algorithme tracera sur une carte le chemin le plus court pour voir tous ces arbres."
   ]
  },
  {
   "cell_type": "code",
   "execution_count": 38,
   "metadata": {
    "collapsed": false
   },
   "outputs": [],
   "source": [
    "import pandas as pd\n",
    "# https://opendata.paris.fr/explore/dataset/arbresremarquablesparis2011/table/\n",
    "df = pd.read_csv('arbresremarquablesparis2011.csv', sep=';')\n",
    "\n",
    "# Arbutus ou Sequoia par exemple\n",
    "arbre = 'Sequoia'\n",
    "df = df[df['GENRE']==arbre]"
   ]
  },
  {
   "cell_type": "code",
   "execution_count": 39,
   "metadata": {
    "collapsed": false,
    "scrolled": true
   },
   "outputs": [],
   "source": [
    "geo_points = df['Geo point'].tolist()\n",
    "nb_trees = len(geo_points)\n",
    "geo_points = [(float(geo_point_str.split(',')[0]), float(geo_point_str.split(',')[1])) for geo_point_str in geo_points]"
   ]
  },
  {
   "cell_type": "code",
   "execution_count": 40,
   "metadata": {
    "collapsed": true
   },
   "outputs": [],
   "source": [
    "from math import radians, cos, sin, asin, sqrt\n",
    "def haversine(lon1, lat1, lon2, lat2):\n",
    "    \"\"\"\n",
    "    Calculate the great circle distance between two points \n",
    "    on the earth (specified in decimal degrees)\n",
    "    \"\"\"\n",
    "    # convert decimal degrees to radians \n",
    "    lon1, lat1, lon2, lat2 = map(radians, [lon1, lat1, lon2, lat2])\n",
    "    # haversine formula \n",
    "    dlon = lon2 - lon1 \n",
    "    dlat = lat2 - lat1 \n",
    "    a = sin(dlat/2)**2 + cos(lat1) * cos(lat2) * sin(dlon/2)**2\n",
    "    c = 2 * asin(sqrt(a)) \n",
    "    km = 6367 * c\n",
    "    return km"
   ]
  },
  {
   "cell_type": "code",
   "execution_count": 41,
   "metadata": {
    "collapsed": false
   },
   "outputs": [],
   "source": [
    "D_trees = numpy.empty((nb_trees,nb_trees))\n",
    "for i in range(nb_trees):\n",
    "    D_trees[i,i] = 0\n",
    "    for j in range(nb_trees):\n",
    "        lon1, lat1 = geo_points[i][0], geo_points[i][1]\n",
    "        lon2, lat2 = geo_points[j][0], geo_points[j][1]\n",
    "        D_trees[i,j] = haversine(lon1, lat1, lon2, lat2)\n",
    "        D_trees[j,i] = D_trees[i,j]"
   ]
  },
  {
   "cell_type": "code",
   "execution_count": 55,
   "metadata": {
    "collapsed": false,
    "scrolled": true
   },
   "outputs": [],
   "source": [
    "alpha, gamma, best_traj = cross_entropy(D_trees, 4000)"
   ]
  },
  {
   "cell_type": "markdown",
   "metadata": {},
   "source": [
    "Il y a un arbitrage entre temps de calcul et optimalité du chemin retourné \n",
    "\n",
    "Nous choisissons de faire tourner l'algo logntemps pour avoir le chemin optimal"
   ]
  },
  {
   "cell_type": "markdown",
   "metadata": {},
   "source": [
    "# Bonne ballade !"
   ]
  },
  {
   "cell_type": "code",
   "execution_count": 56,
   "metadata": {
    "collapsed": false
   },
   "outputs": [
    {
     "data": {
      "text/html": [
       "<div style=\"width:100%;\"><div style=\"position:relative;width:100%;height:0;padding-bottom:60%;\"><iframe src=\"data:text/html;charset=utf-8;base64,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\" style=\"position:absolute;width:100%;height:100%;left:0;top:0;border:none !important;\" allowfullscreen webkitallowfullscreen mozallowfullscreen></iframe></div></div>"
      ],
      "text/plain": [
       "<folium.folium.Map at 0x119c06f60>"
      ]
     },
     "execution_count": 56,
     "metadata": {},
     "output_type": "execute_result"
    }
   ],
   "source": [
    "import folium\n",
    "from IPython.display import HTML\n",
    "map_osm = folium.Map(location=[48.85, 2.34])\n",
    "\n",
    "polyline_best_traj = [geo_points[point] for point in best_traj] + [geo_points[0]]\n",
    "\n",
    "for i in range(len(geo_points)):\n",
    "    folium.Marker(geo_points[i], popup=arbre).add_to(map_osm)\n",
    "\n",
    "folium.PolyLine(polyline_best_traj, color=\"red\", weight=2.5, opacity=1).add_to(map_osm)\n",
    "\n",
    "map_osm"
   ]
  },
  {
   "cell_type": "code",
   "execution_count": null,
   "metadata": {
    "collapsed": true
   },
   "outputs": [],
   "source": []
  }
 ],
 "metadata": {
  "kernelspec": {
   "display_name": "Python 3",
   "language": "python",
   "name": "python3"
  },
  "language_info": {
   "codemirror_mode": {
    "name": "ipython",
    "version": 3
   },
   "file_extension": ".py",
   "mimetype": "text/x-python",
   "name": "python",
   "nbconvert_exporter": "python",
   "pygments_lexer": "ipython3",
   "version": "3.5.3"
  }
 },
 "nbformat": 4,
 "nbformat_minor": 0
}
