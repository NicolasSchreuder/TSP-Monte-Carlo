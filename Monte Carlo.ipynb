{
 "cells": [
  {
   "cell_type": "markdown",
   "metadata": {
    "collapsed": true
   },
   "source": [
    "# Le voyageur de commerce\n",
    "\n",
    "Ce projet est inspiré du Chapitre 4 du livre “The Cross-Entropy Method” de\n",
    "Rubinstein et Kroese.\n",
    "\n",
    "Le problème du voyageur de commerce (en anglais, TSP, travelling salesman\n",
    "problem) revient à minimiser le trajet effectué entre M villes, sous la contrainte\n",
    "de passer par chaque ville exactement une fois. Soit D la matrice telle que Dij\n",
    "est la distance entre la ville i et la ville j; noter que Dii = 0 et D est symétrique."
   ]
  },
  {
   "cell_type": "markdown",
   "metadata": {},
   "source": [
    "1) Rappeler (ou retrouver!) la méthode permettant de simuler efficacement\n",
    "N vecteurs selon la loi Multinomiale définie par le vecteur de probabilité\n",
    "p = (p1, . . . , pM). La mettre en œuvre."
   ]
  },
  {
   "cell_type": "code",
   "execution_count": 1,
   "metadata": {
    "collapsed": false
   },
   "outputs": [
    {
     "name": "stdout",
     "output_type": "stream",
     "text": [
      "Populating the interactive namespace from numpy and matplotlib\n"
     ]
    }
   ],
   "source": [
    "%pylab inline\n",
    "%load_ext line_profiler"
   ]
  },
  {
   "cell_type": "code",
   "execution_count": 2,
   "metadata": {
    "collapsed": false
   },
   "outputs": [],
   "source": [
    "import matplotlib.pyplot as plt\n",
    "import seaborn\n",
    "\n",
    "from scipy.stats import expon, uniform\n",
    "\n",
    "from sklearn.preprocessing import normalize"
   ]
  },
  {
   "cell_type": "code",
   "execution_count": 3,
   "metadata": {
    "collapsed": false,
    "scrolled": true
   },
   "outputs": [
    {
     "data": {
      "text/plain": [
       "(array([  970.,   996.,   980.,  1006.,  1010.,  1016.,  1018.,  1028.,\n",
       "          997.,   979.]),\n",
       " array([  5.83535316e-05,   1.00031554e-01,   2.00004754e-01,\n",
       "          2.99977955e-01,   3.99951155e-01,   4.99924356e-01,\n",
       "          5.99897556e-01,   6.99870757e-01,   7.99843957e-01,\n",
       "          8.99817157e-01,   9.99790358e-01]),\n",
       " <a list of 10 Patch objects>)"
      ]
     },
     "execution_count": 3,
     "metadata": {},
     "output_type": "execute_result"
    },
    {
     "data": {
      "image/png": "[encoded data removed]",
      "text/plain": [
       "<matplotlib.figure.Figure at 0x10e91e2b0>"
      ]
     },
     "metadata": {},
     "output_type": "display_data"
    }
   ],
   "source": [
    "def sorted_uniforms(N):\n",
    "    \"\"\"\n",
    "    Returns N sorted uniforms\n",
    "    \"\"\"\n",
    "    E = expon.rvs(size=N+1)\n",
    "    V = [sum(E[:i+1]) for i in range(N+1)]\n",
    "    return V[:-1]/V[-1]\n",
    "\n",
    "plt.hist(sorted_uniforms(10000))"
   ]
  },
  {
   "cell_type": "code",
   "execution_count": 4,
   "metadata": {
    "collapsed": false
   },
   "outputs": [],
   "source": [
    "def multinomial_su(P, N):\n",
    "    \"\"\"\n",
    "    Returns a vector of N multinomials using sorted uniforms\n",
    "    \"\"\"\n",
    "    su = sorted_uniforms(N)\n",
    "    j = 0\n",
    "    s = P[0]\n",
    "    A = [0]\n",
    "    for n in range(N):\n",
    "        while su[n] > s:\n",
    "            j += 1\n",
    "            A += [0]\n",
    "            s += P[j]\n",
    "        A[j] += 1\n",
    "        \n",
    "    return A"
   ]
  },
  {
   "cell_type": "code",
   "execution_count": 5,
   "metadata": {
    "collapsed": false
   },
   "outputs": [],
   "source": [
    "def multinomial_bin(P,N):\n",
    "    \"\"\" \n",
    "    Returs a vector of N multinomial using binomial distribution\n",
    "    \"\"\"\n",
    "    number_simulated = 0\n",
    "    n_coeffs = len(P)\n",
    "    multinomials = np.zeros(n_coeffs)\n",
    "    i = 0\n",
    "    N_ = N\n",
    "    while N_ > 0 and i < n_coeffs :\n",
    "        N_ -= number_simulated\n",
    "        binomial = uniform.rvs(size = N_)\n",
    "        n_p = np.count_nonzero(binomial < P[i])\n",
    "        multinomials[i] = np.count_nonzero(binomial < P[i])\n",
    "        i+=1\n",
    "    return multinomials"
   ]
  },
  {
   "cell_type": "code",
   "execution_count": 6,
   "metadata": {
    "collapsed": false,
    "scrolled": false
   },
   "outputs": [
    {
     "name": "stdout",
     "output_type": "stream",
     "text": [
      "[241, 254, 241, 123, 141]\n",
      "[ 260.  267.  237.  128.  155.]\n"
     ]
    }
   ],
   "source": [
    "# Example\n",
    "P = [1/4, 1/4, 1/4, 1/8, 1/8]\n",
    "print(multinomial_su(P, 1000))\n",
    "print(multinomial_bin(P, 1000))"
   ]
  },
  {
   "cell_type": "code",
   "execution_count": 7,
   "metadata": {
    "collapsed": false,
    "scrolled": true
   },
   "outputs": [
    {
     "name": "stdout",
     "output_type": "stream",
     "text": [
      "Multinomial (sorted uniforms method): \n",
      "10 loops, best of 3: 64.5 ms per loop\n",
      "Multinomial (binomial method): \n",
      "1000 loops, best of 3: 960 µs per loop\n",
      "Numpy multinomial:\n",
      "The slowest run took 430.65 times longer than the fastest. This could mean that an intermediate result is being cached.\n",
      "100000 loops, best of 3: 2.99 µs per loop\n"
     ]
    }
   ],
   "source": [
    "# Speed comparison\n",
    "n = 10000\n",
    "print(\"Multinomial (sorted uniforms method): \") \n",
    "%timeit multinomial_su(P, n)\n",
    "print(\"Multinomial (binomial method): \")\n",
    "%timeit multinomial_bin(P, n)\n",
    "print(\"Numpy multinomial:\")\n",
    "%timeit np.random.multinomial(n, P, size=1)"
   ]
  },
  {
   "cell_type": "markdown",
   "metadata": {},
   "source": [
    "2) Utiliser l’algorithme CE vu en cours pour résoudre le problème TSP. Pour\n",
    "ce faire, proposer une famille paramétrique de lois pour la simulation de\n",
    "trajets. Programmer cet algorithme, et le tester sur quelques exemples."
   ]
  },
  {
   "cell_type": "code",
   "execution_count": 125,
   "metadata": {
    "collapsed": false,
    "scrolled": true
   },
   "outputs": [
    {
     "data": {
      "image/png": "[encoded data removed]",
      "text/plain": [
       "<matplotlib.figure.Figure at 0x12288aac8>"
      ]
     },
     "metadata": {},
     "output_type": "display_data"
    }
   ],
   "source": [
    "# Random cities\n",
    "number_of_cities = 30\n",
    "X = np.array([(np.random.rand(2)) for i in range(number_of_cities)])\n",
    "plt.scatter(X[:,0], X[:,1])\n",
    "\n",
    "D = np.empty((number_of_cities,number_of_cities))\n",
    "for i in range(number_of_cities):\n",
    "    D[i,i] = 0\n",
    "    for j in range(number_of_cities):\n",
    "        D[i,j] = np.linalg.norm(X[i]-X[j])\n",
    "        D[j,i] = D[i,j]\n",
    "        \n",
    "# Random transition matrix P\n",
    "P = np.reshape(np.random.rand(number_of_cities**2), (number_of_cities,number_of_cities))\n",
    "for i in range(number_of_cities): \n",
    "    P[i,i] = 0\n",
    "P = P/P.sum(axis=1)[:,None]"
   ]
  },
  {
   "cell_type": "code",
   "execution_count": 126,
   "metadata": {
    "collapsed": false
   },
   "outputs": [],
   "source": [
    "def one_step(d, P):\n",
    "    \"\"\"\n",
    "    d represents partial trajectories and their number\n",
    "    e.g. d = {(1,5,4,3):34, (1,3,6,7):16} means 34 partial trajectory went through (1,5,4,3) \n",
    "    The function generates the next step of the trajectory with P\n",
    "    \"\"\"\n",
    "    new_dict = {}\n",
    "    \n",
    "    # d.keys() are all the partial trajectories\n",
    "    for traj in d.keys():\n",
    "        n = d[traj]\n",
    "        if traj != 0:\n",
    "            traj = list(traj)\n",
    "        else:\n",
    "            traj = [0]\n",
    "        \n",
    "        P1 = P.copy()\n",
    "        \n",
    "        # traj[-1] is the current vertex of the trajectory\n",
    "        alpha = P1[traj[-1], :]\n",
    "        \n",
    "        # We set to zeros the column of the already visited vertices so they can't be visited twice\n",
    "        alpha[traj[:-1]] = 0\n",
    "        \n",
    "        # Normalizes so alpha is a valid probability vector \n",
    "        alpha /= sum(alpha)\n",
    "        \n",
    "        # Generates the next step of the trajectory\n",
    "        new = np.random.multinomial(n, alpha, size=1).tolist()[0]\n",
    "        \n",
    "        # Updates trajectories\n",
    "        new_dict.update({ tuple(traj + [j]) : new[j] for j in range(1, len(new)) if new[j] != 0})\n",
    "    \n",
    "    # Returns the updated trajectories\n",
    "    return new_dict\n",
    "\n",
    "%lprun -f one_step multi_trajectories(P, 100)"
   ]
  },
  {
   "cell_type": "code",
   "execution_count": 127,
   "metadata": {
    "collapsed": true
   },
   "outputs": [],
   "source": [
    "def multi_trajectories(P, N):\n",
    "    \"\"\"\n",
    "    Generates N stochastic trajectories according to transition matrix P\n",
    "    \"\"\"\n",
    "    d = {(0):N}\n",
    "    \n",
    "    # We proceed step by step\n",
    "    for i in range(len(P)-1):\n",
    "        d = one_step(d, P)\n",
    "    return d"
   ]
  },
  {
   "cell_type": "code",
   "execution_count": 128,
   "metadata": {
    "collapsed": false,
    "scrolled": true
   },
   "outputs": [],
   "source": [
    "def S(X, D):\n",
    "    \"\"\"\n",
    "    Input: \n",
    "    X 1D-array representing a path on a graph\n",
    "    D 2D-array distance matrice for the graph\n",
    "    \n",
    "    Output:\n",
    "    The length of the path X (starting from X[0] and ending on X[0])\n",
    "    \n",
    "    \"\"\"\n",
    "    return sum([D[X[i], X[(i+1)%len(X)]] for i in range(len(X))])"
   ]
  },
  {
   "cell_type": "code",
   "execution_count": 129,
   "metadata": {
    "collapsed": false,
    "scrolled": true
   },
   "outputs": [
    {
     "data": {
      "text/plain": [
       "array([[ 0. ,  0.5,  0.5],\n",
       "       [ 0.5,  0. ,  0.5],\n",
       "       [ 0.5,  0.5,  0. ]])"
      ]
     },
     "execution_count": 129,
     "metadata": {},
     "output_type": "execute_result"
    }
   ],
   "source": [
    "def init_P(size):\n",
    "    \"\"\"\n",
    "    Returns a stochastic matrix of dim size*size with zeros on the diagonal and 1/(size-1) elsewhere \n",
    "    \"\"\"\n",
    "    P = (np.ones((size, size)) - np.identity((size)))/(size-1)\n",
    "    return P\n",
    "\n",
    "init_P(3)"
   ]
  },
  {
   "cell_type": "code",
   "execution_count": 130,
   "metadata": {
    "collapsed": false
   },
   "outputs": [],
   "source": [
    "def cross_entropy(C, n, rho=5, alpha=0.99):\n",
    "    \"\"\"\n",
    "    Cross-entropy algorithm to find the best trajectory matrix\n",
    "    \"\"\"\n",
    "    # Number of vertices\n",
    "    degree = len(C)\n",
    "    \n",
    "    # Initial transition matrix\n",
    "    P = init_P(degree)\n",
    "\n",
    "    #length = [0,1]\n",
    "    \n",
    "    #while max(length) > min(length):\n",
    "        \n",
    "    length = [1]\n",
    "    \n",
    "    last_min = [0 for i in range(10)]\n",
    "    \n",
    "    while max(last_min) != min(length):\n",
    "        # Generates n trajectories\n",
    "        trajectories = multi_trajectories(P, n)\n",
    "        \n",
    "        # Sets the right format for the trajectories\n",
    "        trajectories = [np.array(traj) for traj in trajectories.keys()]\n",
    "        \n",
    "        last_min = last_min[-9:] + [min(length)]\n",
    "        \n",
    "        # Computes the length of each trajectorie\n",
    "        length = [S(trajectory, C) for trajectory in trajectories]\n",
    "        \n",
    "        # Percentile of order rho for the length of the trajectories\n",
    "        gamma = np.percentile(length, rho, interpolation='lower')\n",
    "\n",
    "        # Keeps only the best trajectories (length of trajectory < gamma )\n",
    "        trajectories_sample = [traj for i, traj in enumerate(trajectories) if length[i] <= gamma]\n",
    "        \n",
    "        # Updates transition matrix \n",
    "        P_ = np.zeros(P.shape)\n",
    "        for i in range(degree):\n",
    "            for traj in trajectories_sample:\n",
    "                P_[traj[i], traj[(i+1)%degree]] += 1/len(trajectories_sample)\n",
    "        # Avoids getting zeros for non diagonal terms (otherwise it would create illicit trajectories)\n",
    "        P = alpha * P_ + (1-alpha)* P            \n",
    "    \n",
    "    return P, gamma, trajectories_sample[0]"
   ]
  },
  {
   "cell_type": "code",
   "execution_count": 131,
   "metadata": {
    "collapsed": false
   },
   "outputs": [],
   "source": [
    "%lprun -f cross_entropy cross_entropy(D, 500)"
   ]
  },
  {
   "cell_type": "code",
   "execution_count": 137,
   "metadata": {
    "collapsed": false
   },
   "outputs": [],
   "source": [
    "P, gamma, best_traj =  cross_entropy(D, 500)"
   ]
  },
  {
   "cell_type": "code",
   "execution_count": 138,
   "metadata": {
    "collapsed": false,
    "scrolled": false
   },
   "outputs": [
    {
     "data": {
      "text/plain": [
       "<matplotlib.image.AxesImage at 0x1214459e8>"
      ]
     },
     "execution_count": 138,
     "metadata": {},
     "output_type": "execute_result"
    },
    {
     "data": {
      "image/png": "[encoded data removed]",
      "text/plain": [
       "<matplotlib.figure.Figure at 0x121a186d8>"
      ]
     },
     "metadata": {},
     "output_type": "display_data"
    }
   ],
   "source": [
    "# We plot the matrix\n",
    "plt.matshow(P,interpolation='none')"
   ]
  },
  {
   "cell_type": "code",
   "execution_count": 139,
   "metadata": {
    "collapsed": false
   },
   "outputs": [
    {
     "data": {
      "text/plain": [
       "<matplotlib.collections.PathCollection at 0x11e0e1b38>"
      ]
     },
     "execution_count": 139,
     "metadata": {},
     "output_type": "execute_result"
    },
    {
     "data": {
      "image/png": "[encoded data removed]",
      "text/plain": [
       "<matplotlib.figure.Figure at 0x12281d780>"
      ]
     },
     "metadata": {},
     "output_type": "display_data"
    }
   ],
   "source": [
    "# We plot the best trajectory\n",
    "for i in range(len(best_traj)):\n",
    "    plt.plot((X[best_traj[i]][0], X[best_traj[(i+1)%len(best_traj)]][0]), (X[best_traj[i]][1], X[best_traj[(i+1)%len(best_traj)]][1]))\n",
    "plt.scatter(X[:,0], X[:,1])"
   ]
  },
  {
   "cell_type": "markdown",
   "metadata": {},
   "source": [
    "3) Concernant l’estimation bayésienne de vecteurs de probabilité d’une loi\n",
    "multinomiale, retrouver le fait que la famille des lois de Dirichlet est\n",
    "conjuguée pour ce modèle. Expliquer comment en pratique vous pouvez\n",
    "utiliser cette propriété pour améliorer votre algorithme."
   ]
  },
  {
   "cell_type": "markdown",
   "metadata": {},
   "source": [
    "If $p = (p_1,...,p_k) \\sim Dirichlet_k(\\alpha_1, ..., \\alpha_k)$, the density of $p$ is given by :\n",
    "$$ \\pi(p_1,...,p_k ; \\alpha_1, ..., \\alpha_k) = \\dfrac{1}{B(\\alpha)} \\Pi_{i=1}^k p_i^{\\alpha_i - 1} $$ \n",
    "for all $p_1,...,p_k >0$ such that $p_k = 1 - \\sum_{j=1}^{k-1} p_j$.\n",
    "\n",
    "If $x = (x_1,...,x_k) \\sim Multinomial(p_1,...,p_k)$, the likelihood of $x$ is given by :\n",
    "\n",
    "$$ L(x_1,...,x_k ; p_1,...,p_k) = \\dfrac{ (\\sum_i x_i)! }{x_1!...x_k!} \\Pi_{i=1}^k p_i^{x_i} $$\n",
    "\n",
    "We deduce :\n",
    "\n",
    "$$ \\pi(p_1,...,p_k ; \\alpha_1, ..., \\alpha_k, x_1,...,x_k) \\propto \\Pi_{i=1}^k p_i^{\\alpha_i + x_i - 1} $$ \n",
    "\n",
    "Hence, by identification, $p|x \\sim Dirichlet_k(\\alpha_1 + x_1, ..., \\alpha_k + x_k)$ so the Dirichlet distribution family is conjugate for this model."
   ]
  },
  {
   "cell_type": "code",
   "execution_count": 55,
   "metadata": {
    "collapsed": false
   },
   "outputs": [],
   "source": [
    "def bayesian_multi_trajectories(alpha, N):\n",
    "    l = []\n",
    "    P = np.empty((len(alpha), len(alpha)))\n",
    "    for j in range(N):\n",
    "        for i in range(len(alpha)):\n",
    "            P[i,:] = numpy.random.dirichlet(alpha[i,:])\n",
    "            P[i,i] = 0\n",
    "        P = P/P.sum(axis=1)[:,None]\n",
    "        l += [trajectory(P)]\n",
    "    return l\n",
    "\n",
    "def trajectory(P):\n",
    "    \"\"\"\n",
    "    \"\"\"\n",
    "    P_ = P.copy()\n",
    "    X = np.zeros(len(P), np.int8)\n",
    "    for i in range(len(P)-1):\n",
    "        P_[:,X[i]] = 0\n",
    "        P_ = P_/P_.sum(axis=1)[:,None]\n",
    "        multi = np.random.multinomial(1, P_[X[i],:], size=1)\n",
    "        X[i+1] = np.argmax(multi)\n",
    "    return X"
   ]
  },
  {
   "cell_type": "code",
   "execution_count": 56,
   "metadata": {
    "collapsed": true
   },
   "outputs": [],
   "source": [
    "def bayesian_cross_entropy(C, n, rho=1):\n",
    "    \n",
    "    degree = len(C)\n",
    "                \n",
    "    alpha = np.ones((degree, degree))\n",
    "    \n",
    "    P = np.zeros((degree, degree))\n",
    "    \n",
    "    length = [1]\n",
    "    \n",
    "    last_min = [0 for i in range(10)]\n",
    "    \n",
    "    while max(last_min) != min(length):\n",
    "        \n",
    "        #trajectories = bayesian_multi_trajectories(alpha, n)        \n",
    "        \n",
    "        for i in range(len(alpha)):\n",
    "            P[i,:] = numpy.random.dirichlet(alpha[i,:])\n",
    "            P[i,i] = 0\n",
    "        \n",
    "        P = P/P.sum(axis=1)[:,None]\n",
    "        \n",
    "        trajectories = multi_trajectories(P, n)\n",
    "                        \n",
    "        trajectories = [np.array(traj) for traj in trajectories.keys()]\n",
    "        \n",
    "        last_min = last_min[-9:] + [min(length)]\n",
    "        \n",
    "        length = [S(trajectory, C) for trajectory in trajectories]\n",
    "        \n",
    "        gamma = np.percentile(length, rho, interpolation='lower')\n",
    "\n",
    "        trajectories_sample = [traj for i, traj in enumerate(trajectories) if length[i] <= gamma]\n",
    "        \n",
    "        couples = [[(traj[i], traj[(i+1)%degree]) for i in range(degree)] for traj in trajectories_sample]\n",
    "        \n",
    "        for i in range(degree):\n",
    "            for j in range(degree):\n",
    "                alpha[i,j] += sum([1 for couple in couples if (i,j) in couple]) \n",
    "                \n",
    "    best_traj = trajectories[min(range(len(length)), key=length.__getitem__)]\n",
    "    \n",
    "    return alpha, gamma, best_traj "
   ]
  },
  {
   "cell_type": "code",
   "execution_count": 57,
   "metadata": {
    "collapsed": false,
    "scrolled": false
   },
   "outputs": [],
   "source": [
    "alpha_bayesian, gamma_bayesian, best_traj_bayesian = bayesian_cross_entropy(D, 100)"
   ]
  },
  {
   "cell_type": "code",
   "execution_count": 58,
   "metadata": {
    "collapsed": true
   },
   "outputs": [],
   "source": [
    "%lprun -f bayesian_multi_trajectories bayesian_multi_trajectories(alpha_bayesian, 100)"
   ]
  },
  {
   "cell_type": "code",
   "execution_count": 59,
   "metadata": {
    "collapsed": false
   },
   "outputs": [],
   "source": [
    "%lprun -f bayesian_cross_entropy bayesian_cross_entropy(D, 500)"
   ]
  },
  {
   "cell_type": "code",
   "execution_count": 60,
   "metadata": {
    "collapsed": false,
    "scrolled": false
   },
   "outputs": [
    {
     "data": {
      "text/plain": [
       "<matplotlib.collections.PathCollection at 0x11edac320>"
      ]
     },
     "execution_count": 60,
     "metadata": {},
     "output_type": "execute_result"
    },
    {
     "data": {
      "image/png": "[encoded data removed]",
      "text/plain": [
       "<matplotlib.figure.Figure at 0x11eb042b0>"
      ]
     },
     "metadata": {},
     "output_type": "display_data"
    }
   ],
   "source": [
    "for i in range(len(best_traj_bayesian)):\n",
    "    plt.plot((X[best_traj_bayesian[i]][0], X[best_traj_bayesian[(i+1)%len(best_traj)]][0]), (X[best_traj_bayesian[i]][1], X[best_traj_bayesian[(i+1)%len(best_traj)]][1]))\n",
    "plt.scatter(X[:,0], X[:,1])"
   ]
  },
  {
   "cell_type": "markdown",
   "metadata": {},
   "source": [
    "4) Bonus: en fonction du temps disponible, vous pouvez tester votre algorithme\n",
    "sur de “gros” problèmes (par ex. trajet optimal du tour de France\n",
    "en se basant sur la liste des villes de l’année dernière), ou comparer à\n",
    "d’autres algorithmes que vous trouverez dans la littérature."
   ]
  },
  {
   "cell_type": "markdown",
   "metadata": {},
   "source": [
    "Faire tourner sur des villes random en France"
   ]
  },
  {
   "cell_type": "code",
   "execution_count": 76,
   "metadata": {
    "collapsed": false
   },
   "outputs": [],
   "source": [
    "import pandas as pd\n",
    "# https://opendata.paris.fr/explore/dataset/arbresremarquablesparis2011/table/\n",
    "df = pd.read_csv('arbresremarquablesparis2011.csv', sep=';')\n",
    "# arbutus ou sequoia\n",
    "df = df[df['GENRE']=='Sequoia']"
   ]
  },
  {
   "cell_type": "code",
   "execution_count": 78,
   "metadata": {
    "collapsed": false,
    "scrolled": true
   },
   "outputs": [],
   "source": [
    "geo_points = df['Geo point'].tolist()\n",
    "nb_trees = len(geo_points)\n",
    "geo_points = [(float(geo_point_str.split(',')[0]), float(geo_point_str.split(',')[1])) for geo_point_str in geo_points]"
   ]
  },
  {
   "cell_type": "code",
   "execution_count": 79,
   "metadata": {
    "collapsed": true
   },
   "outputs": [],
   "source": [
    "from math import radians, cos, sin, asin, sqrt\n",
    "def haversine(lon1, lat1, lon2, lat2):\n",
    "    \"\"\"\n",
    "    Calculate the great circle distance between two points \n",
    "    on the earth (specified in decimal degrees)\n",
    "    \"\"\"\n",
    "    # convert decimal degrees to radians \n",
    "    lon1, lat1, lon2, lat2 = map(radians, [lon1, lat1, lon2, lat2])\n",
    "    # haversine formula \n",
    "    dlon = lon2 - lon1 \n",
    "    dlat = lat2 - lat1 \n",
    "    a = sin(dlat/2)**2 + cos(lat1) * cos(lat2) * sin(dlon/2)**2\n",
    "    c = 2 * asin(sqrt(a)) \n",
    "    km = 6367 * c\n",
    "    return km"
   ]
  },
  {
   "cell_type": "code",
   "execution_count": 80,
   "metadata": {
    "collapsed": false
   },
   "outputs": [],
   "source": [
    "D_trees = numpy.empty((nb_trees,nb_trees))\n",
    "for i in range(nb_trees):\n",
    "    D_trees[i,i] = 0\n",
    "    for j in range(nb_trees):\n",
    "        lon1, lat1 = geo_points[i][0], geo_points[i][1]\n",
    "        lon2, lat2 = geo_points[j][0], geo_points[j][1]\n",
    "        D_trees[i,j] = haversine(lon1, lat1, lon2, lat2)\n",
    "        D_trees[j,i] = D_trees[i,j]"
   ]
  },
  {
   "cell_type": "code",
   "execution_count": null,
   "metadata": {
    "collapsed": false,
    "scrolled": true
   },
   "outputs": [],
   "source": [
    "alpha, gamma, best_traj = cross_entropy(D_trees, 1500)"
   ]
  },
  {
   "cell_type": "code",
   "execution_count": null,
   "metadata": {
    "collapsed": false
   },
   "outputs": [],
   "source": [
    "import folium\n",
    "from IPython.display import HTML\n",
    "\n",
    "map_osm = folium.Map(location=[48.85, 2.34])\n",
    "\n",
    "polyline_best_traj = [geo_points[point] for point in best_traj] + [geo_points[0]]\n",
    "\n",
    "for i in range(len(geo_points)-1):\n",
    "    folium.Marker(geo_points[i], popup='Sequoia').add_to(map_osm)\n",
    "\n",
    "folium.PolyLine(polyline_best_traj, color=\"red\", weight=2.5, opacity=1).add_to(map_osm)\n",
    "\n",
    "map_osm"
   ]
  },
  {
   "cell_type": "code",
   "execution_count": null,
   "metadata": {
    "collapsed": true
   },
   "outputs": [],
   "source": []
  },
  {
   "cell_type": "code",
   "execution_count": null,
   "metadata": {
    "collapsed": true
   },
   "outputs": [],
   "source": []
  }
 ],
 "metadata": {
  "kernelspec": {
   "display_name": "Python 3",
   "language": "python",
   "name": "python3"
  },
  "language_info": {
   "codemirror_mode": {
    "name": "ipython",
    "version": 3
   },
   "file_extension": ".py",
   "mimetype": "text/x-python",
   "name": "python",
   "nbconvert_exporter": "python",
   "pygments_lexer": "ipython3",
   "version": "3.5.3"
  }
 },
 "nbformat": 4,
 "nbformat_minor": 0
}
