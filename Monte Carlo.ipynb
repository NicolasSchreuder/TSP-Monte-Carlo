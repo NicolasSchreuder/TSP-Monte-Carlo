{
 "cells": [
  {
   "cell_type": "markdown",
   "metadata": {},
   "source": [
    "# Le voyageur de commerce\n",
    "\n",
    "Ce projet est inspiré du Chapitre 4 du livre “The Cross-Entropy Method” de\n",
    "Rubinstein et Kroese.\n",
    "\n",
    "Le problème du voyageur de commerce (en anglais, TSP, travelling salesman\n",
    "problem) revient à minimiser le trajet effectué entre M villes, sous la contrainte\n",
    "de passer par chaque ville exactement une fois. Soit D la matrice telle que Dij\n",
    "est la distance entre la ville i et la ville j; noter que Dii = 0 et D est symétrique."
   ]
  },
  {
   "cell_type": "markdown",
   "metadata": {},
   "source": [
    "1) Rappeler (ou retrouver!) la méthode permettant de simuler efficacement\n",
    "N vecteurs selon la loi Multinomiale définie par le vecteur de probabilité\n",
    "p = (p1, . . . , pM). La mettre en œuvre."
   ]
  },
  {
   "cell_type": "code",
   "execution_count": 1,
   "metadata": {
    "collapsed": false
   },
   "outputs": [
    {
     "name": "stdout",
     "output_type": "stream",
     "text": [
      "Populating the interactive namespace from numpy and matplotlib\n"
     ]
    }
   ],
   "source": [
    "import matplotlib.pyplot as plt\n",
    "import seaborn\n",
    "%pylab inline"
   ]
  },
  {
   "cell_type": "code",
   "execution_count": 2,
   "metadata": {
    "collapsed": false
   },
   "outputs": [
    {
     "data": {
      "text/plain": [
       "(array([ 1012.,   991.,   962.,  1036.,  1031.,   996.,   958.,  1036.,\n",
       "         1005.,   973.]),\n",
       " array([  1.14534885e-04,   1.00094302e-01,   2.00074070e-01,\n",
       "          3.00053837e-01,   4.00033604e-01,   5.00013371e-01,\n",
       "          5.99993139e-01,   6.99972906e-01,   7.99952673e-01,\n",
       "          8.99932441e-01,   9.99912208e-01]),\n",
       " <a list of 10 Patch objects>)"
      ]
     },
     "execution_count": 2,
     "metadata": {},
     "output_type": "execute_result"
    },
    {
     "data": {
      "image/png": "[encoded data removed]",
      "text/plain": [
       "<matplotlib.figure.Figure at 0x10221ff28>"
      ]
     },
     "metadata": {},
     "output_type": "display_data"
    }
   ],
   "source": [
    "from scipy.stats import expon\n",
    "def sorted_uniforms(N):\n",
    "    \"\"\"\n",
    "    Returns N sorted uniforms\n",
    "    \"\"\"\n",
    "    E = expon.rvs(size=N+1)\n",
    "    V = [sum(E[:i+1]) for i in range(N+1)]\n",
    "    return V[:-1]/V[-1]\n",
    "\n",
    "\n",
    "plt.hist(sorted_uniforms(10000))"
   ]
  },
  {
   "cell_type": "code",
   "execution_count": 3,
   "metadata": {
    "collapsed": false
   },
   "outputs": [],
   "source": [
    "def multinomial(P, N):    \n",
    "    su = sorted_uniforms(N)\n",
    "    j = 0\n",
    "    s = P[0]\n",
    "    A = []\n",
    "    for n in range(N):\n",
    "        while su[n] > s:\n",
    "            j += 1\n",
    "            s += P[j]\n",
    "        A += [j]\n",
    "    return A"
   ]
  },
  {
   "cell_type": "code",
   "execution_count": 4,
   "metadata": {
    "collapsed": false
   },
   "outputs": [
    {
     "data": {
      "text/plain": [
       "(array([ 1255.,     0.,  1292.,     0.,     0.,  1216.,     0.,   642.,\n",
       "            0.,   595.]),\n",
       " array([ 0. ,  0.4,  0.8,  1.2,  1.6,  2. ,  2.4,  2.8,  3.2,  3.6,  4. ]),\n",
       " <a list of 10 Patch objects>)"
      ]
     },
     "execution_count": 4,
     "metadata": {},
     "output_type": "execute_result"
    },
    {
     "data": {
      "image/png": "[encoded data removed]",
      "text/plain": [
       "<matplotlib.figure.Figure at 0x114944ba8>"
      ]
     },
     "metadata": {},
     "output_type": "display_data"
    }
   ],
   "source": [
    "P = [1/4, 1/4, 1/4, 1/8, 1/8]\n",
    "plt.hist(multinomial(P, 5000))"
   ]
  },
  {
   "cell_type": "code",
   "execution_count": 5,
   "metadata": {
    "collapsed": false
   },
   "outputs": [
    {
     "data": {
      "text/plain": [
       "[0, 0, 1, 1, 2, 2, 2, 4, 4, 4]"
      ]
     },
     "execution_count": 5,
     "metadata": {},
     "output_type": "execute_result"
    }
   ],
   "source": [
    "multinomial(P, 10)"
   ]
  },
  {
   "cell_type": "markdown",
   "metadata": {},
   "source": [
    "2) Utiliser l’algorithme CE vu en cours pour résoudre le problème TSP. Pour\n",
    "ce faire, proposer une famille paramétrique de lois pour la simulation de\n",
    "trajets. Programmer cet algorithme, et le tester sur quelques exemples."
   ]
  },
  {
   "cell_type": "code",
   "execution_count": 412,
   "metadata": {
    "collapsed": false
   },
   "outputs": [
    {
     "data": {
      "text/plain": [
       "array([[ 0, 10, 17, 15, 18, 15, 15, 16,  7, 14, 13, 12, 19, 25,  9],\n",
       "       [10,  0, 17, 15, 11,  8, 10, 12, 14, 19, 16, 14, 13, 18, 12],\n",
       "       [17, 17,  0, 19, 13, 13, 16, 16, 15, 12, 16, 11, 13, 10,  9],\n",
       "       [15, 15, 19,  0, 15, 11, 20, 15, 16, 12, 19, 21, 19,  9, 19],\n",
       "       [18, 11, 13, 15,  0, 17, 18, 20, 11, 11, 19, 22, 11, 12,  9],\n",
       "       [15,  8, 13, 11, 17,  0, 13, 17, 14, 10, 12,  7, 12, 14, 15],\n",
       "       [15, 10, 16, 20, 18, 13,  0,  9, 16, 18, 13, 12, 14, 13, 15],\n",
       "       [16, 12, 16, 15, 20, 17,  9,  0, 15, 19, 13, 15, 21, 13, 14],\n",
       "       [ 7, 14, 15, 16, 11, 14, 16, 15,  0, 17, 12, 17, 17, 13, 10],\n",
       "       [14, 19, 12, 12, 11, 10, 18, 19, 17,  0, 10,  7, 14, 15, 10],\n",
       "       [13, 16, 16, 19, 19, 12, 13, 13, 12, 10,  0, 11,  9, 20,  8],\n",
       "       [12, 14, 11, 21, 22,  7, 12, 15, 17,  7, 11,  0, 20, 10, 17],\n",
       "       [19, 13, 13, 19, 11, 12, 14, 21, 17, 14,  9, 20,  0, 15, 13],\n",
       "       [25, 18, 10,  9, 12, 14, 13, 13, 13, 15, 20, 10, 15,  0,  6],\n",
       "       [ 9, 12,  9, 19,  9, 15, 15, 14, 10, 10,  8, 17, 13,  6,  0]])"
      ]
     },
     "execution_count": 412,
     "metadata": {},
     "output_type": "execute_result"
    }
   ],
   "source": [
    "# Random distance matrix\n",
    "number_of_cities = 15\n",
    "C = np.reshape(np.random.poisson(number_of_cities, number_of_cities**2), (number_of_cities,number_of_cities))\n",
    "for i in range(len(C)):\n",
    "    C[i,i] = 0\n",
    "    for j in range(len(C)):\n",
    "        C[i,j] = C[j, i]\n",
    "C"
   ]
  },
  {
   "cell_type": "code",
   "execution_count": 413,
   "metadata": {
    "collapsed": false
   },
   "outputs": [
    {
     "data": {
      "text/plain": [
       "array([[  0.00000000e+00,   8.14901089e-02,   6.84080294e-02,\n",
       "          1.31225653e-01,   2.11152474e-02,   1.34379706e-01,\n",
       "          7.30209827e-02,   1.49993966e-01,   3.68515975e-03,\n",
       "          2.55710149e-02,   6.65141065e-02,   2.17133914e-02,\n",
       "          1.16829885e-01,   2.95712970e-02,   7.64814532e-02],\n",
       "       [  8.59739939e-02,   0.00000000e+00,   5.47039946e-02,\n",
       "          1.22021032e-01,   1.11211724e-01,   8.00309376e-02,\n",
       "          9.21018742e-02,   5.94167473e-02,   1.79031022e-02,\n",
       "          1.26119054e-01,   5.32433316e-02,   6.69011670e-02,\n",
       "          5.98923319e-03,   1.58426574e-02,   1.08541151e-01],\n",
       "       [  8.07525229e-02,   3.55062890e-02,   0.00000000e+00,\n",
       "          1.68767726e-02,   1.05038104e-04,   6.36930459e-02,\n",
       "          9.06384548e-02,   6.24316621e-02,   1.35817028e-01,\n",
       "          7.16300584e-02,   1.35016312e-01,   8.12771286e-02,\n",
       "          2.81100284e-02,   1.07169740e-01,   9.09759192e-02],\n",
       "       [  1.19277536e-01,   1.55647088e-02,   6.46610484e-02,\n",
       "          0.00000000e+00,   3.73366951e-02,   5.47362890e-02,\n",
       "          3.77992367e-02,   1.08331142e-01,   4.67451202e-02,\n",
       "          4.56366401e-02,   1.13243724e-01,   1.18496601e-01,\n",
       "          1.17008083e-01,   3.64247208e-02,   8.47384552e-02],\n",
       "       [  7.32968857e-02,   1.36072202e-01,   1.21795311e-01,\n",
       "          1.43279177e-01,   0.00000000e+00,   7.25703821e-02,\n",
       "          2.10468295e-02,   7.84334054e-02,   3.31387934e-02,\n",
       "          5.11453055e-02,   2.56113350e-02,   3.06184032e-02,\n",
       "          1.08932664e-01,   9.20385555e-02,   1.20207515e-02],\n",
       "       [  1.62875522e-01,   1.14607061e-02,   1.14032261e-02,\n",
       "          1.50748048e-01,   4.33852829e-02,   0.00000000e+00,\n",
       "          4.46850769e-02,   1.56069478e-01,   1.24252791e-01,\n",
       "          6.45459446e-04,   5.56017458e-02,   2.76781351e-02,\n",
       "          1.04206684e-01,   4.06370613e-02,   6.63507828e-02],\n",
       "       [  5.56534241e-02,   1.20857397e-01,   1.08993518e-01,\n",
       "          9.40163648e-02,   9.04760985e-02,   5.28849061e-02,\n",
       "          0.00000000e+00,   9.83321080e-03,   1.72377351e-01,\n",
       "          1.40591119e-03,   6.54363577e-02,   8.15801857e-02,\n",
       "          7.96933122e-02,   5.67507608e-02,   1.00412021e-02],\n",
       "       [  4.71913308e-03,   3.17690949e-02,   4.76004041e-02,\n",
       "          1.07830411e-01,   1.14051711e-01,   5.60888032e-02,\n",
       "          8.11270246e-02,   0.00000000e+00,   7.20947877e-02,\n",
       "          7.80267748e-02,   1.03312494e-01,   4.02397202e-02,\n",
       "          1.00663043e-01,   1.18343065e-01,   4.41335338e-02],\n",
       "       [  8.15762628e-02,   3.84334955e-02,   1.23808193e-01,\n",
       "          3.15779475e-02,   5.15997570e-02,   6.15936465e-02,\n",
       "          1.12659664e-01,   6.88993341e-02,   0.00000000e+00,\n",
       "          9.45970338e-02,   4.95057861e-02,   8.42139627e-02,\n",
       "          7.08025756e-02,   7.00855345e-03,   1.23723788e-01],\n",
       "       [  1.11726636e-01,   3.47746296e-02,   9.13348693e-02,\n",
       "          5.35108692e-02,   1.05499359e-01,   5.86673892e-02,\n",
       "          4.08632920e-02,   7.35805438e-02,   5.17707379e-02,\n",
       "          0.00000000e+00,   1.70171581e-02,   5.42389766e-02,\n",
       "          1.12127211e-01,   8.90140604e-02,   1.05874268e-01],\n",
       "       [  6.24295671e-02,   6.83452736e-02,   8.00919565e-02,\n",
       "          9.22861010e-02,   3.15581729e-02,   3.78564092e-03,\n",
       "          9.84030479e-02,   3.11670034e-02,   1.07274897e-01,\n",
       "          1.20709382e-01,   0.00000000e+00,   8.44334224e-02,\n",
       "          4.88707906e-02,   9.64677343e-02,   7.41770107e-02],\n",
       "       [  8.00907541e-02,   2.07527884e-02,   4.46153646e-02,\n",
       "          2.35318671e-02,   9.06685680e-02,   1.58321238e-01,\n",
       "          5.56789982e-04,   1.45204420e-01,   3.36547642e-02,\n",
       "          3.63261228e-02,   2.39968515e-02,   0.00000000e+00,\n",
       "          8.54261806e-02,   1.08210267e-01,   1.48644023e-01],\n",
       "       [  4.36890394e-02,   1.17439002e-01,   4.78709501e-03,\n",
       "          7.96039365e-02,   1.22473226e-01,   5.09519524e-02,\n",
       "          9.05828500e-02,   1.04685788e-01,   1.31751701e-02,\n",
       "          8.01132583e-02,   6.10635884e-02,   1.11709137e-01,\n",
       "          0.00000000e+00,   2.01919161e-02,   9.95340411e-02],\n",
       "       [  5.75728446e-02,   1.12555374e-01,   8.87191376e-02,\n",
       "          3.61855470e-02,   3.57145743e-02,   7.24599972e-02,\n",
       "          1.28481222e-01,   9.26867507e-03,   5.86591132e-02,\n",
       "          8.16314938e-02,   1.32657589e-01,   1.29045057e-02,\n",
       "          5.98159171e-02,   0.00000000e+00,   1.13374011e-01],\n",
       "       [  7.10492738e-02,   6.21322718e-02,   4.62743329e-02,\n",
       "          9.15529893e-02,   2.81019923e-02,   1.96837448e-02,\n",
       "          1.24975282e-01,   1.34975516e-01,   1.30370604e-01,\n",
       "          1.93385924e-02,   5.89134346e-03,   1.05434612e-01,\n",
       "          1.42415279e-01,   1.78041662e-02,   0.00000000e+00]])"
      ]
     },
     "execution_count": 413,
     "metadata": {},
     "output_type": "execute_result"
    }
   ],
   "source": [
    "from sklearn.preprocessing import normalize\n",
    "P = np.reshape(np.random.rand(number_of_cities**2), (number_of_cities,number_of_cities))\n",
    "for i in range(number_of_cities): \n",
    "    P[i,i] = 0\n",
    "P = P/P.sum(axis=1)[:,None]\n",
    "P"
   ]
  },
  {
   "cell_type": "code",
   "execution_count": 414,
   "metadata": {
    "collapsed": false
   },
   "outputs": [],
   "source": [
    "def trajectory(P):\n",
    "    P_ = P.copy()\n",
    "    X = np.zeros(len(P), np.int8)\n",
    "    for i in range(len(P)-1):\n",
    "        P_[:,X[i]] = 0\n",
    "        P_ = P_/P_.sum(axis=1)[:,None]\n",
    "        X[i+1] = multinomial(P_[X[i],:], 1)[0]\n",
    "    return X\n",
    "X = trajectory(P)"
   ]
  },
  {
   "cell_type": "code",
   "execution_count": 415,
   "metadata": {
    "collapsed": true
   },
   "outputs": [],
   "source": [
    "def multi_trajectories(P, N):\n",
    "    return [trajectory(P) for i in range(N)]"
   ]
  },
  {
   "cell_type": "code",
   "execution_count": 416,
   "metadata": {
    "collapsed": false,
    "scrolled": true
   },
   "outputs": [
    {
     "data": {
      "text/plain": [
       "213"
      ]
     },
     "execution_count": 416,
     "metadata": {},
     "output_type": "execute_result"
    }
   ],
   "source": [
    "def S(X, C):\n",
    "    return sum([C[X[i], X[i+1]] for i in range(len(X)-1)])\n",
    "\n",
    "S(X,C)"
   ]
  },
  {
   "cell_type": "code",
   "execution_count": 417,
   "metadata": {
    "collapsed": true
   },
   "outputs": [],
   "source": [
    "def init_P(size):\n",
    "    P = np.ones((size, size))/(size-1)\n",
    "    for i in range(size):\n",
    "        P[i,i]=0\n",
    "    return P"
   ]
  },
  {
   "cell_type": "code",
   "execution_count": 429,
   "metadata": {
    "collapsed": false
   },
   "outputs": [],
   "source": [
    "def CE(C, n, rho=0.5):\n",
    "    degree = len(C)\n",
    "    \n",
    "    P = init_P(degree)\n",
    "    \n",
    "    trajectories = multi_trajectories(P, n)\n",
    "        \n",
    "    length = [S(trajectory, C) for trajectory in trajectories]\n",
    "    \n",
    "    gamma = np.percentile(length, rho, interpolation='lower')\n",
    "    \n",
    "    trajectories_sample = [traj for traj in trajectories if S(traj, C) <= gamma]\n",
    "        \n",
    "    P = np.zeros(P.shape)\n",
    "    \n",
    "    couples = [(traj[-1], traj[0]) + [(traj[i], traj[i+1]) for i in range(degree-1)] for traj in trajectories_sample]\n",
    "    \n",
    "    for i in range(degree):\n",
    "        for j in range(degree):\n",
    "            P[i,j] = sum([1 for couple in couples if (i,j) in couple])/len(trajectories_sample)\n",
    "    return P, gamma"
   ]
  },
  {
   "cell_type": "code",
   "execution_count": 430,
   "metadata": {
    "collapsed": false
   },
   "outputs": [
    {
     "data": {
      "text/plain": [
       "(array([[ 0.        ,  0.16666667,  0.        ,  0.16666667,  0.        ,\n",
       "          0.        ,  0.16666667,  0.16666667,  0.        ,  0.16666667,\n",
       "          0.        ,  0.16666667,  0.        ,  0.        ,  0.        ],\n",
       "        [ 0.        ,  0.        ,  0.        ,  0.        ,  0.16666667,\n",
       "          0.16666667,  0.16666667,  0.        ,  0.        ,  0.        ,\n",
       "          0.        ,  0.        ,  0.16666667,  0.16666667,  0.16666667],\n",
       "        [ 0.        ,  0.        ,  0.        ,  0.        ,  0.        ,\n",
       "          0.        ,  0.33333333,  0.16666667,  0.16666667,  0.16666667,\n",
       "          0.        ,  0.        ,  0.        ,  0.        ,  0.16666667],\n",
       "        [ 0.        ,  0.33333333,  0.        ,  0.        ,  0.        ,\n",
       "          0.        ,  0.        ,  0.        ,  0.16666667,  0.        ,\n",
       "          0.        ,  0.        ,  0.        ,  0.        ,  0.        ],\n",
       "        [ 0.        ,  0.        ,  0.16666667,  0.        ,  0.        ,\n",
       "          0.        ,  0.        ,  0.        ,  0.33333333,  0.        ,\n",
       "          0.        ,  0.        ,  0.33333333,  0.16666667,  0.        ],\n",
       "        [ 0.        ,  0.        ,  0.        ,  0.16666667,  0.16666667,\n",
       "          0.        ,  0.        ,  0.        ,  0.        ,  0.16666667,\n",
       "          0.        ,  0.33333333,  0.16666667,  0.        ,  0.        ],\n",
       "        [ 0.        ,  0.16666667,  0.        ,  0.        ,  0.        ,\n",
       "          0.        ,  0.        ,  0.33333333,  0.        ,  0.        ,\n",
       "          0.        ,  0.33333333,  0.        ,  0.16666667,  0.        ],\n",
       "        [ 0.        ,  0.16666667,  0.        ,  0.        ,  0.        ,\n",
       "          0.        ,  0.33333333,  0.        ,  0.        ,  0.        ,\n",
       "          0.        ,  0.        ,  0.16666667,  0.16666667,  0.        ],\n",
       "        [ 0.        ,  0.16666667,  0.33333333,  0.33333333,  0.        ,\n",
       "          0.        ,  0.        ,  0.        ,  0.        ,  0.        ,\n",
       "          0.        ,  0.        ,  0.        ,  0.        ,  0.        ],\n",
       "        [ 0.        ,  0.        ,  0.        ,  0.        ,  0.        ,\n",
       "          0.33333333,  0.        ,  0.        ,  0.        ,  0.        ,\n",
       "          0.33333333,  0.16666667,  0.        ,  0.16666667,  0.        ],\n",
       "        [ 0.        ,  0.        ,  0.        ,  0.        ,  0.        ,\n",
       "          0.16666667,  0.        ,  0.16666667,  0.16666667,  0.        ,\n",
       "          0.        ,  0.        ,  0.        ,  0.        ,  0.5       ],\n",
       "        [ 0.        ,  0.        ,  0.33333333,  0.        ,  0.        ,\n",
       "          0.        ,  0.        ,  0.16666667,  0.        ,  0.16666667,\n",
       "          0.        ,  0.        ,  0.16666667,  0.        ,  0.        ],\n",
       "        [ 0.        ,  0.        ,  0.        ,  0.        ,  0.        ,\n",
       "          0.33333333,  0.        ,  0.        ,  0.        ,  0.        ,\n",
       "          0.66666667,  0.        ,  0.        ,  0.        ,  0.        ],\n",
       "        [ 0.        ,  0.        ,  0.16666667,  0.33333333,  0.16666667,\n",
       "          0.        ,  0.        ,  0.        ,  0.16666667,  0.        ,\n",
       "          0.        ,  0.        ,  0.        ,  0.        ,  0.16666667],\n",
       "        [ 0.        ,  0.        ,  0.        ,  0.        ,  0.5       ,\n",
       "          0.        ,  0.        ,  0.        ,  0.        ,  0.33333333,\n",
       "          0.        ,  0.        ,  0.        ,  0.16666667,  0.        ]]),\n",
       " 166)"
      ]
     },
     "execution_count": 430,
     "metadata": {},
     "output_type": "execute_result"
    }
   ],
   "source": [
    "CE(C, 1000)"
   ]
  },
  {
   "cell_type": "markdown",
   "metadata": {},
   "source": [
    "3) Concernant l’estimation bayésienne de vecteurs de probabilité d’une loi\n",
    "multinomiale, retrouver le fait que la famille des lois de Dirichlet est\n",
    "conjuguée pour ce modèle. Expliquer comment en pratique vous pouvez\n",
    "utiliser cette propriété pour améliorer votre algorithme."
   ]
  },
  {
   "cell_type": "markdown",
   "metadata": {},
   "source": [
    "4) Bonus: en fonction du temps disponible, vous pouvez tester votre algorithme\n",
    "sur de “gros” problèmes (par ex. trajet optimal du tour de France\n",
    "en se basant sur la liste des villes de l’année dernière), ou comparer à\n",
    "d’autres algorithmes que vous trouverez dans la littérature."
   ]
  },
  {
   "cell_type": "code",
   "execution_count": 322,
   "metadata": {
    "collapsed": false
   },
   "outputs": [
    {
     "data": {
      "text/plain": [
       "1"
      ]
     },
     "execution_count": 322,
     "metadata": {},
     "output_type": "execute_result"
    }
   ],
   "source": [
    "l = [1,2]\n",
    "percentile(l, 0.5, interpolation='lower')"
   ]
  },
  {
   "cell_type": "code",
   "execution_count": null,
   "metadata": {
    "collapsed": true
   },
   "outputs": [],
   "source": []
  }
 ],
 "metadata": {
  "kernelspec": {
   "display_name": "Python 3",
   "language": "python",
   "name": "python3"
  },
  "language_info": {
   "codemirror_mode": {
    "name": "ipython",
    "version": 3
   },
   "file_extension": ".py",
   "mimetype": "text/x-python",
   "name": "python",
   "nbconvert_exporter": "python",
   "pygments_lexer": "ipython3",
   "version": "3.5.2"
  }
 },
 "nbformat": 4,
 "nbformat_minor": 0
}
