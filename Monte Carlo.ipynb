{
 "cells": [
  {
   "cell_type": "markdown",
   "metadata": {},
   "source": [
    "# Le voyageur de commerce\n",
    "\n",
    "Ce projet est inspiré du Chapitre 4 du livre “The Cross-Entropy Method” de\n",
    "Rubinstein et Kroese.\n",
    "\n",
    "Le problème du voyageur de commerce (en anglais, TSP, travelling salesman\n",
    "problem) revient à minimiser le trajet effectué entre M villes, sous la contrainte\n",
    "de passer par chaque ville exactement une fois. Soit D la matrice telle que Dij\n",
    "est la distance entre la ville i et la ville j; noter que Dii = 0 et D est symétrique."
   ]
  },
  {
   "cell_type": "markdown",
   "metadata": {},
   "source": [
    "1) Rappeler (ou retrouver!) la méthode permettant de simuler efficacement\n",
    "N vecteurs selon la loi Multinomiale définie par le vecteur de probabilité\n",
    "p = (p1, . . . , pM). La mettre en œuvre."
   ]
  },
  {
   "cell_type": "code",
   "execution_count": null,
   "metadata": {
    "collapsed": true
   },
   "outputs": [],
   "source": []
  },
  {
   "cell_type": "markdown",
   "metadata": {},
   "source": [
    "2) Utiliser l’algorithme CE vu en cours pour résoudre le problème TSP. Pour\n",
    "ce faire, proposer une famille paramétrique de lois pour la simulation de\n",
    "trajets. Programmer cet algorithme, et le tester sur quelques exemples."
   ]
  },
  {
   "cell_type": "code",
   "execution_count": null,
   "metadata": {
    "collapsed": true
   },
   "outputs": [],
   "source": []
  },
  {
   "cell_type": "markdown",
   "metadata": {},
   "source": [
    "3) Concernant l’estimation bayésienne de vecteurs de probabilité d’une loi\n",
    "multinomiale, retrouver le fait que la famille des lois de Dirichlet est\n",
    "conjuguée pour ce modèle. Expliquer comment en pratique vous pouvez\n",
    "utiliser cette propriété pour améliorer votre algorithme."
   ]
  },
  {
   "cell_type": "code",
   "execution_count": null,
   "metadata": {
    "collapsed": true
   },
   "outputs": [],
   "source": []
  },
  {
   "cell_type": "markdown",
   "metadata": {},
   "source": [
    "4) Bonus: en fonction du temps disponible, vous pouvez tester votre algorithme\n",
    "sur de “gros” problèmes (par ex. trajet optimal du tour de France\n",
    "en se basant sur la liste des villes de l’année dernière), ou comparer à\n",
    "d’autres algorithmes que vous trouverez dans la littérature."
   ]
  },
  {
   "cell_type": "code",
   "execution_count": null,
   "metadata": {
    "collapsed": true
   },
   "outputs": [],
   "source": []
  }
 ],
 "metadata": {
  "kernelspec": {
   "display_name": "R",
   "language": "R",
   "name": "ir"
  },
  "language_info": {
   "codemirror_mode": "r",
   "file_extension": ".r",
   "mimetype": "text/x-r-source",
   "name": "R",
   "pygments_lexer": "r",
   "version": "3.3.2"
  }
 },
 "nbformat": 4,
 "nbformat_minor": 0
}
