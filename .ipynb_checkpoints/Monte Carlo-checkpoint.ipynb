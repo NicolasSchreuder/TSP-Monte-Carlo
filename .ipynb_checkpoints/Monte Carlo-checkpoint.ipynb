{
 "cells": [
  {
   "cell_type": "markdown",
   "metadata": {},
   "source": [
    "# Le voyageur de commerce\n",
    "\n",
    "Ce projet est inspiré du Chapitre 4 du livre “The Cross-Entropy Method” de\n",
    "Rubinstein et Kroese.\n",
    "\n",
    "Le problème du voyageur de commerce (en anglais, TSP, travelling salesman\n",
    "problem) revient à minimiser le trajet effectué entre M villes, sous la contrainte\n",
    "de passer par chaque ville exactement une fois. Soit D la matrice telle que Dij\n",
    "est la distance entre la ville i et la ville j; noter que Dii = 0 et D est symétrique."
   ]
  },
  {
   "cell_type": "markdown",
   "metadata": {},
   "source": [
    "1) Rappeler (ou retrouver!) la méthode permettant de simuler efficacement\n",
    "N vecteurs selon la loi Multinomiale définie par le vecteur de probabilité\n",
    "p = (p1, . . . , pM). La mettre en œuvre."
   ]
  },
  {
   "cell_type": "code",
   "execution_count": 1,
   "metadata": {
    "collapsed": false
   },
   "outputs": [
    {
     "name": "stdout",
     "output_type": "stream",
     "text": [
      "Populating the interactive namespace from numpy and matplotlib\n"
     ]
    }
   ],
   "source": [
    "import matplotlib.pyplot as plt\n",
    "import seaborn\n",
    "%pylab inline\n",
    "from scipy.stats import expon"
   ]
  },
  {
   "cell_type": "code",
   "execution_count": 2,
   "metadata": {
    "collapsed": false
   },
   "outputs": [
    {
     "data": {
      "text/plain": [
       "(array([ 1063.,   964.,   972.,   975.,  1009.,   945.,  1057.,  1019.,\n",
       "          982.,  1014.]),\n",
       " array([  1.61721886e-05,   1.00012652e-01,   2.00009131e-01,\n",
       "          3.00005611e-01,   4.00002090e-01,   4.99998570e-01,\n",
       "          5.99995049e-01,   6.99991529e-01,   7.99988008e-01,\n",
       "          8.99984488e-01,   9.99980967e-01]),\n",
       " <a list of 10 Patch objects>)"
      ]
     },
     "execution_count": 2,
     "metadata": {},
     "output_type": "execute_result"
    },
    {
     "data": {
      "image/png": "[encoded data removed]",
      "text/plain": [
       "<matplotlib.figure.Figure at 0x10290a2e8>"
      ]
     },
     "metadata": {},
     "output_type": "display_data"
    }
   ],
   "source": [
    "def sorted_uniforms(N):\n",
    "    \"\"\"\n",
    "    Returns N sorted uniforms\n",
    "    \"\"\"\n",
    "    E = expon.rvs(size=N+1)\n",
    "    V = [sum(E[:i+1]) for i in range(N+1)]\n",
    "    return V[:-1]/V[-1]\n",
    "\n",
    "plt.hist(sorted_uniforms(10000))"
   ]
  },
  {
   "cell_type": "code",
   "execution_count": 3,
   "metadata": {
    "collapsed": false
   },
   "outputs": [],
   "source": [
    "def multinomial(P, N):\n",
    "    \"\"\"\n",
    "    Returns a vector of N multinomials\n",
    "    \"\"\"\n",
    "    su = sorted_uniforms(N)\n",
    "    j = 0\n",
    "    s = P[0]\n",
    "    A = [0]\n",
    "    for n in range(N):\n",
    "        while su[n] > s:\n",
    "            j += 1\n",
    "            A += [0]\n",
    "            s += P[j]\n",
    "        A[j] += 1\n",
    "        \n",
    "    return A"
   ]
  },
  {
   "cell_type": "code",
   "execution_count": 4,
   "metadata": {
    "collapsed": false,
    "scrolled": false
   },
   "outputs": [
    {
     "name": "stdout",
     "output_type": "stream",
     "text": [
      "[2, 1, 2, 3, 2]\n"
     ]
    }
   ],
   "source": [
    "P = [1/4, 1/4, 1/4, 1/8, 1/8]\n",
    "print(multinomial(P, 10))"
   ]
  },
  {
   "cell_type": "code",
   "execution_count": 5,
   "metadata": {
    "collapsed": false
   },
   "outputs": [
    {
     "name": "stdout",
     "output_type": "stream",
     "text": [
      "10 loops, best of 3: 79.7 ms per loop\n"
     ]
    }
   ],
   "source": [
    "%timeit multinomial(P, 10000)"
   ]
  },
  {
   "cell_type": "code",
   "execution_count": 6,
   "metadata": {
    "collapsed": false
   },
   "outputs": [
    {
     "name": "stdout",
     "output_type": "stream",
     "text": [
      "The slowest run took 82.25 times longer than the fastest. This could mean that an intermediate result is being cached.\n",
      "100000 loops, best of 3: 3.79 µs per loop\n"
     ]
    }
   ],
   "source": [
    "%timeit np.random.multinomial(10000, P, size=1)"
   ]
  },
  {
   "cell_type": "markdown",
   "metadata": {},
   "source": [
    "2) Utiliser l’algorithme CE vu en cours pour résoudre le problème TSP. Pour\n",
    "ce faire, proposer une famille paramétrique de lois pour la simulation de\n",
    "trajets. Programmer cet algorithme, et le tester sur quelques exemples."
   ]
  },
  {
   "cell_type": "code",
   "execution_count": 7,
   "metadata": {
    "collapsed": false
   },
   "outputs": [
    {
     "data": {
      "text/plain": [
       "array([[ 0.        ,  0.1312541 ,  0.10659338,  0.14977361,  0.10696381,\n",
       "         0.07516002,  0.02878116,  0.06621534,  0.16534328,  0.16991529],\n",
       "       [ 0.03028431,  0.        ,  0.14734954,  0.15126908,  0.15920492,\n",
       "         0.14990666,  0.01412571,  0.146928  ,  0.07337   ,  0.12756178],\n",
       "       [ 0.08928972,  0.10516343,  0.        ,  0.11632242,  0.10738293,\n",
       "         0.15717932,  0.14010253,  0.16865742,  0.08897831,  0.02692393],\n",
       "       [ 0.17925036,  0.06729467,  0.10326092,  0.        ,  0.16269343,\n",
       "         0.04677209,  0.14048841,  0.03872311,  0.13458573,  0.12693127],\n",
       "       [ 0.03210101,  0.10740163,  0.06606921,  0.20392281,  0.        ,\n",
       "         0.02719764,  0.17357611,  0.10800649,  0.20737466,  0.07435044],\n",
       "       [ 0.05200523,  0.16429564,  0.21852188,  0.24264092,  0.04743097,\n",
       "         0.        ,  0.01489361,  0.16732612,  0.08753591,  0.00534971],\n",
       "       [ 0.18217453,  0.00491376,  0.20544917,  0.00587128,  0.15902025,\n",
       "         0.15403195,  0.        ,  0.08551042,  0.09453023,  0.10849842],\n",
       "       [ 0.25822846,  0.05375549,  0.07765197,  0.09785724,  0.00618306,\n",
       "         0.03281928,  0.24240235,  0.        ,  0.02538813,  0.20571401],\n",
       "       [ 0.04713664,  0.23321388,  0.28040499,  0.26654293,  0.06634328,\n",
       "         0.00617691,  0.00747035,  0.02405783,  0.        ,  0.0686532 ],\n",
       "       [ 0.13007897,  0.0425104 ,  0.1119594 ,  0.16205854,  0.15128128,\n",
       "         0.02520922,  0.0759715 ,  0.16105388,  0.1398768 ,  0.        ]])"
      ]
     },
     "execution_count": 7,
     "metadata": {},
     "output_type": "execute_result"
    }
   ],
   "source": [
    "# Random distance matrix\n",
    "number_of_cities = 10\n",
    "D = np.reshape(np.random.exponential(number_of_cities, number_of_cities**2), (number_of_cities,number_of_cities))\n",
    "for i in range(number_of_cities):\n",
    "    D[i,i] = 0\n",
    "    for j in range(number_of_cities):\n",
    "        D[i,j] = D[j, i]\n",
    "\n",
    "# Random transition matrix\n",
    "from sklearn.preprocessing import normalize\n",
    "P = np.reshape(np.random.rand(number_of_cities**2), (number_of_cities,number_of_cities))\n",
    "for i in range(number_of_cities): \n",
    "    P[i,i] = 0\n",
    "P = P/P.sum(axis=1)[:,None]\n",
    "P"
   ]
  },
  {
   "cell_type": "code",
   "execution_count": 8,
   "metadata": {
    "collapsed": false
   },
   "outputs": [],
   "source": [
    "def trajectory(P):\n",
    "    \"\"\"\n",
    "    \n",
    "    \"\"\"\n",
    "    P_ = P.copy()\n",
    "    X = np.zeros(len(P), np.int8)\n",
    "    for i in range(len(P)-1):\n",
    "        P_[:,X[i]] = 0\n",
    "        P_ = P_/P_.sum(axis=1)[:,None]\n",
    "        X[i+1] = multinomial(P_[X[i],:], 1)[0]\n",
    "    return X\n",
    "\n",
    "X = trajectory(P)"
   ]
  },
  {
   "cell_type": "code",
   "execution_count": 9,
   "metadata": {
    "collapsed": true
   },
   "outputs": [],
   "source": [
    "def multi_trajectories_old(P, N):\n",
    "    return [trajectory(P) for i in range(N)]"
   ]
  },
  {
   "cell_type": "code",
   "execution_count": 10,
   "metadata": {
    "collapsed": true
   },
   "outputs": [],
   "source": [
    "def multi_trajectories(P, N):\n",
    "    d = {(0):N}\n",
    "    for i in range(len(P)-1):\n",
    "        d = one_step(d, P)\n",
    "    return d"
   ]
  },
  {
   "cell_type": "code",
   "execution_count": 11,
   "metadata": {
    "collapsed": false
   },
   "outputs": [],
   "source": [
    "def one_step(d, P):\n",
    "    \n",
    "    # d represents a partial trajectory\n",
    "    new_dict = {}\n",
    "    \n",
    "    for traj in d.keys():\n",
    "        n = d[traj]\n",
    "        if traj != 0:\n",
    "            traj = list(traj)\n",
    "        else:\n",
    "            traj = [0]\n",
    "        \n",
    "        P1 = P.copy()\n",
    "        alpha = P1[traj[-1], :]\n",
    "        for previous_node in traj[:-1]:\n",
    "            alpha[previous_node] = 0\n",
    "        alpha = alpha / sum(alpha)\n",
    "        # new  = multinomial(alpha, n)\n",
    "        new = np.random.multinomial(n, alpha, size=1).tolist()[0]\n",
    "        for j in range(1, len(new)):\n",
    "            if new[j]!=0:\n",
    "                new_dict[tuple(traj + [j])] = new[j]\n",
    "    return new_dict"
   ]
  },
  {
   "cell_type": "code",
   "execution_count": 12,
   "metadata": {
    "collapsed": false,
    "scrolled": true
   },
   "outputs": [],
   "source": [
    "def S(X, D):\n",
    "    \"\"\"\n",
    "    Input: \n",
    "    X 1D-array representing a path on a graph\n",
    "    D 2D-array distance matrice for the graph\n",
    "    \n",
    "    Output:\n",
    "    The length of the path X (starting from X[0] and ending on X[0])\n",
    "    \n",
    "    \"\"\"\n",
    "    return sum([D[X[i], X[(i+1)%len(X)]] for i in range(len(X)-1)])"
   ]
  },
  {
   "cell_type": "code",
   "execution_count": 13,
   "metadata": {
    "collapsed": false
   },
   "outputs": [
    {
     "data": {
      "text/plain": [
       "array([[ 0. ,  0.5,  0.5],\n",
       "       [ 0.5,  0. ,  0.5],\n",
       "       [ 0.5,  0.5,  0. ]])"
      ]
     },
     "execution_count": 13,
     "metadata": {},
     "output_type": "execute_result"
    }
   ],
   "source": [
    "def init_P(size):\n",
    "    \"\"\"\n",
    "    Returns a stochastic matrix of dim size*size with zeros on the diagonal and 1/(size-1) elsewhere \n",
    "    \"\"\"\n",
    "    P = (np.ones((size, size)) - np.identity((size)))/(size-1)\n",
    "    return P\n",
    "\n",
    "init_P(3)"
   ]
  },
  {
   "cell_type": "code",
   "execution_count": 14,
   "metadata": {
    "collapsed": false
   },
   "outputs": [],
   "source": [
    "def cross_entropy(C, n, rho=1, alpha=0.99):\n",
    "\n",
    "    degree = len(C)\n",
    "    \n",
    "    P = init_P(degree)\n",
    "\n",
    "    length = [0,1]\n",
    "    \n",
    "    while max(length) > min(length):\n",
    "        \n",
    "        trajectories = multi_trajectories(P, n)\n",
    "        \n",
    "        trajectories = [np.array(traj) for traj in trajectories.keys()]\n",
    "                \n",
    "        length = [S(trajectory, C) for trajectory in trajectories]\n",
    "\n",
    "        gamma = np.percentile(length, rho, interpolation='lower')\n",
    "\n",
    "        trajectories_sample = [traj for traj in trajectories if S(traj, C) <= gamma]\n",
    "\n",
    "        couples = [[(traj[i], traj[(i+1)%degree]) for i in range(degree)] for traj in trajectories_sample]\n",
    "        \n",
    "        P_ = P.copy()\n",
    "        \n",
    "        for i in range(degree):\n",
    "            for j in range(degree):\n",
    "                P_[i,j] = sum([1 for couple in couples if (i,j) in couple])/len(trajectories_sample)\n",
    "                \n",
    "        P = alpha * P_ + (1-alpha)* P            \n",
    "    \n",
    "    return P, gamma, trajectories_sample[0]"
   ]
  },
  {
   "cell_type": "code",
   "execution_count": 15,
   "metadata": {
    "collapsed": true
   },
   "outputs": [],
   "source": [
    "def cross_entropy_old(C, n, rho=1, alpha=0.99):\n",
    "    \n",
    "    degree = len(C)\n",
    "    \n",
    "    P = init_P(degree)\n",
    "\n",
    "    length = [0,1]\n",
    "    \n",
    "    while max(length) > min(length):\n",
    "        \n",
    "        trajectories = multi_trajectories_old(P, n)\n",
    "                        \n",
    "        length = [S(trajectory, C) for trajectory in trajectories]\n",
    "\n",
    "        gamma = np.percentile(length, rho, interpolation='lower')\n",
    "\n",
    "        trajectories_sample = [traj for traj in trajectories if S(traj, C) <= gamma]\n",
    "\n",
    "        couples = [[(traj[i], traj[(i+1)%degree]) for i in range(degree)] for traj in trajectories_sample]\n",
    "        \n",
    "        P_ = P.copy()\n",
    "        \n",
    "        for i in range(degree):\n",
    "            for j in range(degree):\n",
    "                P_[i,j] = sum([1 for couple in couples if (i,j) in couple])/len(trajectories_sample)\n",
    "                \n",
    "        P = alpha * P_ + (1-alpha)* P        \n",
    "    \n",
    "    return P, gamma, trajectories_sample[0]"
   ]
  },
  {
   "cell_type": "code",
   "execution_count": 16,
   "metadata": {
    "collapsed": false,
    "scrolled": true
   },
   "outputs": [
    {
     "name": "stdout",
     "output_type": "stream",
     "text": [
      "1 loop, best of 3: 296 ms per loop\n"
     ]
    }
   ],
   "source": [
    "%timeit cross_entropy_old(D, 100)"
   ]
  },
  {
   "cell_type": "code",
   "execution_count": 17,
   "metadata": {
    "collapsed": false
   },
   "outputs": [],
   "source": [
    "P, gamma, traj =  cross_entropy(D, 100)"
   ]
  },
  {
   "cell_type": "code",
   "execution_count": 18,
   "metadata": {
    "collapsed": false,
    "scrolled": true
   },
   "outputs": [
    {
     "data": {
      "text/plain": [
       "<matplotlib.image.AxesImage at 0x115294518>"
      ]
     },
     "execution_count": 18,
     "metadata": {},
     "output_type": "execute_result"
    },
    {
     "data": {
      "image/png": "[encoded data removed]",
      "text/plain": [
       "<matplotlib.figure.Figure at 0x1151839b0>"
      ]
     },
     "metadata": {},
     "output_type": "display_data"
    }
   ],
   "source": [
    "plt.matshow(P,interpolation='none')"
   ]
  },
  {
   "cell_type": "code",
   "execution_count": 19,
   "metadata": {
    "collapsed": false,
    "scrolled": true
   },
   "outputs": [
    {
     "data": {
      "text/plain": [
       "<matplotlib.collections.PathCollection at 0x11538b6d8>"
      ]
     },
     "execution_count": 19,
     "metadata": {},
     "output_type": "execute_result"
    },
    {
     "data": {
      "image/png": "[encoded data removed]",
      "text/plain": [
       "<matplotlib.figure.Figure at 0x1154d9278>"
      ]
     },
     "metadata": {},
     "output_type": "display_data"
    }
   ],
   "source": [
    "number_of_cities = 200\n",
    "X = np.array([(np.random.standard_cauchy(2)) for i in range(number_of_cities)])\n",
    "plt.scatter(X[:,0], X[:,1])"
   ]
  },
  {
   "cell_type": "code",
   "execution_count": 20,
   "metadata": {
    "collapsed": false,
    "scrolled": true
   },
   "outputs": [],
   "source": [
    "D = np.empty((number_of_cities,number_of_cities))\n",
    "for i in range(number_of_cities):\n",
    "    D[i,i] = 0\n",
    "    for j in range(number_of_cities):\n",
    "        D[i,j] = np.linalg.norm(X[i]-X[j])\n",
    "        D[j,i] = D[i,j]"
   ]
  },
  {
   "cell_type": "code",
   "execution_count": 21,
   "metadata": {
    "collapsed": false
   },
   "outputs": [],
   "source": [
    "P, gamma, best_traj = cross_entropy(D, 20)"
   ]
  },
  {
   "cell_type": "code",
   "execution_count": 22,
   "metadata": {
    "collapsed": false
   },
   "outputs": [
    {
     "data": {
      "text/plain": [
       "<matplotlib.collections.PathCollection at 0x1150912e8>"
      ]
     },
     "execution_count": 22,
     "metadata": {},
     "output_type": "execute_result"
    },
    {
     "data": {
      "image/png": "[encoded data removed]",
      "text/plain": [
       "<matplotlib.figure.Figure at 0x1152ccd68>"
      ]
     },
     "metadata": {},
     "output_type": "display_data"
    }
   ],
   "source": [
    "for i in range(len(best_traj)-1):\n",
    "    plt.plot((X[best_traj[i]][0], X[best_traj[i+1]][0]), (X[best_traj[i]][1], X[best_traj[i+1]][1]))\n",
    "plt.scatter(X[:,0], X[:,1])"
   ]
  },
  {
   "cell_type": "markdown",
   "metadata": {},
   "source": [
    "3) Concernant l’estimation bayésienne de vecteurs de probabilité d’une loi\n",
    "multinomiale, retrouver le fait que la famille des lois de Dirichlet est\n",
    "conjuguée pour ce modèle. Expliquer comment en pratique vous pouvez\n",
    "utiliser cette propriété pour améliorer votre algorithme."
   ]
  },
  {
   "cell_type": "markdown",
   "metadata": {},
   "source": [
    "If $p = (p_1,...,p_k) \\sim Dirichlet_k(\\alpha_1, ..., \\alpha_k)$, the density of $p$ is given by :\n",
    "$$ \\pi(p_1,...,p_k ; \\alpha_1, ..., \\alpha_k) = \\dfrac{1}{B(\\alpha)} \\Pi_{i=1}^k p_i^{\\alpha_i - 1} $$ \n",
    "for all $p_1,...,p_k >0$ such that $p_k = 1 - \\sum_{j=1}^{k-1} p_j$.\n",
    "\n",
    "If $x = (x_1,...,x_k) \\sim Multinomial(p_1,...,p_k)$, the likelihood of $x$ is given by :\n",
    "\n",
    "$$ L(x_1,...,x_k ; p_1,...,p_k) = \\dfrac{ (\\sum_i x_i)! }{x_1!...x_k!} \\Pi_{i=1}^k p_i^{x_i} $$\n",
    "\n",
    "We deduce :\n",
    "\n",
    "$$ \\pi(p_1,...,p_k ; \\alpha_1, ..., \\alpha_k, x_1,...,x_k) \\propto \\Pi_{i=1}^k p_i^{\\alpha_i + x_i - 1} $$ \n",
    "\n",
    "Hence, by identification, $p|x \\sim Dirichlet_k(\\alpha_1 + x_1, ..., \\alpha_k + x_k)$ so the Dirichlet distribution family is conjugate for this model."
   ]
  },
  {
   "cell_type": "code",
   "execution_count": 23,
   "metadata": {
    "collapsed": false
   },
   "outputs": [],
   "source": [
    "def bayesian_multi_trajectories(alpha, N):\n",
    "    l = []\n",
    "    P = np.empty((len(alpha), len(alpha)))\n",
    "    for j in range(N):\n",
    "        for i in range(len(alpha)):\n",
    "            P[i,:] = numpy.random.dirichlet(alpha[i,:])\n",
    "            l += [trajectory(P)]\n",
    "    return l"
   ]
  },
  {
   "cell_type": "code",
   "execution_count": 24,
   "metadata": {
    "collapsed": true
   },
   "outputs": [],
   "source": [
    "def bayesian_cross_entropy(C, n, rho=5):\n",
    "    \n",
    "    degree = len(C)\n",
    "                \n",
    "    alpha = np.ones((degree, degree))\n",
    "    \n",
    "    length = [0,1]\n",
    "    \n",
    "    while max(length) > min(length):\n",
    "        \n",
    "        trajectories = bayesian_multi_trajectories(alpha, n)\n",
    "        \n",
    "        \n",
    "        \n",
    "        length = [S(trajectory, C) for trajectory in trajectories]\n",
    "\n",
    "        gamma = np.percentile(length, rho, interpolation='lower')\n",
    "\n",
    "        trajectories_sample = [traj for traj in trajectories if S(traj, C) <= gamma]\n",
    "                \n",
    "        couples = [[(traj[i], traj[(i+1)%degree]) for i in range(degree)] for traj in trajectories_sample]\n",
    "        \n",
    "        print(max(length), min(length))\n",
    "        \n",
    "        for i in range(degree):\n",
    "            for j in range(degree):\n",
    "                alpha[i,j] += sum([1 for couple in couples if (i,j) in couple])            \n",
    "    \n",
    "    return alpha, gamma, trajectories_sample[0]"
   ]
  },
  {
   "cell_type": "code",
   "execution_count": 268,
   "metadata": {
    "collapsed": false,
    "scrolled": false
   },
   "outputs": [
    {
     "ename": "KeyboardInterrupt",
     "evalue": "",
     "output_type": "error",
     "traceback": [
      "\u001b[0;31m---------------------------------------------------------------------------\u001b[0m",
      "\u001b[0;31mKeyboardInterrupt\u001b[0m                         Traceback (most recent call last)",
      "\u001b[0;32m<ipython-input-268-ef1e9011b45b>\u001b[0m in \u001b[0;36m<module>\u001b[0;34m()\u001b[0m\n\u001b[0;32m----> 1\u001b[0;31m \u001b[0malpha\u001b[0m\u001b[0;34m,\u001b[0m \u001b[0mgamma\u001b[0m\u001b[0;34m,\u001b[0m \u001b[0mbest_traj\u001b[0m \u001b[0;34m=\u001b[0m \u001b[0mbayesian_cross_entropy\u001b[0m\u001b[0;34m(\u001b[0m\u001b[0mD\u001b[0m\u001b[0;34m,\u001b[0m \u001b[0;36m10\u001b[0m\u001b[0;34m)\u001b[0m\u001b[0;34m\u001b[0m\u001b[0m\n\u001b[0m",
      "\u001b[0;32m<ipython-input-267-f5e3e63a5f13>\u001b[0m in \u001b[0;36mbayesian_cross_entropy\u001b[0;34m(C, n, rho)\u001b[0m\n\u001b[1;32m      9\u001b[0m     \u001b[0;32mwhile\u001b[0m \u001b[0mmax\u001b[0m\u001b[0;34m(\u001b[0m\u001b[0mlength\u001b[0m\u001b[0;34m)\u001b[0m \u001b[0;34m>\u001b[0m \u001b[0mmin\u001b[0m\u001b[0;34m(\u001b[0m\u001b[0mlength\u001b[0m\u001b[0;34m)\u001b[0m\u001b[0;34m:\u001b[0m\u001b[0;34m\u001b[0m\u001b[0m\n\u001b[1;32m     10\u001b[0m \u001b[0;34m\u001b[0m\u001b[0m\n\u001b[0;32m---> 11\u001b[0;31m         \u001b[0mtrajectories\u001b[0m \u001b[0;34m=\u001b[0m \u001b[0mbayesian_multi_trajectories\u001b[0m\u001b[0;34m(\u001b[0m\u001b[0malpha\u001b[0m\u001b[0;34m,\u001b[0m \u001b[0mn\u001b[0m\u001b[0;34m)\u001b[0m\u001b[0;34m\u001b[0m\u001b[0m\n\u001b[0m\u001b[1;32m     12\u001b[0m \u001b[0;34m\u001b[0m\u001b[0m\n\u001b[1;32m     13\u001b[0m \u001b[0;34m\u001b[0m\u001b[0m\n",
      "\u001b[0;32m<ipython-input-266-1052a5b325e0>\u001b[0m in \u001b[0;36mbayesian_multi_trajectories\u001b[0;34m(alpha, N)\u001b[0m\n\u001b[1;32m      5\u001b[0m         \u001b[0;32mfor\u001b[0m \u001b[0mi\u001b[0m \u001b[0;32min\u001b[0m \u001b[0mrange\u001b[0m\u001b[0;34m(\u001b[0m\u001b[0mlen\u001b[0m\u001b[0;34m(\u001b[0m\u001b[0malpha\u001b[0m\u001b[0;34m)\u001b[0m\u001b[0;34m)\u001b[0m\u001b[0;34m:\u001b[0m\u001b[0;34m\u001b[0m\u001b[0m\n\u001b[1;32m      6\u001b[0m             \u001b[0mP\u001b[0m\u001b[0;34m[\u001b[0m\u001b[0mi\u001b[0m\u001b[0;34m,\u001b[0m\u001b[0;34m:\u001b[0m\u001b[0;34m]\u001b[0m \u001b[0;34m=\u001b[0m \u001b[0mnumpy\u001b[0m\u001b[0;34m.\u001b[0m\u001b[0mrandom\u001b[0m\u001b[0;34m.\u001b[0m\u001b[0mdirichlet\u001b[0m\u001b[0;34m(\u001b[0m\u001b[0malpha\u001b[0m\u001b[0;34m[\u001b[0m\u001b[0mi\u001b[0m\u001b[0;34m,\u001b[0m\u001b[0;34m:\u001b[0m\u001b[0;34m]\u001b[0m\u001b[0;34m)\u001b[0m\u001b[0;34m\u001b[0m\u001b[0m\n\u001b[0;32m----> 7\u001b[0;31m             \u001b[0ml\u001b[0m \u001b[0;34m+=\u001b[0m \u001b[0;34m[\u001b[0m\u001b[0mtrajectory\u001b[0m\u001b[0;34m(\u001b[0m\u001b[0mP\u001b[0m\u001b[0;34m)\u001b[0m\u001b[0;34m]\u001b[0m\u001b[0;34m\u001b[0m\u001b[0m\n\u001b[0m\u001b[1;32m      8\u001b[0m     \u001b[0;32mreturn\u001b[0m \u001b[0ml\u001b[0m\u001b[0;34m\u001b[0m\u001b[0m\n",
      "\u001b[0;32m<ipython-input-184-4c0d9b1ddb48>\u001b[0m in \u001b[0;36mtrajectory\u001b[0;34m(P)\u001b[0m\n\u001b[1;32m      7\u001b[0m     \u001b[0;32mfor\u001b[0m \u001b[0mi\u001b[0m \u001b[0;32min\u001b[0m \u001b[0mrange\u001b[0m\u001b[0;34m(\u001b[0m\u001b[0mlen\u001b[0m\u001b[0;34m(\u001b[0m\u001b[0mP\u001b[0m\u001b[0;34m)\u001b[0m\u001b[0;34m-\u001b[0m\u001b[0;36m1\u001b[0m\u001b[0;34m)\u001b[0m\u001b[0;34m:\u001b[0m\u001b[0;34m\u001b[0m\u001b[0m\n\u001b[1;32m      8\u001b[0m         \u001b[0mP_\u001b[0m\u001b[0;34m[\u001b[0m\u001b[0;34m:\u001b[0m\u001b[0;34m,\u001b[0m\u001b[0mX\u001b[0m\u001b[0;34m[\u001b[0m\u001b[0mi\u001b[0m\u001b[0;34m]\u001b[0m\u001b[0;34m]\u001b[0m \u001b[0;34m=\u001b[0m \u001b[0;36m0\u001b[0m\u001b[0;34m\u001b[0m\u001b[0m\n\u001b[0;32m----> 9\u001b[0;31m         \u001b[0mP_\u001b[0m \u001b[0;34m=\u001b[0m \u001b[0mP_\u001b[0m\u001b[0;34m/\u001b[0m\u001b[0mP_\u001b[0m\u001b[0;34m.\u001b[0m\u001b[0msum\u001b[0m\u001b[0;34m(\u001b[0m\u001b[0maxis\u001b[0m\u001b[0;34m=\u001b[0m\u001b[0;36m1\u001b[0m\u001b[0;34m)\u001b[0m\u001b[0;34m[\u001b[0m\u001b[0;34m:\u001b[0m\u001b[0;34m,\u001b[0m\u001b[0;32mNone\u001b[0m\u001b[0;34m]\u001b[0m\u001b[0;34m\u001b[0m\u001b[0m\n\u001b[0m\u001b[1;32m     10\u001b[0m         \u001b[0mX\u001b[0m\u001b[0;34m[\u001b[0m\u001b[0mi\u001b[0m\u001b[0;34m+\u001b[0m\u001b[0;36m1\u001b[0m\u001b[0;34m]\u001b[0m \u001b[0;34m=\u001b[0m \u001b[0mmultinomial\u001b[0m\u001b[0;34m(\u001b[0m\u001b[0mP_\u001b[0m\u001b[0;34m[\u001b[0m\u001b[0mX\u001b[0m\u001b[0;34m[\u001b[0m\u001b[0mi\u001b[0m\u001b[0;34m]\u001b[0m\u001b[0;34m,\u001b[0m\u001b[0;34m:\u001b[0m\u001b[0;34m]\u001b[0m\u001b[0;34m,\u001b[0m \u001b[0;36m1\u001b[0m\u001b[0;34m)\u001b[0m\u001b[0;34m[\u001b[0m\u001b[0;36m0\u001b[0m\u001b[0;34m]\u001b[0m\u001b[0;34m\u001b[0m\u001b[0m\n\u001b[1;32m     11\u001b[0m     \u001b[0;32mreturn\u001b[0m \u001b[0mX\u001b[0m\u001b[0;34m\u001b[0m\u001b[0m\n",
      "\u001b[0;32m/Users/Schreuder/anaconda/lib/python3.5/site-packages/numpy/core/_methods.py\u001b[0m in \u001b[0;36m_sum\u001b[0;34m(a, axis, dtype, out, keepdims)\u001b[0m\n\u001b[1;32m     30\u001b[0m \u001b[0;34m\u001b[0m\u001b[0m\n\u001b[1;32m     31\u001b[0m \u001b[0;32mdef\u001b[0m \u001b[0m_sum\u001b[0m\u001b[0;34m(\u001b[0m\u001b[0ma\u001b[0m\u001b[0;34m,\u001b[0m \u001b[0maxis\u001b[0m\u001b[0;34m=\u001b[0m\u001b[0;32mNone\u001b[0m\u001b[0;34m,\u001b[0m \u001b[0mdtype\u001b[0m\u001b[0;34m=\u001b[0m\u001b[0;32mNone\u001b[0m\u001b[0;34m,\u001b[0m \u001b[0mout\u001b[0m\u001b[0;34m=\u001b[0m\u001b[0;32mNone\u001b[0m\u001b[0;34m,\u001b[0m \u001b[0mkeepdims\u001b[0m\u001b[0;34m=\u001b[0m\u001b[0;32mFalse\u001b[0m\u001b[0;34m)\u001b[0m\u001b[0;34m:\u001b[0m\u001b[0;34m\u001b[0m\u001b[0m\n\u001b[0;32m---> 32\u001b[0;31m     \u001b[0;32mreturn\u001b[0m \u001b[0mumr_sum\u001b[0m\u001b[0;34m(\u001b[0m\u001b[0ma\u001b[0m\u001b[0;34m,\u001b[0m \u001b[0maxis\u001b[0m\u001b[0;34m,\u001b[0m \u001b[0mdtype\u001b[0m\u001b[0;34m,\u001b[0m \u001b[0mout\u001b[0m\u001b[0;34m,\u001b[0m \u001b[0mkeepdims\u001b[0m\u001b[0;34m)\u001b[0m\u001b[0;34m\u001b[0m\u001b[0m\n\u001b[0m\u001b[1;32m     33\u001b[0m \u001b[0;34m\u001b[0m\u001b[0m\n\u001b[1;32m     34\u001b[0m \u001b[0;32mdef\u001b[0m \u001b[0m_prod\u001b[0m\u001b[0;34m(\u001b[0m\u001b[0ma\u001b[0m\u001b[0;34m,\u001b[0m \u001b[0maxis\u001b[0m\u001b[0;34m=\u001b[0m\u001b[0;32mNone\u001b[0m\u001b[0;34m,\u001b[0m \u001b[0mdtype\u001b[0m\u001b[0;34m=\u001b[0m\u001b[0;32mNone\u001b[0m\u001b[0;34m,\u001b[0m \u001b[0mout\u001b[0m\u001b[0;34m=\u001b[0m\u001b[0;32mNone\u001b[0m\u001b[0;34m,\u001b[0m \u001b[0mkeepdims\u001b[0m\u001b[0;34m=\u001b[0m\u001b[0;32mFalse\u001b[0m\u001b[0;34m)\u001b[0m\u001b[0;34m:\u001b[0m\u001b[0;34m\u001b[0m\u001b[0m\n",
      "\u001b[0;31mKeyboardInterrupt\u001b[0m: "
     ]
    }
   ],
   "source": [
    "alpha, gamma, best_traj = bayesian_cross_entropy(D, 10)"
   ]
  },
  {
   "cell_type": "code",
   "execution_count": 165,
   "metadata": {
    "collapsed": false,
    "scrolled": false
   },
   "outputs": [
    {
     "data": {
      "text/plain": [
       "<matplotlib.collections.PathCollection at 0x11cc48e48>"
      ]
     },
     "execution_count": 165,
     "metadata": {},
     "output_type": "execute_result"
    },
    {
     "data": {
      "image/png": "[encoded data removed]",
      "text/plain": [
       "<matplotlib.figure.Figure at 0x115c67978>"
      ]
     },
     "metadata": {},
     "output_type": "display_data"
    }
   ],
   "source": [
    "for i in range(len(best_traj)-1):\n",
    "    plt.plot((X[best_traj[i]][0], X[best_traj[i+1]][0]), (X[best_traj[i]][1], X[best_traj[i+1]][1]))\n",
    "plt.scatter(X[:,0], X[:,1])"
   ]
  },
  {
   "cell_type": "markdown",
   "metadata": {},
   "source": [
    "4) Bonus: en fonction du temps disponible, vous pouvez tester votre algorithme\n",
    "sur de “gros” problèmes (par ex. trajet optimal du tour de France\n",
    "en se basant sur la liste des villes de l’année dernière), ou comparer à\n",
    "d’autres algorithmes que vous trouverez dans la littérature."
   ]
  },
  {
   "cell_type": "markdown",
   "metadata": {},
   "source": [
    "Faire tourner sur des villes random en France"
   ]
  },
  {
   "cell_type": "code",
   "execution_count": 82,
   "metadata": {
    "collapsed": true
   },
   "outputs": [],
   "source": [
    "import pandas as pd\n",
    "# https://opendata.paris.fr/explore/dataset/arbresremarquablesparis2011/table/\n",
    "df = pd.read_csv('arbresremarquablesparis2011.csv', sep=';')\n",
    "# arbutus ou sequoia\n",
    "df = df[df['GENRE']=='Arbutus']"
   ]
  },
  {
   "cell_type": "code",
   "execution_count": 83,
   "metadata": {
    "collapsed": false,
    "scrolled": true
   },
   "outputs": [],
   "source": [
    "geo_points = df['Geo point'].tolist()\n",
    "nb_trees = len(geo_points)\n",
    "geo_points = [(float(geo_point_str.split(',')[0]), float(geo_point_str.split(',')[1])) for geo_point_str in geo_points]"
   ]
  },
  {
   "cell_type": "code",
   "execution_count": 84,
   "metadata": {
    "collapsed": true
   },
   "outputs": [],
   "source": [
    "from math import radians, cos, sin, asin, sqrt\n",
    "def haversine(lon1, lat1, lon2, lat2):\n",
    "    \"\"\"\n",
    "    Calculate the great circle distance between two points \n",
    "    on the earth (specified in decimal degrees)\n",
    "    \"\"\"\n",
    "    # convert decimal degrees to radians \n",
    "    lon1, lat1, lon2, lat2 = map(radians, [lon1, lat1, lon2, lat2])\n",
    "    # haversine formula \n",
    "    dlon = lon2 - lon1 \n",
    "    dlat = lat2 - lat1 \n",
    "    a = sin(dlat/2)**2 + cos(lat1) * cos(lat2) * sin(dlon/2)**2\n",
    "    c = 2 * asin(sqrt(a)) \n",
    "    km = 6367 * c\n",
    "    return km"
   ]
  },
  {
   "cell_type": "code",
   "execution_count": 85,
   "metadata": {
    "collapsed": false
   },
   "outputs": [],
   "source": [
    "D_trees = numpy.empty((nb_trees,nb_trees))\n",
    "for i in range(nb_trees):\n",
    "    D_trees[i,i] = 0\n",
    "    for j in range(nb_trees):\n",
    "        lon1, lat1 = geo_points[i][0], geo_points[i][1]\n",
    "        lon2, lat2 = geo_points[j][0], geo_points[j][1]\n",
    "        D_trees[i,j] = haversine(lon1, lat1, lon2, lat2)\n",
    "        D_trees[j,i] = D_trees[i,j]"
   ]
  },
  {
   "cell_type": "code",
   "execution_count": 97,
   "metadata": {
    "collapsed": false
   },
   "outputs": [],
   "source": [
    "alpha, gamma, best_traj = cross_entropy(D_trees, 500)"
   ]
  },
  {
   "cell_type": "code",
   "execution_count": 98,
   "metadata": {
    "collapsed": false
   },
   "outputs": [],
   "source": [
    "polyline_best_traj = [geo_points[point] for point in best_traj] + [geo_points[0]]"
   ]
  },
  {
   "cell_type": "code",
   "execution_count": 99,
   "metadata": {
    "collapsed": false
   },
   "outputs": [
    {
     "data": {
      "text/html": [
       "<div style=\"width:100%;\"><div style=\"position:relative;width:100%;height:0;padding-bottom:60%;\"><iframe src=\"data:text/html;charset=utf-8;base64,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\" style=\"position:absolute;width:100%;height:100%;left:0;top:0;border:none !important;\" allowfullscreen webkitallowfullscreen mozallowfullscreen></iframe></div></div>"
      ],
      "text/plain": [
       "<folium.folium.Map at 0x11978c668>"
      ]
     },
     "execution_count": 99,
     "metadata": {},
     "output_type": "execute_result"
    }
   ],
   "source": [
    "map_osm = folium.Map(location=[48.85, 2.34])\n",
    "for i in range(len(geo_points)-1):\n",
    "    folium.Marker(geo_points[i], popup='Sequoia').add_to(map_osm)\n",
    "\n",
    "folium.PolyLine(polyline_best_traj, color=\"red\", weight=2.5, opacity=1).add_to(map_osm)\n",
    "from IPython.display import HTML\n",
    "map_osm"
   ]
  },
  {
   "cell_type": "code",
   "execution_count": null,
   "metadata": {
    "collapsed": true
   },
   "outputs": [],
   "source": []
  }
 ],
 "metadata": {
  "kernelspec": {
   "display_name": "Python 3",
   "language": "python",
   "name": "python3"
  },
  "language_info": {
   "codemirror_mode": {
    "name": "ipython",
    "version": 3
   },
   "file_extension": ".py",
   "mimetype": "text/x-python",
   "name": "python",
   "nbconvert_exporter": "python",
   "pygments_lexer": "ipython3",
   "version": "3.5.3"
  }
 },
 "nbformat": 4,
 "nbformat_minor": 0
}
