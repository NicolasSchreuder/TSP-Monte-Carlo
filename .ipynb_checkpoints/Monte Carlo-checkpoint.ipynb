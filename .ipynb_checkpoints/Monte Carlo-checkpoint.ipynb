{
 "cells": [
  {
   "cell_type": "markdown",
   "metadata": {},
   "source": [
    "# Le voyageur de commerce\n",
    "\n",
    "Ce projet est inspiré du Chapitre 4 du livre “The Cross-Entropy Method” de\n",
    "Rubinstein et Kroese.\n",
    "\n",
    "Le problème du voyageur de commerce (en anglais, TSP, travelling salesman\n",
    "problem) revient à minimiser le trajet effectué entre M villes, sous la contrainte\n",
    "de passer par chaque ville exactement une fois. Soit D la matrice telle que Dij\n",
    "est la distance entre la ville i et la ville j; noter que Dii = 0 et D est symétrique."
   ]
  },
  {
   "cell_type": "markdown",
   "metadata": {},
   "source": [
    "1) Rappeler (ou retrouver!) la méthode permettant de simuler efficacement\n",
    "N vecteurs selon la loi Multinomiale définie par le vecteur de probabilité\n",
    "p = (p1, . . . , pM). La mettre en œuvre."
   ]
  },
  {
   "cell_type": "code",
   "execution_count": 1,
   "metadata": {
    "collapsed": false
   },
   "outputs": [
    {
     "name": "stdout",
     "output_type": "stream",
     "text": [
      "Populating the interactive namespace from numpy and matplotlib\n"
     ]
    }
   ],
   "source": [
    "import matplotlib.pyplot as plt\n",
    "import seaborn\n",
    "%pylab inline"
   ]
  },
  {
   "cell_type": "code",
   "execution_count": 2,
   "metadata": {
    "collapsed": false
   },
   "outputs": [
    {
     "data": {
      "text/plain": [
       "(array([ 1035.,  1007.,   984.,  1029.,   954.,  1012.,   987.,   998.,\n",
       "          977.,  1017.]),\n",
       " array([  1.87350457e-04,   1.00168035e-01,   2.00148719e-01,\n",
       "          3.00129403e-01,   4.00110088e-01,   5.00090772e-01,\n",
       "          6.00071456e-01,   7.00052141e-01,   8.00032825e-01,\n",
       "          9.00013510e-01,   9.99994194e-01]),\n",
       " <a list of 10 Patch objects>)"
      ]
     },
     "execution_count": 2,
     "metadata": {},
     "output_type": "execute_result"
    },
    {
     "data": {
      "image/png": "[encoded data removed]",
      "text/plain": [
       "<matplotlib.figure.Figure at 0x10b2d6f28>"
      ]
     },
     "metadata": {},
     "output_type": "display_data"
    }
   ],
   "source": [
    "from scipy.stats import expon\n",
    "def sorted_uniforms(N):\n",
    "    \"\"\"\n",
    "    Returns N sorted uniforms\n",
    "    \"\"\"\n",
    "    E = expon.rvs(size=N+1)\n",
    "    V = [sum(E[:i+1]) for i in range(N+1)]\n",
    "    return V[:-1]/V[-1]\n",
    "\n",
    "\n",
    "plt.hist(sorted_uniforms(10000))"
   ]
  },
  {
   "cell_type": "code",
   "execution_count": 3,
   "metadata": {
    "collapsed": false
   },
   "outputs": [],
   "source": [
    "def multinomial(P, N):    \n",
    "    su = sorted_uniforms(N)\n",
    "    j = 0\n",
    "    s = P[0]\n",
    "    A = []\n",
    "    for n in range(N):\n",
    "        while su[n] > s:\n",
    "            j += 1\n",
    "            s += P[j]\n",
    "        A += [j]\n",
    "    return A"
   ]
  },
  {
   "cell_type": "code",
   "execution_count": 4,
   "metadata": {
    "collapsed": false
   },
   "outputs": [
    {
     "data": {
      "text/plain": [
       "(array([ 1256.,     0.,  1222.,     0.,     0.,  1281.,     0.,   614.,\n",
       "            0.,   627.]),\n",
       " array([ 0. ,  0.4,  0.8,  1.2,  1.6,  2. ,  2.4,  2.8,  3.2,  3.6,  4. ]),\n",
       " <a list of 10 Patch objects>)"
      ]
     },
     "execution_count": 4,
     "metadata": {},
     "output_type": "execute_result"
    },
    {
     "data": {
      "image/png": "[encoded data removed]",
      "text/plain": [
       "<matplotlib.figure.Figure at 0x11d9a7ac8>"
      ]
     },
     "metadata": {},
     "output_type": "display_data"
    }
   ],
   "source": [
    "P = [1/4, 1/4, 1/4, 1/8, 1/8]\n",
    "plt.hist(multinomial(P, 5000))"
   ]
  },
  {
   "cell_type": "code",
   "execution_count": 5,
   "metadata": {
    "collapsed": false
   },
   "outputs": [
    {
     "data": {
      "text/plain": [
       "[0, 0, 1, 1, 2, 2, 2, 3, 3, 4]"
      ]
     },
     "execution_count": 5,
     "metadata": {},
     "output_type": "execute_result"
    }
   ],
   "source": [
    "multinomial(P, 10)"
   ]
  },
  {
   "cell_type": "markdown",
   "metadata": {},
   "source": [
    "2) Utiliser l’algorithme CE vu en cours pour résoudre le problème TSP. Pour\n",
    "ce faire, proposer une famille paramétrique de lois pour la simulation de\n",
    "trajets. Programmer cet algorithme, et le tester sur quelques exemples."
   ]
  },
  {
   "cell_type": "code",
   "execution_count": 68,
   "metadata": {
    "collapsed": false
   },
   "outputs": [
    {
     "data": {
      "text/plain": [
       "array([[ 0.        ,  0.08207861,  0.13356626,  0.09035016,  0.07086052,\n",
       "         0.16576124,  0.15086721,  0.07251243,  0.16433941,  0.06966414],\n",
       "       [ 0.0703466 ,  0.        ,  0.0740635 ,  0.0936846 ,  0.18443733,\n",
       "         0.18743855,  0.13751483,  0.02422787,  0.15902823,  0.06925849],\n",
       "       [ 0.14233402,  0.06446619,  0.        ,  0.19899028,  0.14298101,\n",
       "         0.04902482,  0.12663945,  0.11087704,  0.04449959,  0.12018759],\n",
       "       [ 0.15121399,  0.11053158,  0.02326547,  0.        ,  0.13144586,\n",
       "         0.14610824,  0.09852937,  0.11531815,  0.16820494,  0.05538241],\n",
       "       [ 0.15168626,  0.09139207,  0.05248656,  0.01310052,  0.        ,\n",
       "         0.10414847,  0.0354861 ,  0.0909775 ,  0.25008677,  0.21063575],\n",
       "       [ 0.1943777 ,  0.1298087 ,  0.07449159,  0.12775576,  0.16999136,\n",
       "         0.        ,  0.00261245,  0.12881547,  0.00158117,  0.1705658 ],\n",
       "       [ 0.15468808,  0.14497782,  0.1068706 ,  0.10006536,  0.16576455,\n",
       "         0.04835356,  0.        ,  0.15815369,  0.08369191,  0.03743443],\n",
       "       [ 0.12757475,  0.0533897 ,  0.1815487 ,  0.09644285,  0.09454991,\n",
       "         0.04843225,  0.09497538,  0.        ,  0.15023922,  0.15284724],\n",
       "       [ 0.07685861,  0.09877618,  0.1889894 ,  0.16532413,  0.06899147,\n",
       "         0.1846489 ,  0.00523546,  0.18639282,  0.        ,  0.02478303],\n",
       "       [ 0.05368996,  0.14294254,  0.22268821,  0.08311428,  0.02448926,\n",
       "         0.04184098,  0.2344136 ,  0.18818298,  0.00863819,  0.        ]])"
      ]
     },
     "execution_count": 68,
     "metadata": {},
     "output_type": "execute_result"
    }
   ],
   "source": [
    "# Random distance matrix\n",
    "number_of_cities = 10\n",
    "D = np.reshape(np.random.exponential(number_of_cities, number_of_cities**2), (number_of_cities,number_of_cities))\n",
    "for i in range(number_of_cities):\n",
    "    D[i,i] = 0\n",
    "    for j in range(number_of_cities):\n",
    "        D[i,j] = D[j, i]\n",
    "\n",
    "# Random transition matrix\n",
    "from sklearn.preprocessing import normalize\n",
    "P = np.reshape(np.random.rand(number_of_cities**2), (number_of_cities,number_of_cities))\n",
    "for i in range(number_of_cities): \n",
    "    P[i,i] = 0\n",
    "P = P/P.sum(axis=1)[:,None]\n",
    "P"
   ]
  },
  {
   "cell_type": "code",
   "execution_count": 69,
   "metadata": {
    "collapsed": false
   },
   "outputs": [],
   "source": [
    "def trajectory(P):\n",
    "    \"\"\"\n",
    "    \n",
    "    \"\"\"\n",
    "    P_ = P.copy()\n",
    "    X = np.zeros(len(P), np.int8)\n",
    "    for i in range(len(P)-1):\n",
    "        P_[:,X[i]] = 0\n",
    "        P_ = P_/P_.sum(axis=1)[:,None]\n",
    "        X[i+1] = multinomial(P_[X[i],:], 1)[0]\n",
    "    return X\n",
    "X = trajectory(P)"
   ]
  },
  {
   "cell_type": "code",
   "execution_count": 70,
   "metadata": {
    "collapsed": true
   },
   "outputs": [],
   "source": [
    "def multi_trajectories(P, N):\n",
    "    return [trajectory(P) for i in range(N)]"
   ]
  },
  {
   "cell_type": "code",
   "execution_count": 93,
   "metadata": {
    "collapsed": false,
    "scrolled": true
   },
   "outputs": [],
   "source": [
    "def S(X, D):\n",
    "    \"\"\"\n",
    "    Input: \n",
    "    X 1D-array representing a path on a graph\n",
    "    D 2D-array distance matrice for the graph\n",
    "    \n",
    "    Output:\n",
    "    The length of the path X (starting from X[0] and ending on X[0])\n",
    "    \n",
    "    \"\"\"\n",
    "    return sum([D[X[i], X[(i+1)%len(X)]] for i in range(len(X)-1)])"
   ]
  },
  {
   "cell_type": "code",
   "execution_count": 94,
   "metadata": {
    "collapsed": false
   },
   "outputs": [
    {
     "data": {
      "text/plain": [
       "array([[ 0. ,  0.5,  0.5],\n",
       "       [ 0.5,  0. ,  0.5],\n",
       "       [ 0.5,  0.5,  0. ]])"
      ]
     },
     "execution_count": 94,
     "metadata": {},
     "output_type": "execute_result"
    }
   ],
   "source": [
    "def init_P(size):\n",
    "    \"\"\"\n",
    "    Returns a stochastic matrix of dim size*size with zeros on the diagonal and 1/(size-1) elsewhere \n",
    "    \"\"\"\n",
    "    P = (np.ones((size, size)) - np.identity((size)))/(size-1)\n",
    "    return P\n",
    "\n",
    "init_P(3)"
   ]
  },
  {
   "cell_type": "code",
   "execution_count": 95,
   "metadata": {
    "collapsed": false
   },
   "outputs": [],
   "source": [
    "def cross_entropy(C, n, rho=1, alpha=0.99):\n",
    "    \"\"\"\n",
    "    \n",
    "    \"\"\"\n",
    "    \n",
    "    degree = len(C)\n",
    "    \n",
    "    P = init_P(degree)\n",
    "        \n",
    "    # revoir le critère d'arrête\n",
    "    \n",
    "    length = [0,1]\n",
    "    \n",
    "    while max(length) > min(length):\n",
    "        \n",
    "        trajectories = multi_trajectories(P, n)\n",
    "\n",
    "        length = [S(trajectory, C) for trajectory in trajectories]\n",
    "\n",
    "        gamma = np.percentile(length, rho, interpolation='lower')\n",
    "\n",
    "        trajectories_sample = [traj for traj in trajectories if S(traj, C) <= gamma]\n",
    "\n",
    "        couples = [[(traj[i], traj[(i+1)%degree]) for i in range(degree)] for traj in trajectories_sample]\n",
    "        \n",
    "        P_ = P.copy()\n",
    "        for i in range(degree):\n",
    "            for j in range(degree):\n",
    "                P_[i,j] = sum([1 for couple in couples if (i,j) in couple])/len(trajectories_sample)\n",
    "                \n",
    "        P = alpha * P_ + (1-alpha)* P\n",
    "    \n",
    "    print(trajectories[0])\n",
    "    for i in range(len(trajectories)):\n",
    "        if (trajectories[i] != trajectories[0]).any():\n",
    "            print(trajectories[i])\n",
    "            break\n",
    "            \n",
    "    \n",
    "    return P, gamma, trajectories_sample[0]"
   ]
  },
  {
   "cell_type": "code",
   "execution_count": 96,
   "metadata": {
    "collapsed": false,
    "scrolled": true
   },
   "outputs": [
    {
     "name": "stdout",
     "output_type": "stream",
     "text": [
      "[0 7 1 5 6 4 8 2 9 3]\n"
     ]
    }
   ],
   "source": [
    "P, gamma, best_traj = cross_entropy(D, 8000)"
   ]
  },
  {
   "cell_type": "code",
   "execution_count": 98,
   "metadata": {
    "collapsed": false,
    "scrolled": false
   },
   "outputs": [
    {
     "data": {
      "text/plain": [
       "<matplotlib.image.AxesImage at 0x11ec94c50>"
      ]
     },
     "execution_count": 98,
     "metadata": {},
     "output_type": "execute_result"
    },
    {
     "data": {
      "image/png": "[encoded data removed]",
      "text/plain": [
       "<matplotlib.figure.Figure at 0x11ef559e8>"
      ]
     },
     "metadata": {},
     "output_type": "display_data"
    }
   ],
   "source": [
    "plt.matshow(steps[0],interpolation='none')"
   ]
  },
  {
   "cell_type": "code",
   "execution_count": 99,
   "metadata": {
    "collapsed": false,
    "scrolled": false
   },
   "outputs": [
    {
     "data": {
      "text/plain": [
       "<matplotlib.image.AxesImage at 0x11fafb9b0>"
      ]
     },
     "execution_count": 99,
     "metadata": {},
     "output_type": "execute_result"
    },
    {
     "data": {
      "image/png": "[encoded data removed]",
      "text/plain": [
       "<matplotlib.figure.Figure at 0x11ec9ff60>"
      ]
     },
     "metadata": {},
     "output_type": "display_data"
    }
   ],
   "source": [
    "plt.matshow(steps[6],interpolation='none')"
   ]
  },
  {
   "cell_type": "code",
   "execution_count": 100,
   "metadata": {
    "collapsed": false,
    "scrolled": true
   },
   "outputs": [
    {
     "data": {
      "text/plain": [
       "<matplotlib.image.AxesImage at 0x11dd09ac8>"
      ]
     },
     "execution_count": 100,
     "metadata": {},
     "output_type": "execute_result"
    },
    {
     "data": {
      "image/png": "[encoded data removed]",
      "text/plain": [
       "<matplotlib.figure.Figure at 0x1200376d8>"
      ]
     },
     "metadata": {},
     "output_type": "display_data"
    }
   ],
   "source": [
    "plt.matshow(P,interpolation='none')"
   ]
  },
  {
   "cell_type": "code",
   "execution_count": 237,
   "metadata": {
    "collapsed": false
   },
   "outputs": [
    {
     "data": {
      "text/plain": [
       "<matplotlib.collections.PathCollection at 0x1241fba90>"
      ]
     },
     "execution_count": 237,
     "metadata": {},
     "output_type": "execute_result"
    },
    {
     "data": {
      "image/png": "[encoded data removed]",
      "text/plain": [
       "<matplotlib.figure.Figure at 0x122d88eb8>"
      ]
     },
     "metadata": {},
     "output_type": "display_data"
    }
   ],
   "source": [
    "number_of_cities = 20\n",
    "X = np.array([(np.random.standard_cauchy(2)) for i in range(number_of_cities)])\n",
    "plt.scatter(X[:,0], X[:,1])"
   ]
  },
  {
   "cell_type": "code",
   "execution_count": 238,
   "metadata": {
    "collapsed": false,
    "scrolled": true
   },
   "outputs": [],
   "source": [
    "D = np.empty((number_of_cities,number_of_cities))\n",
    "for i in range(number_of_cities):\n",
    "    D[i,i] = 0\n",
    "    for j in range(number_of_cities):\n",
    "        D[i,j] = np.linalg.norm(X[i]-X[j])\n",
    "        D[j,i] = D[i,j]"
   ]
  },
  {
   "cell_type": "code",
   "execution_count": 225,
   "metadata": {
    "collapsed": false
   },
   "outputs": [
    {
     "name": "stdout",
     "output_type": "stream",
     "text": [
      "[0 1 2 3 4]\n"
     ]
    }
   ],
   "source": [
    "P, gamma, best_traj = cross_entropy(D, 3000)"
   ]
  },
  {
   "cell_type": "code",
   "execution_count": 226,
   "metadata": {
    "collapsed": false
   },
   "outputs": [
    {
     "data": {
      "text/plain": [
       "<matplotlib.collections.PathCollection at 0x12363ff60>"
      ]
     },
     "execution_count": 226,
     "metadata": {},
     "output_type": "execute_result"
    },
    {
     "data": {
      "image/png": "[encoded data removed]",
      "text/plain": [
       "<matplotlib.figure.Figure at 0x122c66390>"
      ]
     },
     "metadata": {},
     "output_type": "display_data"
    }
   ],
   "source": [
    "for i in range(len(best_traj)-1):\n",
    "    plt.plot((X[best_traj[i]][0], X[best_traj[i+1]][0]), (X[best_traj[i]][1], X[best_traj[i+1]][1]))\n",
    "plt.scatter(X[:,0], X[:,1])"
   ]
  },
  {
   "cell_type": "markdown",
   "metadata": {},
   "source": [
    "3) Concernant l’estimation bayésienne de vecteurs de probabilité d’une loi\n",
    "multinomiale, retrouver le fait que la famille des lois de Dirichlet est\n",
    "conjuguée pour ce modèle. Expliquer comment en pratique vous pouvez\n",
    "utiliser cette propriété pour améliorer votre algorithme."
   ]
  },
  {
   "cell_type": "markdown",
   "metadata": {},
   "source": [
    "If $p = (p_1,...,p_k) \\sim Dirichlet_k(\\alpha_1, ..., \\alpha_k)$, the density of $p$ is given by :\n",
    "$$ \\pi(p_1,...,p_k ; \\alpha_1, ..., \\alpha_k) = \\dfrac{1}{B(\\alpha)} \\Pi_{i=1}^k p_i^{\\alpha_i - 1} $$ \n",
    "for all $p_1,...,p_k >0$ such that $p_k = 1 - \\sum_{j=1}^{k-1} p_j$.\n",
    "\n",
    "If $x = (x_1,...,x_k) \\sim Multinomial(p_1,...,p_k)$, the likelihood of $x$ is given by :\n",
    "\n",
    "$$ L(x_1,...,x_k ; p_1,...,p_k) = \\dfrac{ (\\sum_i x_i)! }{x_1!...x_k!} \\Pi_{i=1}^k p_i^{x_i} $$\n",
    "\n",
    "We deduce :\n",
    "\n",
    "$$ \\pi(p_1,...,p_k ; \\alpha_1, ..., \\alpha_k, x_1,...,x_k) \\propto \\Pi_{i=1}^k p_i^{\\alpha_i + x_i - 1} $$ \n",
    "\n",
    "Hence, by identification, $p|x \\sim Dirichlet_k(\\alpha_1 + x_1, ..., \\alpha_k + x_k)$ so the Dirichlet distribution family is conjugate for this model."
   ]
  },
  {
   "cell_type": "code",
   "execution_count": 233,
   "metadata": {
    "collapsed": false
   },
   "outputs": [],
   "source": [
    "def bayesian_multi_trajectories(alpha, N):\n",
    "    l = []\n",
    "    P = np.empty((len(alpha), len(alpha)))\n",
    "    for j in range(N):\n",
    "        for i in range(len(alpha)):\n",
    "            P[i,:] = numpy.random.dirichlet(alpha[i,:])\n",
    "            l += [trajectory(P)]\n",
    "    return l"
   ]
  },
  {
   "cell_type": "code",
   "execution_count": 234,
   "metadata": {
    "collapsed": true
   },
   "outputs": [],
   "source": [
    "def bayesian_cross_entropy(C, n, rho=1):\n",
    "    \n",
    "    degree = len(C)\n",
    "            \n",
    "    # revoir le critère d'arrêt\n",
    "    \n",
    "    alpha = np.ones((degree, degree))\n",
    "    \n",
    "    length = [0,1]\n",
    "    \n",
    "    while max(length) > min(length):\n",
    "        \n",
    "        trajectories = bayesian_multi_trajectories(alpha, n)\n",
    "        \n",
    "        length = [S(trajectory, C) for trajectory in trajectories]\n",
    "\n",
    "        gamma = np.percentile(length, rho, interpolation='lower')\n",
    "\n",
    "        trajectories_sample = [traj for traj in trajectories if S(traj, C) <= gamma]\n",
    "                \n",
    "        couples = [[(traj[i], traj[(i+1)%degree]) for i in range(degree)] for traj in trajectories_sample]\n",
    "        \n",
    "        for i in range(degree):\n",
    "            for j in range(degree):\n",
    "                alpha[i,j] += sum([1 for couple in couples if (i,j) in couple])            \n",
    "    \n",
    "    return alpha, gamma, trajectories_sample[0]"
   ]
  },
  {
   "cell_type": "code",
   "execution_count": 240,
   "metadata": {
    "collapsed": false,
    "scrolled": false
   },
   "outputs": [
    {
     "ename": "KeyboardInterrupt",
     "evalue": "",
     "output_type": "error",
     "traceback": [
      "\u001b[0;31m---------------------------------------------------------------------------\u001b[0m",
      "\u001b[0;31mKeyboardInterrupt\u001b[0m                         Traceback (most recent call last)",
      "\u001b[0;32m<ipython-input-240-0c51f04a3a4a>\u001b[0m in \u001b[0;36m<module>\u001b[0;34m()\u001b[0m\n\u001b[0;32m----> 1\u001b[0;31m \u001b[0malpha\u001b[0m\u001b[0;34m,\u001b[0m \u001b[0mgamma\u001b[0m\u001b[0;34m,\u001b[0m \u001b[0mbest_traj\u001b[0m \u001b[0;34m=\u001b[0m \u001b[0mbayesian_cross_entropy\u001b[0m\u001b[0;34m(\u001b[0m\u001b[0mD\u001b[0m\u001b[0;34m,\u001b[0m \u001b[0;36m100\u001b[0m\u001b[0;34m)\u001b[0m\u001b[0;34m\u001b[0m\u001b[0m\n\u001b[0m",
      "\u001b[0;32m<ipython-input-234-bbea00cad5bb>\u001b[0m in \u001b[0;36mbayesian_cross_entropy\u001b[0;34m(C, n, rho)\u001b[0m\n\u001b[1;32m     23\u001b[0m         \u001b[0;32mfor\u001b[0m \u001b[0mi\u001b[0m \u001b[0;32min\u001b[0m \u001b[0mrange\u001b[0m\u001b[0;34m(\u001b[0m\u001b[0mdegree\u001b[0m\u001b[0;34m)\u001b[0m\u001b[0;34m:\u001b[0m\u001b[0;34m\u001b[0m\u001b[0m\n\u001b[1;32m     24\u001b[0m             \u001b[0;32mfor\u001b[0m \u001b[0mj\u001b[0m \u001b[0;32min\u001b[0m \u001b[0mrange\u001b[0m\u001b[0;34m(\u001b[0m\u001b[0mdegree\u001b[0m\u001b[0;34m)\u001b[0m\u001b[0;34m:\u001b[0m\u001b[0;34m\u001b[0m\u001b[0m\n\u001b[0;32m---> 25\u001b[0;31m                 \u001b[0malpha\u001b[0m\u001b[0;34m[\u001b[0m\u001b[0mi\u001b[0m\u001b[0;34m,\u001b[0m\u001b[0mj\u001b[0m\u001b[0;34m]\u001b[0m \u001b[0;34m+=\u001b[0m \u001b[0msum\u001b[0m\u001b[0;34m(\u001b[0m\u001b[0;34m[\u001b[0m\u001b[0;36m1\u001b[0m \u001b[0;32mfor\u001b[0m \u001b[0mcouple\u001b[0m \u001b[0;32min\u001b[0m \u001b[0mcouples\u001b[0m \u001b[0;32mif\u001b[0m \u001b[0;34m(\u001b[0m\u001b[0mi\u001b[0m\u001b[0;34m,\u001b[0m\u001b[0mj\u001b[0m\u001b[0;34m)\u001b[0m \u001b[0;32min\u001b[0m \u001b[0mcouple\u001b[0m\u001b[0;34m]\u001b[0m\u001b[0;34m)\u001b[0m\u001b[0;34m\u001b[0m\u001b[0m\n\u001b[0m\u001b[1;32m     26\u001b[0m \u001b[0;34m\u001b[0m\u001b[0m\n\u001b[1;32m     27\u001b[0m     \u001b[0;32mreturn\u001b[0m \u001b[0malpha\u001b[0m\u001b[0;34m,\u001b[0m \u001b[0mgamma\u001b[0m\u001b[0;34m,\u001b[0m \u001b[0mtrajectories_sample\u001b[0m\u001b[0;34m[\u001b[0m\u001b[0;36m0\u001b[0m\u001b[0;34m]\u001b[0m\u001b[0;34m\u001b[0m\u001b[0m\n",
      "\u001b[0;32m<ipython-input-234-bbea00cad5bb>\u001b[0m in \u001b[0;36m<listcomp>\u001b[0;34m(.0)\u001b[0m\n\u001b[1;32m     23\u001b[0m         \u001b[0;32mfor\u001b[0m \u001b[0mi\u001b[0m \u001b[0;32min\u001b[0m \u001b[0mrange\u001b[0m\u001b[0;34m(\u001b[0m\u001b[0mdegree\u001b[0m\u001b[0;34m)\u001b[0m\u001b[0;34m:\u001b[0m\u001b[0;34m\u001b[0m\u001b[0m\n\u001b[1;32m     24\u001b[0m             \u001b[0;32mfor\u001b[0m \u001b[0mj\u001b[0m \u001b[0;32min\u001b[0m \u001b[0mrange\u001b[0m\u001b[0;34m(\u001b[0m\u001b[0mdegree\u001b[0m\u001b[0;34m)\u001b[0m\u001b[0;34m:\u001b[0m\u001b[0;34m\u001b[0m\u001b[0m\n\u001b[0;32m---> 25\u001b[0;31m                 \u001b[0malpha\u001b[0m\u001b[0;34m[\u001b[0m\u001b[0mi\u001b[0m\u001b[0;34m,\u001b[0m\u001b[0mj\u001b[0m\u001b[0;34m]\u001b[0m \u001b[0;34m+=\u001b[0m \u001b[0msum\u001b[0m\u001b[0;34m(\u001b[0m\u001b[0;34m[\u001b[0m\u001b[0;36m1\u001b[0m \u001b[0;32mfor\u001b[0m \u001b[0mcouple\u001b[0m \u001b[0;32min\u001b[0m \u001b[0mcouples\u001b[0m \u001b[0;32mif\u001b[0m \u001b[0;34m(\u001b[0m\u001b[0mi\u001b[0m\u001b[0;34m,\u001b[0m\u001b[0mj\u001b[0m\u001b[0;34m)\u001b[0m \u001b[0;32min\u001b[0m \u001b[0mcouple\u001b[0m\u001b[0;34m]\u001b[0m\u001b[0;34m)\u001b[0m\u001b[0;34m\u001b[0m\u001b[0m\n\u001b[0m\u001b[1;32m     26\u001b[0m \u001b[0;34m\u001b[0m\u001b[0m\n\u001b[1;32m     27\u001b[0m     \u001b[0;32mreturn\u001b[0m \u001b[0malpha\u001b[0m\u001b[0;34m,\u001b[0m \u001b[0mgamma\u001b[0m\u001b[0;34m,\u001b[0m \u001b[0mtrajectories_sample\u001b[0m\u001b[0;34m[\u001b[0m\u001b[0;36m0\u001b[0m\u001b[0;34m]\u001b[0m\u001b[0;34m\u001b[0m\u001b[0m\n",
      "\u001b[0;31mKeyboardInterrupt\u001b[0m: "
     ]
    }
   ],
   "source": [
    "alpha, gamma, best_traj = bayesian_cross_entropy(D, 100)"
   ]
  },
  {
   "cell_type": "code",
   "execution_count": 236,
   "metadata": {
    "collapsed": false
   },
   "outputs": [
    {
     "data": {
      "text/plain": [
       "<matplotlib.collections.PathCollection at 0x122d7c8d0>"
      ]
     },
     "execution_count": 236,
     "metadata": {},
     "output_type": "execute_result"
    },
    {
     "data": {
      "image/png": "[encoded data removed]",
      "text/plain": [
       "<matplotlib.figure.Figure at 0x123941390>"
      ]
     },
     "metadata": {},
     "output_type": "display_data"
    }
   ],
   "source": [
    "for i in range(len(best_traj)-1):\n",
    "    plt.plot((X[best_traj[i]][0], X[best_traj[i+1]][0]), (X[best_traj[i]][1], X[best_traj[i+1]][1]))\n",
    "plt.scatter(X[:,0], X[:,1])"
   ]
  },
  {
   "cell_type": "markdown",
   "metadata": {},
   "source": [
    "4) Bonus: en fonction du temps disponible, vous pouvez tester votre algorithme\n",
    "sur de “gros” problèmes (par ex. trajet optimal du tour de France\n",
    "en se basant sur la liste des villes de l’année dernière), ou comparer à\n",
    "d’autres algorithmes que vous trouverez dans la littérature."
   ]
  },
  {
   "cell_type": "markdown",
   "metadata": {},
   "source": [
    "Faire tourner sur des villes random en France"
   ]
  },
  {
   "cell_type": "code",
   "execution_count": null,
   "metadata": {
    "collapsed": true
   },
   "outputs": [],
   "source": []
  }
 ],
 "metadata": {
  "kernelspec": {
   "display_name": "Python 3",
   "language": "python",
   "name": "python3"
  },
  "language_info": {
   "codemirror_mode": {
    "name": "ipython",
    "version": 3
   },
   "file_extension": ".py",
   "mimetype": "text/x-python",
   "name": "python",
   "nbconvert_exporter": "python",
   "pygments_lexer": "ipython3",
   "version": "3.5.3"
  }
 },
 "nbformat": 4,
 "nbformat_minor": 0
}
