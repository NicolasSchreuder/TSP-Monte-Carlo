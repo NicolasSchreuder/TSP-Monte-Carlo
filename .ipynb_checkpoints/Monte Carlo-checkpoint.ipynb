{
 "cells": [
  {
   "cell_type": "markdown",
   "metadata": {},
   "source": [
    "# Le voyageur de commerce\n",
    "\n",
    "Ce projet est inspiré du Chapitre 4 du livre “The Cross-Entropy Method” de\n",
    "Rubinstein et Kroese.\n",
    "\n",
    "Le problème du voyageur de commerce (en anglais, TSP, travelling salesman\n",
    "problem) revient à minimiser le trajet effectué entre M villes, sous la contrainte\n",
    "de passer par chaque ville exactement une fois. Soit D la matrice telle que Dij\n",
    "est la distance entre la ville i et la ville j; noter que Dii = 0 et D est symétrique."
   ]
  },
  {
   "cell_type": "markdown",
   "metadata": {},
   "source": [
    "1) Rappeler (ou retrouver!) la méthode permettant de simuler efficacement\n",
    "N vecteurs selon la loi Multinomiale définie par le vecteur de probabilité\n",
    "p = (p1, . . . , pM). La mettre en œuvre."
   ]
  },
  {
   "cell_type": "code",
   "execution_count": 4,
   "metadata": {
    "collapsed": false
   },
   "outputs": [
    {
     "name": "stdout",
     "output_type": "stream",
     "text": [
      "Populating the interactive namespace from numpy and matplotlib\n"
     ]
    }
   ],
   "source": [
    "import matplotlib.pyplot as plt\n",
    "import seaborn\n",
    "%pylab inline"
   ]
  },
  {
   "cell_type": "code",
   "execution_count": 5,
   "metadata": {
    "collapsed": false
   },
   "outputs": [
    {
     "data": {
      "text/plain": [
       "(array([ 1024.,   955.,   975.,  1016.,   952.,  1049.,  1001.,   993.,\n",
       "         1033.,  1002.]),\n",
       " array([  1.69273724e-05,   1.00012033e-01,   2.00007139e-01,\n",
       "          3.00002245e-01,   3.99997351e-01,   4.99992458e-01,\n",
       "          5.99987564e-01,   6.99982670e-01,   7.99977776e-01,\n",
       "          8.99972882e-01,   9.99967988e-01]),\n",
       " <a list of 10 Patch objects>)"
      ]
     },
     "execution_count": 5,
     "metadata": {},
     "output_type": "execute_result"
    },
    {
     "data": {
      "image/png": "[encoded data removed]",
      "text/plain": [
       "<matplotlib.figure.Figure at 0x108871f98>"
      ]
     },
     "metadata": {},
     "output_type": "display_data"
    }
   ],
   "source": [
    "from scipy.stats import expon\n",
    "def sorted_uniforms(N):\n",
    "    \"\"\"\n",
    "    Returns N sorted uniforms\n",
    "    \"\"\"\n",
    "    E = expon.rvs(size=N+1)\n",
    "    V = [sum(E[:i+1]) for i in range(N+1)]\n",
    "    return V[:-1]/V[-1]\n",
    "\n",
    "\n",
    "plt.hist(sorted_uniforms(10000))"
   ]
  },
  {
   "cell_type": "code",
   "execution_count": 6,
   "metadata": {
    "collapsed": false
   },
   "outputs": [],
   "source": [
    "def multinomial(P, N):    \n",
    "    su = sorted_uniforms(N)\n",
    "    j = 0\n",
    "    s = P[0]\n",
    "    A = []\n",
    "    for n in range(N):\n",
    "        while su[n] > s:\n",
    "            j += 1\n",
    "            s += P[j]\n",
    "        A += [j]\n",
    "    return A"
   ]
  },
  {
   "cell_type": "code",
   "execution_count": 7,
   "metadata": {
    "collapsed": false
   },
   "outputs": [
    {
     "data": {
      "text/plain": [
       "(array([ 1294.,     0.,  1268.,     0.,     0.,  1211.,     0.,   618.,\n",
       "            0.,   609.]),\n",
       " array([ 0. ,  0.4,  0.8,  1.2,  1.6,  2. ,  2.4,  2.8,  3.2,  3.6,  4. ]),\n",
       " <a list of 10 Patch objects>)"
      ]
     },
     "execution_count": 7,
     "metadata": {},
     "output_type": "execute_result"
    },
    {
     "data": {
      "image/png": "[encoded data removed]",
      "text/plain": [
       "<matplotlib.figure.Figure at 0x11b0826d8>"
      ]
     },
     "metadata": {},
     "output_type": "display_data"
    }
   ],
   "source": [
    "P = [1/4, 1/4, 1/4, 1/8, 1/8]\n",
    "plt.hist(multinomial(P, 5000))"
   ]
  },
  {
   "cell_type": "code",
   "execution_count": 8,
   "metadata": {
    "collapsed": false
   },
   "outputs": [
    {
     "data": {
      "text/plain": [
       "[0, 0, 1, 1, 1, 1, 2, 3, 4, 4]"
      ]
     },
     "execution_count": 8,
     "metadata": {},
     "output_type": "execute_result"
    }
   ],
   "source": [
    "multinomial(P, 10)"
   ]
  },
  {
   "cell_type": "markdown",
   "metadata": {},
   "source": [
    "2) Utiliser l’algorithme CE vu en cours pour résoudre le problème TSP. Pour\n",
    "ce faire, proposer une famille paramétrique de lois pour la simulation de\n",
    "trajets. Programmer cet algorithme, et le tester sur quelques exemples."
   ]
  },
  {
   "cell_type": "code",
   "execution_count": 28,
   "metadata": {
    "collapsed": false
   },
   "outputs": [
    {
     "data": {
      "text/plain": [
       "array([[ 0.        ,  0.20037082,  0.02924278,  0.20361467,  0.12374815,\n",
       "         0.09548709,  0.03591384,  0.03886779,  0.15481803,  0.11793683],\n",
       "       [ 0.12924869,  0.        ,  0.14356297,  0.1900092 ,  0.00671347,\n",
       "         0.18999887,  0.10560873,  0.12535423,  0.03734534,  0.0721585 ],\n",
       "       [ 0.07805026,  0.15188496,  0.        ,  0.19544667,  0.06544114,\n",
       "         0.14690749,  0.1192698 ,  0.00427178,  0.13513503,  0.10359287],\n",
       "       [ 0.16433199,  0.03349315,  0.0516289 ,  0.        ,  0.206342  ,\n",
       "         0.12274254,  0.09940448,  0.03462884,  0.26885003,  0.01857806],\n",
       "       [ 0.01419368,  0.24140484,  0.09923177,  0.04906288,  0.        ,\n",
       "         0.16565758,  0.12994966,  0.05126801,  0.11604665,  0.13318493],\n",
       "       [ 0.13761504,  0.14140883,  0.00550757,  0.10856004,  0.11330342,\n",
       "         0.        ,  0.0453534 ,  0.23501218,  0.13453999,  0.07869952],\n",
       "       [ 0.24099358,  0.07421171,  0.09139828,  0.05151301,  0.12907004,\n",
       "         0.1360122 ,  0.        ,  0.08049633,  0.15362614,  0.04267871],\n",
       "       [ 0.21547657,  0.02210629,  0.06475978,  0.07904294,  0.00577532,\n",
       "         0.06658152,  0.11693792,  0.        ,  0.2162254 ,  0.21309425],\n",
       "       [ 0.01485399,  0.12783368,  0.03522172,  0.02680172,  0.02500568,\n",
       "         0.16978387,  0.10303493,  0.26072599,  0.        ,  0.23673842],\n",
       "       [ 0.0379323 ,  0.04845717,  0.08656503,  0.03084789,  0.16878761,\n",
       "         0.15434527,  0.17183172,  0.17926742,  0.12196559,  0.        ]])"
      ]
     },
     "execution_count": 28,
     "metadata": {},
     "output_type": "execute_result"
    }
   ],
   "source": [
    "# Random distance matrix\n",
    "number_of_cities = 10\n",
    "D = np.reshape(np.random.poisson(number_of_cities, number_of_cities**2), (number_of_cities,number_of_cities))\n",
    "for i in range(number_of_cities):\n",
    "    D[i,i] = 0\n",
    "    for j in range(number_of_cities):\n",
    "        D[i,j] = D[j, i]\n",
    "\n",
    "# Random transition matrix\n",
    "from sklearn.preprocessing import normalize\n",
    "P = np.reshape(np.random.rand(number_of_cities**2), (number_of_cities,number_of_cities))\n",
    "for i in range(number_of_cities): \n",
    "    P[i,i] = 0\n",
    "P = P/P.sum(axis=1)[:,None]\n",
    "P"
   ]
  },
  {
   "cell_type": "code",
   "execution_count": 11,
   "metadata": {
    "collapsed": false
   },
   "outputs": [],
   "source": [
    "def trajectory(P):\n",
    "    \"\"\"\n",
    "    \n",
    "    \"\"\"\n",
    "    P_ = P.copy()\n",
    "    X = np.zeros(len(P), np.int8)\n",
    "    for i in range(len(P)-1):\n",
    "        P_[:,X[i]] = 0\n",
    "        P_ = P_/P_.sum(axis=1)[:,None]\n",
    "        X[i+1] = multinomial(P_[X[i],:], 1)[0]\n",
    "    return X\n",
    "X = trajectory(P)"
   ]
  },
  {
   "cell_type": "code",
   "execution_count": 12,
   "metadata": {
    "collapsed": true
   },
   "outputs": [],
   "source": [
    "def multi_trajectories(P, N):\n",
    "    return [trajectory(P) for i in range(N)]"
   ]
  },
  {
   "cell_type": "code",
   "execution_count": 24,
   "metadata": {
    "collapsed": false,
    "scrolled": true
   },
   "outputs": [],
   "source": [
    "def S(X, D):\n",
    "    \"\"\"\n",
    "    Input: \n",
    "    X 1D-array representing a path on a graph\n",
    "    D 2D-array distance matrice for the graph\n",
    "    \n",
    "    Output:\n",
    "    The length of the path X (starting from X[0] and ending on X[0])\n",
    "    \n",
    "    \"\"\"\n",
    "    return sum([D[X[i], X[(i+1)%len(X)]] for i in range(len(X))])"
   ]
  },
  {
   "cell_type": "code",
   "execution_count": 21,
   "metadata": {
    "collapsed": false
   },
   "outputs": [
    {
     "data": {
      "text/plain": [
       "array([[ 0. ,  0.5,  0.5],\n",
       "       [ 0.5,  0. ,  0.5],\n",
       "       [ 0.5,  0.5,  0. ]])"
      ]
     },
     "execution_count": 21,
     "metadata": {},
     "output_type": "execute_result"
    }
   ],
   "source": [
    "def init_P(size):\n",
    "    \"\"\"\n",
    "    Returns a stochastic matrix of dim size*size with zeros on the diagonal and 1/(size-1) elsewhere \n",
    "    \"\"\"\n",
    "    P = (np.ones((size, size)) - np.identity((size)))/(size-1)\n",
    "    return P\n",
    "\n",
    "init_P(3)"
   ]
  },
  {
   "cell_type": "code",
   "execution_count": 29,
   "metadata": {
    "collapsed": false
   },
   "outputs": [],
   "source": [
    "def cross_entropy(C, n, rho=5, alpha=0.9):\n",
    "    \"\"\"\n",
    "    \n",
    "    \"\"\"\n",
    "    \n",
    "    degree = len(C)\n",
    "    \n",
    "    P = init_P(degree)\n",
    "    \n",
    "    \n",
    "    # revoir le critère d'arrête\n",
    "    \n",
    "    length = [0,1]\n",
    "    \n",
    "    while max(length) > min(length) + 0.01:\n",
    "\n",
    "        trajectories = multi_trajectories(P, n)\n",
    "\n",
    "        length = [S(trajectory, C) for trajectory in trajectories]\n",
    "\n",
    "        gamma = np.percentile(length, rho, interpolation='lower')\n",
    "\n",
    "        trajectories_sample = [traj for traj in trajectories if S(traj, C) <= gamma]\n",
    "\n",
    "        couples = [[(traj[i], traj[(i+1)%degree]) for i in range(degree)] for traj in trajectories_sample]\n",
    "        \n",
    "        P_ = P.copy()\n",
    "        for i in range(degree):\n",
    "            for j in range(degree):\n",
    "                P_[i,j] = sum([1 for couple in couples if (i,j) in couple])/len(trajectories_sample)\n",
    "                \n",
    "        P = alpha * P_ + (1-alpha)* P\n",
    "        \n",
    "    return P, gamma, trajectories_sample[0]"
   ]
  },
  {
   "cell_type": "code",
   "execution_count": 159,
   "metadata": {
    "collapsed": false,
    "scrolled": true
   },
   "outputs": [],
   "source": [
    "P, gamma, best_traj = cross_entropy(C, 1000)"
   ]
  },
  {
   "cell_type": "code",
   "execution_count": 160,
   "metadata": {
    "collapsed": false
   },
   "outputs": [
    {
     "data": {
      "text/plain": [
       "array([0, 8, 6, 7, 9, 4, 3, 1, 2, 5], dtype=int8)"
      ]
     },
     "execution_count": 160,
     "metadata": {},
     "output_type": "execute_result"
    }
   ],
   "source": [
    "best_traj"
   ]
  },
  {
   "cell_type": "markdown",
   "metadata": {},
   "source": [
    "3) Concernant l’estimation bayésienne de vecteurs de probabilité d’une loi\n",
    "multinomiale, retrouver le fait que la famille des lois de Dirichlet est\n",
    "conjuguée pour ce modèle. Expliquer comment en pratique vous pouvez\n",
    "utiliser cette propriété pour améliorer votre algorithme."
   ]
  },
  {
   "cell_type": "markdown",
   "metadata": {},
   "source": [
    "If $p = (p_1,...,p_k) \\sim Dirichlet_k(\\alpha_1, ..., \\alpha_k)$, the density of $p$ is given by :\n",
    "$$ \\pi(p_1,...,p_k ; \\alpha_1, ..., \\alpha_k) = \\dfrac{1}{B(\\alpha)} \\Pi_{i=1}^k p_i^{\\alpha_i - 1} $$ \n",
    "for all $p_1,...,p_k >0$ such that $p_k = 1 - \\sum_{j=1}^{k-1} p_j$.\n",
    "\n",
    "If $x = (x_1,...,x_k) \\sim Multinomial(p_1,...,p_k)$, the likelihood of $x$ is given by :\n",
    "\n",
    "$$ L(x_1,...,x_k ; p_1,...,p_k) = \\dfrac{ (\\sum_i x_i)! }{x_1!...x_k!} \\Pi_{i=1}^k p_i^{x_i} $$\n",
    "\n",
    "We deduce :\n",
    "\n",
    "$$ \\pi(p_1,...,p_k ; \\alpha_1, ..., \\alpha_k, x_1,...,x_k) \\propto \\Pi_{i=1}^k p_i^{\\alpha_i + x_i - 1} $$ \n",
    "\n",
    "Hence, by identification, $p|x \\sim Dirichlet_k(\\alpha_1 + x_1, ..., \\alpha_k + x_k)$ so the Dirichlet distribution family is conjugate for this model."
   ]
  },
  {
   "cell_type": "markdown",
   "metadata": {},
   "source": [
    "4) Bonus: en fonction du temps disponible, vous pouvez tester votre algorithme\n",
    "sur de “gros” problèmes (par ex. trajet optimal du tour de France\n",
    "en se basant sur la liste des villes de l’année dernière), ou comparer à\n",
    "d’autres algorithmes que vous trouverez dans la littérature."
   ]
  },
  {
   "cell_type": "code",
   "execution_count": null,
   "metadata": {
    "collapsed": true
   },
   "outputs": [],
   "source": []
  }
 ],
 "metadata": {
  "kernelspec": {
   "display_name": "Python 3",
   "language": "python",
   "name": "python3"
  },
  "language_info": {
   "codemirror_mode": {
    "name": "ipython",
    "version": 3
   },
   "file_extension": ".py",
   "mimetype": "text/x-python",
   "name": "python",
   "nbconvert_exporter": "python",
   "pygments_lexer": "ipython3",
   "version": "3.5.3"
  }
 },
 "nbformat": 4,
 "nbformat_minor": 0
}
