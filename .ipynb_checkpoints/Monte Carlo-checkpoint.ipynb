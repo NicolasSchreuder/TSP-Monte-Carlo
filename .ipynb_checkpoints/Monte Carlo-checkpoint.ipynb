{
 "cells": [
  {
   "cell_type": "markdown",
   "metadata": {
    "collapsed": true
   },
   "source": [
    "# Le voyageur de commerce\n",
    "\n",
    "Ce projet est inspiré du Chapitre 4 du livre “The Cross-Entropy Method” de\n",
    "Rubinstein et Kroese.\n",
    "\n",
    "Le problème du voyageur de commerce (en anglais, TSP, travelling salesman\n",
    "problem) revient à minimiser le trajet effectué entre M villes, sous la contrainte\n",
    "de passer par chaque ville exactement une fois. Soit D la matrice telle que Dij\n",
    "est la distance entre la ville i et la ville j; noter que Dii = 0 et D est symétrique."
   ]
  },
  {
   "cell_type": "markdown",
   "metadata": {},
   "source": [
    "1) Rappeler (ou retrouver!) la méthode permettant de simuler efficacement\n",
    "N vecteurs selon la loi Multinomiale définie par le vecteur de probabilité\n",
    "p = (p1, . . . , pM). La mettre en œuvre."
   ]
  },
  {
   "cell_type": "code",
   "execution_count": 26,
   "metadata": {
    "collapsed": false
   },
   "outputs": [
    {
     "name": "stdout",
     "output_type": "stream",
     "text": [
      "Populating the interactive namespace from numpy and matplotlib\n",
      "The line_profiler extension is already loaded. To reload it, use:\n",
      "  %reload_ext line_profiler\n"
     ]
    },
    {
     "name": "stderr",
     "output_type": "stream",
     "text": [
      "WARNING: pylab import has clobbered these variables: ['uniform', 'sqrt', 'radians', 'cos', 'sin']\n",
      "`%matplotlib` prevents importing * from pylab and numpy\n"
     ]
    }
   ],
   "source": [
    "%pylab inline\n",
    "%load_ext line_profiler"
   ]
  },
  {
   "cell_type": "code",
   "execution_count": 27,
   "metadata": {
    "collapsed": false
   },
   "outputs": [],
   "source": [
    "import matplotlib.pyplot as plt\n",
    "import seaborn\n",
    "\n",
    "from scipy.stats import expon, uniform\n",
    "\n",
    "from sklearn.preprocessing import normalize"
   ]
  },
  {
   "cell_type": "code",
   "execution_count": 28,
   "metadata": {
    "collapsed": false,
    "scrolled": true
   },
   "outputs": [
    {
     "data": {
      "text/plain": [
       "(array([  996.,   993.,  1028.,  1072.,   975.,   963.,  1032.,   978.,\n",
       "          976.,   987.]),\n",
       " array([  1.85889611e-04,   1.00155163e-01,   2.00124436e-01,\n",
       "          3.00093709e-01,   4.00062983e-01,   5.00032256e-01,\n",
       "          6.00001529e-01,   6.99970802e-01,   7.99940076e-01,\n",
       "          8.99909349e-01,   9.99878622e-01]),\n",
       " <a list of 10 Patch objects>)"
      ]
     },
     "execution_count": 28,
     "metadata": {},
     "output_type": "execute_result"
    },
    {
     "data": {
      "image/png": "[encoded data removed]",
      "text/plain": [
       "<matplotlib.figure.Figure at 0x1202277b8>"
      ]
     },
     "metadata": {},
     "output_type": "display_data"
    }
   ],
   "source": [
    "def sorted_uniforms(N):\n",
    "    \"\"\"\n",
    "    Returns N sorted uniforms\n",
    "    \"\"\"\n",
    "    E = expon.rvs(size=N+1)\n",
    "    V = [sum(E[:i+1]) for i in range(N+1)]\n",
    "    return V[:-1]/V[-1]\n",
    "\n",
    "plt.hist(sorted_uniforms(10000))"
   ]
  },
  {
   "cell_type": "code",
   "execution_count": 29,
   "metadata": {
    "collapsed": false
   },
   "outputs": [],
   "source": [
    "def multinomial_su(P, N):\n",
    "    \"\"\"\n",
    "    Returns a vector of N multinomials using sorted uniforms\n",
    "    \"\"\"\n",
    "    su = sorted_uniforms(N)\n",
    "    j = 0\n",
    "    s = P[0]\n",
    "    A = [0]\n",
    "    for n in range(N):\n",
    "        while su[n] > s:\n",
    "            j += 1\n",
    "            A += [0]\n",
    "            s += P[j]\n",
    "        A[j] += 1\n",
    "        \n",
    "    return A"
   ]
  },
  {
   "cell_type": "code",
   "execution_count": 30,
   "metadata": {
    "collapsed": false
   },
   "outputs": [],
   "source": [
    "def multinomial_bin(P,N):\n",
    "    \"\"\" \n",
    "    Returs a vector of N multinomial using binomial distribution\n",
    "    \"\"\"\n",
    "    number_simulated = 0\n",
    "    n_coeffs = len(P)\n",
    "    multinomials = np.zeros(n_coeffs)\n",
    "    i = 0\n",
    "    N_ = N\n",
    "    while N_ > 0 and i < n_coeffs :\n",
    "        N_ -= number_simulated\n",
    "        binomial = uniform.rvs(size = N_)\n",
    "        n_p = np.count_nonzero(binomial < P[i])\n",
    "        multinomials[i] = np.count_nonzero(binomial < P[i])\n",
    "        i+=1\n",
    "    return multinomials"
   ]
  },
  {
   "cell_type": "code",
   "execution_count": 31,
   "metadata": {
    "collapsed": false,
    "scrolled": false
   },
   "outputs": [
    {
     "name": "stdout",
     "output_type": "stream",
     "text": [
      "[262, 233, 279, 110, 116]\n",
      "[ 257.  249.  247.  133.  122.]\n"
     ]
    }
   ],
   "source": [
    "# Example\n",
    "P = [1/4, 1/4, 1/4, 1/8, 1/8]\n",
    "print(multinomial_su(P, 1000))\n",
    "print(multinomial_bin(P, 1000))"
   ]
  },
  {
   "cell_type": "code",
   "execution_count": 37,
   "metadata": {
    "collapsed": false
   },
   "outputs": [
    {
     "name": "stdout",
     "output_type": "stream",
     "text": [
      "Multinomial (sorted uniforms method): \n",
      "10 loops, best of 3: 66.2 ms per loop\n",
      "Multinomial (binomial method): \n",
      "1000 loops, best of 3: 1.01 ms per loop\n",
      "Numpy multinomial:\n",
      "The slowest run took 9.74 times longer than the fastest. This could mean that an intermediate result is being cached.\n",
      "100000 loops, best of 3: 3.2 µs per loop\n"
     ]
    }
   ],
   "source": [
    "# Speed comparison\n",
    "n = 10000\n",
    "print(\"Multinomial (sorted uniforms method): \") \n",
    "%timeit multinomial_su(P, n)\n",
    "print(\"Multinomial (binomial method): \")\n",
    "%timeit multinomial_bin(P, n)\n",
    "print(\"Numpy multinomial:\")\n",
    "%timeit np.random.multinomial(n, P, size=1)"
   ]
  },
  {
   "cell_type": "markdown",
   "metadata": {},
   "source": [
    "2) Utiliser l’algorithme CE vu en cours pour résoudre le problème TSP. Pour\n",
    "ce faire, proposer une famille paramétrique de lois pour la simulation de\n",
    "trajets. Programmer cet algorithme, et le tester sur quelques exemples."
   ]
  },
  {
   "cell_type": "code",
   "execution_count": 228,
   "metadata": {
    "collapsed": false,
    "scrolled": true
   },
   "outputs": [
    {
     "data": {
      "image/png": "[encoded data removed]",
      "text/plain": [
       "<matplotlib.figure.Figure at 0x11f0cbfd0>"
      ]
     },
     "metadata": {},
     "output_type": "display_data"
    }
   ],
   "source": [
    "# Random cities\n",
    "number_of_cities = 10\n",
    "X = np.array([(np.random.rand(2)) for i in range(number_of_cities)])\n",
    "plt.scatter(X[:,0], X[:,1])\n",
    "\n",
    "D = np.empty((number_of_cities,number_of_cities))\n",
    "for i in range(number_of_cities):\n",
    "    D[i,i] = 0\n",
    "    for j in range(number_of_cities):\n",
    "        D[i,j] = np.linalg.norm(X[i]-X[j])\n",
    "        D[j,i] = D[i,j]\n",
    "        \n",
    "# Random transition matrix P\n",
    "P = np.reshape(np.random.rand(number_of_cities**2), (number_of_cities,number_of_cities))\n",
    "for i in range(number_of_cities): \n",
    "    P[i,i] = 0\n",
    "P = P/P.sum(axis=1)[:,None]"
   ]
  },
  {
   "cell_type": "code",
   "execution_count": 119,
   "metadata": {
    "collapsed": false
   },
   "outputs": [],
   "source": [
    "def one_step(d, P):\n",
    "    \"\"\"\n",
    "    d represents partial trajectories and their number\n",
    "    e.g. d = {(1,5,4,3):34, (1,3,6,7):16} means 34 partial trajectory went through (1,5,4,3) \n",
    "    The function generates the next step of the trajectory with P\n",
    "    \"\"\"\n",
    "    new_dict = {}\n",
    "    \n",
    "    # d.keys() are all the partial trajectories\n",
    "    for traj in d.keys():\n",
    "        n = d[traj]\n",
    "        if traj != 0:\n",
    "            traj = list(traj)\n",
    "        else:\n",
    "            traj = [0]\n",
    "        \n",
    "        P1 = P.copy()\n",
    "        \n",
    "        # traj[-1] is the current vertex of the trajectory\n",
    "        alpha = P1[traj[-1], :]\n",
    "        \n",
    "        # We set to zeros the column of the already visited vertices so they can't be visited twice\n",
    "        alpha[traj[:-1]] = 0\n",
    "        \n",
    "        # Normalizes so alpha is a valid probability vector \n",
    "        alpha = alpha / sum(alpha)\n",
    "        \n",
    "        # Generates the next step of the trajectory\n",
    "        new = np.random.multinomial(n, alpha, size=1).tolist()[0]\n",
    "        \n",
    "        # Updates trajectories\n",
    "        new_dict.update({ tuple(traj + [j]) : new[j] for j in range(1, len(new)) if new[j] != 0})\n",
    "    \n",
    "    # Returns the updated trajectories\n",
    "    return new_dict"
   ]
  },
  {
   "cell_type": "code",
   "execution_count": 120,
   "metadata": {
    "collapsed": true
   },
   "outputs": [],
   "source": [
    "def multi_trajectories(P, N):\n",
    "    \"\"\"\n",
    "    Generates N stochastic trajectories according to transition matrix P\n",
    "    \"\"\"\n",
    "    d = {(0):N}\n",
    "    \n",
    "    # We proceed step by step\n",
    "    for i in range(len(P)-1):\n",
    "        d = one_step(d, P)\n",
    "    return d"
   ]
  },
  {
   "cell_type": "code",
   "execution_count": 121,
   "metadata": {
    "collapsed": false
   },
   "outputs": [],
   "source": [
    "%lprun -f one_step multi_trajectories(P, 100)"
   ]
  },
  {
   "cell_type": "code",
   "execution_count": 122,
   "metadata": {
    "collapsed": false,
    "scrolled": true
   },
   "outputs": [],
   "source": [
    "def S(X, D):\n",
    "    \"\"\"\n",
    "    Input: \n",
    "    X 1D-array representing a path on a graph\n",
    "    D 2D-array distance matrice for the graph\n",
    "    \n",
    "    Output:\n",
    "    The length of the path X (starting from X[0] and ending on X[0])\n",
    "    \n",
    "    \"\"\"\n",
    "    return sum([D[X[i], X[(i+1)%len(X)]] for i in range(len(X))])"
   ]
  },
  {
   "cell_type": "code",
   "execution_count": 123,
   "metadata": {
    "collapsed": false,
    "scrolled": true
   },
   "outputs": [
    {
     "data": {
      "text/plain": [
       "array([[ 0. ,  0.5,  0.5],\n",
       "       [ 0.5,  0. ,  0.5],\n",
       "       [ 0.5,  0.5,  0. ]])"
      ]
     },
     "execution_count": 123,
     "metadata": {},
     "output_type": "execute_result"
    }
   ],
   "source": [
    "def init_P(size):\n",
    "    \"\"\"\n",
    "    Returns a stochastic matrix of dim size*size with zeros on the diagonal and 1/(size-1) elsewhere \n",
    "    \"\"\"\n",
    "    P = (np.ones((size, size)) - np.identity((size)))/(size-1)\n",
    "    return P\n",
    "\n",
    "init_P(3)"
   ]
  },
  {
   "cell_type": "code",
   "execution_count": 145,
   "metadata": {
    "collapsed": false
   },
   "outputs": [],
   "source": [
    "def cross_entropy(C, n, rho=10, alpha=0.99):\n",
    "    \"\"\"\n",
    "    Cross-entropy algorithm to find the best trajectory matrix\n",
    "    \"\"\"\n",
    "    # Number of vertices\n",
    "    degree = len(C)\n",
    "    \n",
    "    # Initial transition matrix\n",
    "    P = init_P(degree)\n",
    "\n",
    "    length = [0,1]\n",
    "    \n",
    "    while max(length) > min(length):\n",
    "        # Generates n trajectories\n",
    "        trajectories = multi_trajectories(P, n)\n",
    "        \n",
    "        # Sets the right format for the trajectories\n",
    "        trajectories = [np.array(traj) for traj in trajectories.keys()]\n",
    "        \n",
    "        # Computes the length of each trajectorie\n",
    "        length = [S(trajectory, C) for trajectory in trajectories]\n",
    "        \n",
    "        # Percentile of order rho for the length of the trajectories\n",
    "        gamma = np.percentile(length, rho, interpolation='lower')\n",
    "\n",
    "        # Keeps only the best trajectories (length of trajectory < gamma )\n",
    "        trajectories_sample = [traj for i, traj in enumerate(trajectories) if length[i] <= gamma]\n",
    "        \n",
    "        # Updates transition matrix \n",
    "        P_ = np.zeros(P.shape)\n",
    "        for i in range(degree):\n",
    "            for traj in trajectories_sample:\n",
    "                P_[traj[i], traj[(i+1)%degree]] += 1/len(trajectories_sample)\n",
    "        # Avoids getting zeros for non diagonal terms (otherwise it would create illicit trajectories)\n",
    "        P = alpha * P_ + (1-alpha)* P            \n",
    "    \n",
    "    return P, gamma, trajectories_sample[0]"
   ]
  },
  {
   "cell_type": "code",
   "execution_count": 146,
   "metadata": {
    "collapsed": false
   },
   "outputs": [],
   "source": [
    "%lprun -f cross_entropy cross_entropy(D, 3000)"
   ]
  },
  {
   "cell_type": "code",
   "execution_count": 137,
   "metadata": {
    "collapsed": false
   },
   "outputs": [],
   "source": [
    "P, gamma, best_traj =  cross_entropy(D, 3000)"
   ]
  },
  {
   "cell_type": "code",
   "execution_count": 138,
   "metadata": {
    "collapsed": false,
    "scrolled": false
   },
   "outputs": [
    {
     "data": {
      "text/plain": [
       "<matplotlib.image.AxesImage at 0x11f662780>"
      ]
     },
     "execution_count": 138,
     "metadata": {},
     "output_type": "execute_result"
    },
    {
     "data": {
      "image/png": "[encoded data removed]",
      "text/plain": [
       "<matplotlib.figure.Figure at 0x11dcc1d68>"
      ]
     },
     "metadata": {},
     "output_type": "display_data"
    }
   ],
   "source": [
    "# We plot the matrix\n",
    "plt.matshow(P,interpolation='none')"
   ]
  },
  {
   "cell_type": "code",
   "execution_count": 139,
   "metadata": {
    "collapsed": false
   },
   "outputs": [
    {
     "data": {
      "text/plain": [
       "<matplotlib.collections.PathCollection at 0x11e676978>"
      ]
     },
     "execution_count": 139,
     "metadata": {},
     "output_type": "execute_result"
    },
    {
     "data": {
      "image/png": "[encoded data removed]",
      "text/plain": [
       "<matplotlib.figure.Figure at 0x11b4e7978>"
      ]
     },
     "metadata": {},
     "output_type": "display_data"
    }
   ],
   "source": [
    "# We plot the best trajectory\n",
    "for i in range(len(best_traj)):\n",
    "    plt.plot((X[best_traj[i]][0], X[best_traj[(i+1)%len(best_traj)]][0]), (X[best_traj[i]][1], X[best_traj[(i+1)%len(best_traj)]][1]))\n",
    "plt.scatter(X[:,0], X[:,1])"
   ]
  },
  {
   "cell_type": "markdown",
   "metadata": {},
   "source": [
    "3) Concernant l’estimation bayésienne de vecteurs de probabilité d’une loi\n",
    "multinomiale, retrouver le fait que la famille des lois de Dirichlet est\n",
    "conjuguée pour ce modèle. Expliquer comment en pratique vous pouvez\n",
    "utiliser cette propriété pour améliorer votre algorithme."
   ]
  },
  {
   "cell_type": "markdown",
   "metadata": {},
   "source": [
    "If $p = (p_1,...,p_k) \\sim Dirichlet_k(\\alpha_1, ..., \\alpha_k)$, the density of $p$ is given by :\n",
    "$$ \\pi(p_1,...,p_k ; \\alpha_1, ..., \\alpha_k) = \\dfrac{1}{B(\\alpha)} \\Pi_{i=1}^k p_i^{\\alpha_i - 1} $$ \n",
    "for all $p_1,...,p_k >0$ such that $p_k = 1 - \\sum_{j=1}^{k-1} p_j$.\n",
    "\n",
    "If $x = (x_1,...,x_k) \\sim Multinomial(p_1,...,p_k)$, the likelihood of $x$ is given by :\n",
    "\n",
    "$$ L(x_1,...,x_k ; p_1,...,p_k) = \\dfrac{ (\\sum_i x_i)! }{x_1!...x_k!} \\Pi_{i=1}^k p_i^{x_i} $$\n",
    "\n",
    "We deduce :\n",
    "\n",
    "$$ \\pi(p_1,...,p_k ; \\alpha_1, ..., \\alpha_k, x_1,...,x_k) \\propto \\Pi_{i=1}^k p_i^{\\alpha_i + x_i - 1} $$ \n",
    "\n",
    "Hence, by identification, $p|x \\sim Dirichlet_k(\\alpha_1 + x_1, ..., \\alpha_k + x_k)$ so the Dirichlet distribution family is conjugate for this model."
   ]
  },
  {
   "cell_type": "code",
   "execution_count": 165,
   "metadata": {
    "collapsed": false
   },
   "outputs": [],
   "source": [
    "def bayesian_multi_trajectories(alpha, N):\n",
    "    l = []\n",
    "    P = np.empty((len(alpha), len(alpha)))\n",
    "    for j in range(N):\n",
    "        for i in range(len(alpha)):\n",
    "            P[i,:] = numpy.random.dirichlet(alpha[i,:])\n",
    "        l += [trajectory(P)]\n",
    "    return l"
   ]
  },
  {
   "cell_type": "code",
   "execution_count": 220,
   "metadata": {
    "collapsed": true
   },
   "outputs": [],
   "source": [
    "def trajectory(P):\n",
    "    \"\"\"\n",
    "    \"\"\"\n",
    "    P_ = P.copy()\n",
    "    X = np.zeros(len(P), np.int8)\n",
    "    for i in range(len(P)-1):\n",
    "        P_[:,X[i]] = 0\n",
    "        P_ = P_/P_.sum(axis=1)[:,None]\n",
    "        X[i+1] = np.argmax(np.random.multinomial(1, P_[X[i],:], size=1))\n",
    "    return X"
   ]
  },
  {
   "cell_type": "code",
   "execution_count": 225,
   "metadata": {
    "collapsed": true
   },
   "outputs": [],
   "source": [
    "def bayesian_cross_entropy(C, n, rho=5):\n",
    "    \n",
    "    degree = len(C)\n",
    "                \n",
    "    alpha = np.ones((degree, degree))\n",
    "    \n",
    "    length = [0,1]\n",
    "    \n",
    "    while max(length) > min(length):\n",
    "        \n",
    "        trajectories = bayesian_multi_trajectories(alpha, n)        \n",
    "        \n",
    "        length = [S(trajectory, C) for trajectory in trajectories]\n",
    "\n",
    "        gamma = np.percentile(length, rho, interpolation='lower')\n",
    "\n",
    "        trajectories_sample = [traj for i, traj in enumerate(trajectories) if length[i] <= gamma]\n",
    "                \n",
    "        couples = [[(traj[i], traj[(i+1)%degree]) for i in range(degree)] for traj in trajectories_sample]\n",
    "        \n",
    "        print(max(length), min(length))\n",
    "        \n",
    "        for i in range(degree):\n",
    "            for j in range(degree):\n",
    "                alpha[i,j] += sum([1 for couple in couples if (i,j) in couple])            \n",
    "    \n",
    "    return alpha, gamma, trajectories_sample[0]"
   ]
  },
  {
   "cell_type": "code",
   "execution_count": null,
   "metadata": {
    "collapsed": false,
    "scrolled": false
   },
   "outputs": [
    {
     "name": "stdout",
     "output_type": "stream",
     "text": [
      "7.18133952449 3.07061089399\n",
      "6.33907223872 2.68716194528\n",
      "6.41711433674 2.71247437879\n",
      "6.11984367838 2.62442754936\n",
      "5.82516099061 2.62442754936\n",
      "6.20365583101 2.62442754936\n",
      "5.72313921257 2.62442754936\n",
      "5.16139525871 2.62442754936\n",
      "5.72551808862 2.62442754936\n",
      "5.12605470139 2.62442754936\n",
      "4.97504264653 2.62442754936\n",
      "5.11332864395 2.62442754936\n",
      "4.88778771145 2.62442754936\n",
      "5.30044131582 2.62442754936\n",
      "4.77133472441 2.62442754936\n",
      "4.96341037835 2.62442754936\n",
      "4.30595324476 2.62442754936\n",
      "4.67043397228 2.62442754936\n",
      "4.15450862993 2.62442754936\n",
      "4.44635164945 2.62442754936\n",
      "4.51210285544 2.62442754936\n",
      "4.3093288485 2.62442754936\n",
      "3.84666139775 2.62442754936\n",
      "4.17634744004 2.62442754936\n",
      "4.1450627719 2.62442754936\n",
      "3.71111332273 2.62442754936\n",
      "3.89540425519 2.62442754936\n",
      "4.13084140403 2.62442754936\n",
      "4.18342758096 2.62442754936\n",
      "4.76310048567 2.62442754936\n",
      "4.77133472441 2.62442754936\n",
      "4.08991423244 2.62442754936\n",
      "4.35637176112 2.62442754936\n",
      "4.18342758096 2.62442754936\n",
      "3.68381236962 2.62442754936\n",
      "3.63505462941 2.62442754936\n",
      "5.01657476708 2.62442754936\n",
      "3.67045185449 2.62442754936\n",
      "3.8253233286 2.62442754936\n",
      "4.17634744004 2.62442754936\n",
      "4.17103205483 2.62442754936\n",
      "4.80906721706 2.62442754936\n",
      "3.5901596538 2.62442754936\n",
      "4.13084140403 2.62442754936\n",
      "3.69616926425 2.62442754936\n",
      "4.47707060095 2.62442754936\n",
      "4.05168133532 2.62442754936\n"
     ]
    }
   ],
   "source": [
    "alpha, gamma, best_traj = bayesian_cross_entropy(D, 1000)"
   ]
  },
  {
   "cell_type": "code",
   "execution_count": 170,
   "metadata": {
    "collapsed": false,
    "scrolled": false
   },
   "outputs": [
    {
     "data": {
      "text/plain": [
       "<matplotlib.collections.PathCollection at 0x11e681780>"
      ]
     },
     "execution_count": 170,
     "metadata": {},
     "output_type": "execute_result"
    },
    {
     "data": {
      "image/png": "[encoded data removed]",
      "text/plain": [
       "<matplotlib.figure.Figure at 0x120163208>"
      ]
     },
     "metadata": {},
     "output_type": "display_data"
    }
   ],
   "source": [
    "for i in range(len(best_traj)-1):\n",
    "    plt.plot((X[best_traj[i]][0], X[best_traj[i+1]][0]), (X[best_traj[i]][1], X[best_traj[i+1]][1]))\n",
    "plt.scatter(X[:,0], X[:,1])"
   ]
  },
  {
   "cell_type": "markdown",
   "metadata": {},
   "source": [
    "4) Bonus: en fonction du temps disponible, vous pouvez tester votre algorithme\n",
    "sur de “gros” problèmes (par ex. trajet optimal du tour de France\n",
    "en se basant sur la liste des villes de l’année dernière), ou comparer à\n",
    "d’autres algorithmes que vous trouverez dans la littérature."
   ]
  },
  {
   "cell_type": "markdown",
   "metadata": {},
   "source": [
    "Faire tourner sur des villes random en France"
   ]
  },
  {
   "cell_type": "code",
   "execution_count": 21,
   "metadata": {
    "collapsed": false
   },
   "outputs": [],
   "source": [
    "import pandas as pd\n",
    "# https://opendata.paris.fr/explore/dataset/arbresremarquablesparis2011/table/\n",
    "df = pd.read_csv('arbresremarquablesparis2011.csv', sep=';')\n",
    "# arbutus ou sequoia\n",
    "df = df[df['GENRE']=='Sequoia']\n"
   ]
  },
  {
   "cell_type": "code",
   "execution_count": 22,
   "metadata": {
    "collapsed": false,
    "scrolled": true
   },
   "outputs": [],
   "source": [
    "geo_points = df['Geo point'].tolist()\n",
    "nb_trees = len(geo_points)\n",
    "geo_points = [(float(geo_point_str.split(',')[0]), float(geo_point_str.split(',')[1])) for geo_point_str in geo_points]"
   ]
  },
  {
   "cell_type": "code",
   "execution_count": 23,
   "metadata": {
    "collapsed": true
   },
   "outputs": [],
   "source": [
    "from math import radians, cos, sin, asin, sqrt\n",
    "def haversine(lon1, lat1, lon2, lat2):\n",
    "    \"\"\"\n",
    "    Calculate the great circle distance between two points \n",
    "    on the earth (specified in decimal degrees)\n",
    "    \"\"\"\n",
    "    # convert decimal degrees to radians \n",
    "    lon1, lat1, lon2, lat2 = map(radians, [lon1, lat1, lon2, lat2])\n",
    "    # haversine formula \n",
    "    dlon = lon2 - lon1 \n",
    "    dlat = lat2 - lat1 \n",
    "    a = sin(dlat/2)**2 + cos(lat1) * cos(lat2) * sin(dlon/2)**2\n",
    "    c = 2 * asin(sqrt(a)) \n",
    "    km = 6367 * c\n",
    "    return km"
   ]
  },
  {
   "cell_type": "code",
   "execution_count": 24,
   "metadata": {
    "collapsed": false
   },
   "outputs": [],
   "source": [
    "D_trees = numpy.empty((nb_trees,nb_trees))\n",
    "for i in range(nb_trees):\n",
    "    D_trees[i,i] = 0\n",
    "    for j in range(nb_trees):\n",
    "        lon1, lat1 = geo_points[i][0], geo_points[i][1]\n",
    "        lon2, lat2 = geo_points[j][0], geo_points[j][1]\n",
    "        D_trees[i,j] = haversine(lon1, lat1, lon2, lat2)\n",
    "        D_trees[j,i] = D_trees[i,j]"
   ]
  },
  {
   "cell_type": "code",
   "execution_count": 25,
   "metadata": {
    "collapsed": false
   },
   "outputs": [
    {
     "ename": "NameError",
     "evalue": "name 'cross_entropy' is not defined",
     "output_type": "error",
     "traceback": [
      "\u001b[0;31m---------------------------------------------------------------------------\u001b[0m",
      "\u001b[0;31mNameError\u001b[0m                                 Traceback (most recent call last)",
      "\u001b[0;32m<ipython-input-25-fa8650d992b8>\u001b[0m in \u001b[0;36m<module>\u001b[0;34m()\u001b[0m\n\u001b[0;32m----> 1\u001b[0;31m \u001b[0malpha\u001b[0m\u001b[0;34m,\u001b[0m \u001b[0mgamma\u001b[0m\u001b[0;34m,\u001b[0m \u001b[0mbest_traj\u001b[0m \u001b[0;34m=\u001b[0m \u001b[0mcross_entropy\u001b[0m\u001b[0;34m(\u001b[0m\u001b[0mD_trees\u001b[0m\u001b[0;34m,\u001b[0m\u001b[0;36m3000\u001b[0m\u001b[0;34m)\u001b[0m\u001b[0;34m\u001b[0m\u001b[0m\n\u001b[0m",
      "\u001b[0;31mNameError\u001b[0m: name 'cross_entropy' is not defined"
     ]
    }
   ],
   "source": [
    "alpha, gamma, best_traj = cross_entropy(D_trees,3000)"
   ]
  },
  {
   "cell_type": "code",
   "execution_count": 52,
   "metadata": {
    "collapsed": false
   },
   "outputs": [],
   "source": [
    "polyline_best_traj = [geo_points[point] for point in best_traj] + [geo_points[0]]"
   ]
  },
  {
   "cell_type": "code",
   "execution_count": 53,
   "metadata": {
    "collapsed": false
   },
   "outputs": [
    {
     "data": {
      "text/html": [
       "<div style=\"width:100%;\"><div style=\"position:relative;width:100%;height:0;padding-bottom:60%;\"><iframe src=\"data:text/html;charset=utf-8;base64,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\" style=\"position:absolute;width:100%;height:100%;left:0;top:0;border:none !important;\" allowfullscreen webkitallowfullscreen mozallowfullscreen></iframe></div></div>"
      ],
      "text/plain": [
       "<folium.folium.Map at 0x1154bc390>"
      ]
     },
     "execution_count": 53,
     "metadata": {},
     "output_type": "execute_result"
    }
   ],
   "source": [
    "import folium\n",
    "map_osm = folium.Map(location=[48.85, 2.34])\n",
    "for i in range(len(geo_points)-1):\n",
    "    folium.Marker(geo_points[i], popup='Sequoia').add_to(map_osm)\n",
    "\n",
    "folium.PolyLine(polyline_best_traj, color=\"red\", weight=2.5, opacity=1).add_to(map_osm)\n",
    "from IPython.display import HTML\n",
    "map_osm"
   ]
  },
  {
   "cell_type": "code",
   "execution_count": null,
   "metadata": {
    "collapsed": true
   },
   "outputs": [],
   "source": []
  }
 ],
 "metadata": {
  "kernelspec": {
   "display_name": "Python 3",
   "language": "python",
   "name": "python3"
  },
  "language_info": {
   "codemirror_mode": {
    "name": "ipython",
    "version": 3
   },
   "file_extension": ".py",
   "mimetype": "text/x-python",
   "name": "python",
   "nbconvert_exporter": "python",
   "pygments_lexer": "ipython3",
   "version": "3.5.3"
  }
 },
 "nbformat": 4,
 "nbformat_minor": 0
}
