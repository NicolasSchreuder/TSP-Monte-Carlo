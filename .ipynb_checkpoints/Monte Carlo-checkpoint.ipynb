{
 "cells": [
  {
   "cell_type": "markdown",
   "metadata": {
    "collapsed": true
   },
   "source": [
    "# Le voyageur de commerce\n",
    "\n",
    "Ce projet est inspiré du Chapitre 4 du livre “The Cross-Entropy Method” de\n",
    "Rubinstein et Kroese.\n",
    "\n",
    "Le problème du voyageur de commerce (en anglais, TSP, travelling salesman\n",
    "problem) revient à minimiser le trajet effectué entre M villes, sous la contrainte\n",
    "de passer par chaque ville exactement une fois. Soit D la matrice telle que Dij\n",
    "est la distance entre la ville i et la ville j; noter que Dii = 0 et D est symétrique."
   ]
  },
  {
   "cell_type": "markdown",
   "metadata": {},
   "source": [
    "1) Rappeler (ou retrouver!) la méthode permettant de simuler efficacement\n",
    "N vecteurs selon la loi Multinomiale définie par le vecteur de probabilité\n",
    "p = (p1, . . . , pM). La mettre en œuvre."
   ]
  },
  {
   "cell_type": "code",
   "execution_count": 1,
   "metadata": {
    "collapsed": false
   },
   "outputs": [
    {
     "name": "stdout",
     "output_type": "stream",
     "text": [
      "Populating the interactive namespace from numpy and matplotlib\n"
     ]
    }
   ],
   "source": [
    "%pylab inline\n",
    "%load_ext line_profiler"
   ]
  },
  {
   "cell_type": "code",
   "execution_count": 2,
   "metadata": {
    "collapsed": false
   },
   "outputs": [],
   "source": [
    "import matplotlib.pyplot as plt\n",
    "import seaborn\n",
    "\n",
    "from scipy.stats import expon, uniform\n",
    "\n",
    "from sklearn.preprocessing import normalize"
   ]
  },
  {
   "cell_type": "code",
   "execution_count": 3,
   "metadata": {
    "collapsed": false,
    "scrolled": true
   },
   "outputs": [
    {
     "data": {
      "text/plain": [
       "(array([ 1007.,  1000.,   934.,   968.,   998.,  1012.,  1050.,   980.,\n",
       "         1031.,  1020.]),\n",
       " array([  2.08652989e-04,   1.00180985e-01,   2.00153317e-01,\n",
       "          3.00125649e-01,   4.00097981e-01,   5.00070313e-01,\n",
       "          6.00042645e-01,   7.00014978e-01,   7.99987310e-01,\n",
       "          8.99959642e-01,   9.99931974e-01]),\n",
       " <a list of 10 Patch objects>)"
      ]
     },
     "execution_count": 3,
     "metadata": {},
     "output_type": "execute_result"
    },
    {
     "data": {
      "image/png": "[encoded data removed]",
      "text/plain": [
       "<matplotlib.figure.Figure at 0x1217902b0>"
      ]
     },
     "metadata": {},
     "output_type": "display_data"
    }
   ],
   "source": [
    "def sorted_uniforms(N):\n",
    "    \"\"\"\n",
    "    Returns N sorted uniforms\n",
    "    \"\"\"\n",
    "    E = expon.rvs(size=N+1)\n",
    "    V = [sum(E[:i+1]) for i in range(N+1)]\n",
    "    return V[:-1]/V[-1]\n",
    "\n",
    "plt.hist(sorted_uniforms(10000))"
   ]
  },
  {
   "cell_type": "code",
   "execution_count": 4,
   "metadata": {
    "collapsed": false
   },
   "outputs": [],
   "source": [
    "def multinomial_su(P, N):\n",
    "    \"\"\"\n",
    "    Returns a vector of N multinomials using sorted uniforms\n",
    "    \"\"\"\n",
    "    su = sorted_uniforms(N)\n",
    "    j = 0\n",
    "    s = P[0]\n",
    "    A = [0]\n",
    "    for n in range(N):\n",
    "        while su[n] > s:\n",
    "            j += 1\n",
    "            A += [0]\n",
    "            s += P[j]\n",
    "        A[j] += 1\n",
    "        \n",
    "    return A"
   ]
  },
  {
   "cell_type": "code",
   "execution_count": 5,
   "metadata": {
    "collapsed": false
   },
   "outputs": [],
   "source": [
    "def multinomial_bin(P,N):\n",
    "    \"\"\" Returs a vector of N multinomial using binomial distribution\"\"\"\n",
    "    number_simulated = 0\n",
    "    n_coeffs = len(P)\n",
    "    multinomials = [0 for i in range(n_coeffs)]\n",
    "    i = 0\n",
    "    N_ = N\n",
    "    while N_ > 0 and i < n_coeffs :\n",
    "        N_ -= number_simulated\n",
    "        binomial = uniform.rvs(size = N_)\n",
    "        n_p = np.count_nonzero(binomial < P[i])\n",
    "        multinomials[i] = np.count_nonzero(binomial < P[i])\n",
    "        i+=1\n",
    "    return multinomials"
   ]
  },
  {
   "cell_type": "code",
   "execution_count": 6,
   "metadata": {
    "collapsed": false,
    "scrolled": false
   },
   "outputs": [
    {
     "name": "stdout",
     "output_type": "stream",
     "text": [
      "[271, 224, 246, 128, 131]\n",
      "[258, 261, 220, 144, 131]\n"
     ]
    }
   ],
   "source": [
    "P = [1/4, 1/4, 1/4, 1/8, 1/8]\n",
    "print(multinomial_su(P, 1000))\n",
    "print(multinomial_bin(P, 1000))"
   ]
  },
  {
   "cell_type": "code",
   "execution_count": 7,
   "metadata": {
    "collapsed": false
   },
   "outputs": [
    {
     "name": "stdout",
     "output_type": "stream",
     "text": [
      "Multinomial (sorted uniforms method): \n",
      "10 loops, best of 3: 61.3 ms per loop\n",
      "Multinomial (binomial method): \n",
      "1000 loops, best of 3: 943 µs per loop\n",
      "Numpy multinomial:\n",
      "The slowest run took 15.11 times longer than the fastest. This could mean that an intermediate result is being cached.\n",
      "100000 loops, best of 3: 2.93 µs per loop\n"
     ]
    }
   ],
   "source": [
    "n = 10000\n",
    "print(\"Multinomial (sorted uniforms method): \") \n",
    "%timeit multinomial_su(P, n)\n",
    "print(\"Multinomial (binomial method): \")\n",
    "%timeit multinomial_bin(P, n)\n",
    "print(\"Numpy multinomial:\")\n",
    "%timeit np.random.multinomial(n, P, size=1)"
   ]
  },
  {
   "cell_type": "markdown",
   "metadata": {},
   "source": [
    "2) Utiliser l’algorithme CE vu en cours pour résoudre le problème TSP. Pour\n",
    "ce faire, proposer une famille paramétrique de lois pour la simulation de\n",
    "trajets. Programmer cet algorithme, et le tester sur quelques exemples."
   ]
  },
  {
   "cell_type": "code",
   "execution_count": 88,
   "metadata": {
    "collapsed": false
   },
   "outputs": [],
   "source": [
    "# Random distance matrix D\n",
    "number_of_cities = 100\n",
    "D = np.reshape(np.random.exponential(number_of_cities, number_of_cities**2), (number_of_cities,number_of_cities))\n",
    "for i in range(number_of_cities):\n",
    "    D[i,i] = 0\n",
    "    for j in range(number_of_cities):\n",
    "        D[i,j] = D[j, i]\n",
    "\n",
    "# Random transition matrix P\n",
    "P = np.reshape(np.random.rand(number_of_cities**2), (number_of_cities,number_of_cities))\n",
    "for i in range(number_of_cities): \n",
    "    P[i,i] = 0\n",
    "P = P/P.sum(axis=1)[:,None]"
   ]
  },
  {
   "cell_type": "code",
   "execution_count": 89,
   "metadata": {
    "collapsed": false
   },
   "outputs": [],
   "source": [
    "def trajectory(P):\n",
    "    \"\"\"\n",
    "    \n",
    "    \"\"\"\n",
    "    P_ = P.copy()\n",
    "    X = np.zeros(len(P), np.int8)\n",
    "    for i in range(len(P)-1):\n",
    "        P_[:,X[i]] = 0\n",
    "        P_ = P_/P_.sum(axis=1)[:,None]\n",
    "        X[i+1] = multinomial_su(P_[X[i],:], 1)[0]\n",
    "    return X"
   ]
  },
  {
   "cell_type": "code",
   "execution_count": 90,
   "metadata": {
    "collapsed": false
   },
   "outputs": [],
   "source": [
    "%lprun -f trajectory trajectory(P)"
   ]
  },
  {
   "cell_type": "code",
   "execution_count": 91,
   "metadata": {
    "collapsed": true
   },
   "outputs": [],
   "source": [
    "def multi_trajectories_old(P, N):\n",
    "    return [trajectory(P) for i in range(N)]"
   ]
  },
  {
   "cell_type": "code",
   "execution_count": 92,
   "metadata": {
    "collapsed": false
   },
   "outputs": [
    {
     "name": "stderr",
     "output_type": "stream",
     "text": [
      "UsageError: Could not find function 'multi_trajectories_su'.\n",
      "NameError: name 'multi_trajectories_su' is not defined"
     ]
    }
   ],
   "source": [
    "%lprun -f multi_trajectories_old multi_trajectories_old(P, 3)"
   ]
  },
  {
   "cell_type": "code",
   "execution_count": 93,
   "metadata": {
    "collapsed": true
   },
   "outputs": [],
   "source": [
    "def multi_trajectories(P, N):\n",
    "    d = {(0):N}\n",
    "    for i in range(len(P)-1):\n",
    "        d = one_step(d, P)\n",
    "    return d"
   ]
  },
  {
   "cell_type": "code",
   "execution_count": 94,
   "metadata": {
    "collapsed": false
   },
   "outputs": [],
   "source": [
    "def one_step(d, P):\n",
    "    \n",
    "    # d represents a partial trajectory\n",
    "    new_dict = {}\n",
    "    \n",
    "    for traj in d.keys():\n",
    "        n = d[traj]\n",
    "        if traj != 0:\n",
    "            traj = list(traj)\n",
    "        else:\n",
    "            traj = [0]\n",
    "        \n",
    "        P1 = P.copy()\n",
    "        alpha = P1[traj[-1], :]\n",
    "        \n",
    "        alpha[traj[:-1]] = 0\n",
    "                \n",
    "        alpha = alpha / sum(alpha)\n",
    "        # new  = multinomial(alpha, n)\n",
    "        new = np.random.multinomial(n, alpha, size=1).tolist()[0]\n",
    "        new_dict.update({ tuple(traj + [j]) : new[j] for j in range(1, len(new)) if new[j] != 0})\n",
    "    return new_dict"
   ]
  },
  {
   "cell_type": "code",
   "execution_count": 121,
   "metadata": {
    "collapsed": false
   },
   "outputs": [],
   "source": [
    "%lprun -f one_step multi_trajectories(P, 100)"
   ]
  },
  {
   "cell_type": "code",
   "execution_count": 96,
   "metadata": {
    "collapsed": false,
    "scrolled": true
   },
   "outputs": [],
   "source": [
    "def S(X, D):\n",
    "    \"\"\"\n",
    "    Input: \n",
    "    X 1D-array representing a path on a graph\n",
    "    D 2D-array distance matrice for the graph\n",
    "    \n",
    "    Output:\n",
    "    The length of the path X (starting from X[0] and ending on X[0])\n",
    "    \n",
    "    \"\"\"\n",
    "    return sum([D[X[i], X[(i+1)%len(X)]] for i in range(len(X))])"
   ]
  },
  {
   "cell_type": "code",
   "execution_count": 86,
   "metadata": {
    "collapsed": false
   },
   "outputs": [
    {
     "data": {
      "text/plain": [
       "array([[ 0. ,  0.5,  0.5],\n",
       "       [ 0.5,  0. ,  0.5],\n",
       "       [ 0.5,  0.5,  0. ]])"
      ]
     },
     "execution_count": 86,
     "metadata": {},
     "output_type": "execute_result"
    }
   ],
   "source": [
    "def init_P(size):\n",
    "    \"\"\"\n",
    "    Returns a stochastic matrix of dim size*size with zeros on the diagonal and 1/(size-1) elsewhere \n",
    "    \"\"\"\n",
    "    P = (np.ones((size, size)) - np.identity((size)))/(size-1)\n",
    "    return P\n",
    "\n",
    "init_P(3)"
   ]
  },
  {
   "cell_type": "code",
   "execution_count": 26,
   "metadata": {
    "collapsed": false
   },
   "outputs": [],
   "source": [
    "def cross_entropy(C, n, rho=1, alpha=0.99):\n",
    "\n",
    "    degree = len(C)\n",
    "    \n",
    "    P = init_P(degree)\n",
    "\n",
    "    length = [0,1]\n",
    "    \n",
    "    while max(length) > min(length):\n",
    "        trajectories = multi_trajectories(P, n)\n",
    "        \n",
    "        trajectories = [np.array(traj) for traj in trajectories.keys()]\n",
    "                \n",
    "        length = [S(trajectory, C) for trajectory in trajectories]\n",
    "\n",
    "        gamma = np.percentile(length, rho, interpolation='lower')\n",
    "\n",
    "        trajectories_sample = [traj for traj in trajectories if S(traj, C) <= gamma]\n",
    "        \n",
    "        P_ = np.zeros(P.shape)\n",
    "        \n",
    "        for i in range(degree):\n",
    "            for traj in trajectories_sample:\n",
    "                P_[traj[i], traj[(i+1)%degree]] += 1/len(trajectories_sample)\n",
    "        P = alpha * P_ + (1-alpha)* P            \n",
    "    \n",
    "    return P, gamma, trajectories_sample[0]"
   ]
  },
  {
   "cell_type": "code",
   "execution_count": 27,
   "metadata": {
    "collapsed": true
   },
   "outputs": [],
   "source": [
    "def cross_entropy_old(C, n, rho=1, alpha=0.99):\n",
    "    \n",
    "    degree = len(C)\n",
    "    \n",
    "    P = init_P(degree)\n",
    "\n",
    "    length = [0,1]\n",
    "    while max(length) > min(length):\n",
    "        trajectories = multi_trajectories_old(P, n)\n",
    "                        \n",
    "        length = [S(trajectory, C) for trajectory in trajectories]\n",
    "\n",
    "        gamma = np.percentile(length, rho, interpolation='lower')\n",
    "\n",
    "        trajectories_sample = [traj for traj in trajectories if S(traj, C) <= gamma]\n",
    "\n",
    "        couples = [[(traj[i], traj[(i+1)%degree]) for i in range(degree)] for traj in trajectories_sample]\n",
    "        \n",
    "        P_ = P.copy()\n",
    "        \n",
    "        for i in range(degree):\n",
    "            for j in range(degree):\n",
    "                P_[i,j] = sum([1 for couple in couples if (i,j) in couple])/len(trajectories_sample)\n",
    "\n",
    "        P = alpha * P_ + (1-alpha)* P        \n",
    "    \n",
    "    return P, gamma, trajectories_sample[0]"
   ]
  },
  {
   "cell_type": "code",
   "execution_count": 97,
   "metadata": {
    "collapsed": false
   },
   "outputs": [],
   "source": [
    "P, gamma, traj =  cross_entropy(D, 100)"
   ]
  },
  {
   "cell_type": "code",
   "execution_count": 98,
   "metadata": {
    "collapsed": false,
    "scrolled": true
   },
   "outputs": [
    {
     "data": {
      "text/plain": [
       "<matplotlib.image.AxesImage at 0x125217dd8>"
      ]
     },
     "execution_count": 98,
     "metadata": {},
     "output_type": "execute_result"
    },
    {
     "data": {
      "image/png": "[encoded data removed]",
      "text/plain": [
       "<matplotlib.figure.Figure at 0x1246b3240>"
      ]
     },
     "metadata": {},
     "output_type": "display_data"
    }
   ],
   "source": [
    "plt.matshow(P,interpolation='none')"
   ]
  },
  {
   "cell_type": "code",
   "execution_count": 115,
   "metadata": {
    "collapsed": false,
    "scrolled": true
   },
   "outputs": [
    {
     "data": {
      "text/plain": [
       "<matplotlib.collections.PathCollection at 0x125182320>"
      ]
     },
     "execution_count": 115,
     "metadata": {},
     "output_type": "execute_result"
    },
    {
     "data": {
      "image/png": "[encoded data removed]",
      "text/plain": [
       "<matplotlib.figure.Figure at 0x1248dbf60>"
      ]
     },
     "metadata": {},
     "output_type": "display_data"
    }
   ],
   "source": [
    "number_of_cities = 50\n",
    "X = np.array([(np.random.standard_cauchy(2)) for i in range(number_of_cities)])\n",
    "plt.scatter(X[:,0], X[:,1])"
   ]
  },
  {
   "cell_type": "code",
   "execution_count": 116,
   "metadata": {
    "collapsed": false,
    "scrolled": true
   },
   "outputs": [],
   "source": [
    "D = np.empty((number_of_cities,number_of_cities))\n",
    "for i in range(number_of_cities):\n",
    "    D[i,i] = 0\n",
    "    for j in range(number_of_cities):\n",
    "        D[i,j] = np.linalg.norm(X[i]-X[j])\n",
    "        D[j,i] = D[i,j]"
   ]
  },
  {
   "cell_type": "code",
   "execution_count": 117,
   "metadata": {
    "collapsed": false
   },
   "outputs": [
    {
     "ename": "KeyboardInterrupt",
     "evalue": "",
     "output_type": "error",
     "traceback": [
      "\u001b[0;31m---------------------------------------------------------------------------\u001b[0m",
      "\u001b[0;31mKeyboardInterrupt\u001b[0m                         Traceback (most recent call last)",
      "\u001b[0;32m<ipython-input-117-ee7b7982d4d0>\u001b[0m in \u001b[0;36m<module>\u001b[0;34m()\u001b[0m\n\u001b[0;32m----> 1\u001b[0;31m \u001b[0mP\u001b[0m\u001b[0;34m,\u001b[0m \u001b[0mgamma\u001b[0m\u001b[0;34m,\u001b[0m \u001b[0mbest_traj\u001b[0m \u001b[0;34m=\u001b[0m \u001b[0mcross_entropy\u001b[0m\u001b[0;34m(\u001b[0m\u001b[0mD\u001b[0m\u001b[0;34m,\u001b[0m \u001b[0;36m1000\u001b[0m\u001b[0;34m)\u001b[0m\u001b[0;34m\u001b[0m\u001b[0m\n\u001b[0m",
      "\u001b[0;32m<ipython-input-26-887ca0a80624>\u001b[0m in \u001b[0;36mcross_entropy\u001b[0;34m(C, n, rho, alpha)\u001b[0m\n\u001b[1;32m      8\u001b[0m \u001b[0;34m\u001b[0m\u001b[0m\n\u001b[1;32m      9\u001b[0m     \u001b[0;32mwhile\u001b[0m \u001b[0mmax\u001b[0m\u001b[0;34m(\u001b[0m\u001b[0mlength\u001b[0m\u001b[0;34m)\u001b[0m \u001b[0;34m>\u001b[0m \u001b[0mmin\u001b[0m\u001b[0;34m(\u001b[0m\u001b[0mlength\u001b[0m\u001b[0;34m)\u001b[0m\u001b[0;34m:\u001b[0m\u001b[0;34m\u001b[0m\u001b[0m\n\u001b[0;32m---> 10\u001b[0;31m         \u001b[0mtrajectories\u001b[0m \u001b[0;34m=\u001b[0m \u001b[0mmulti_trajectories\u001b[0m\u001b[0;34m(\u001b[0m\u001b[0mP\u001b[0m\u001b[0;34m,\u001b[0m \u001b[0mn\u001b[0m\u001b[0;34m)\u001b[0m\u001b[0;34m\u001b[0m\u001b[0m\n\u001b[0m\u001b[1;32m     11\u001b[0m \u001b[0;34m\u001b[0m\u001b[0m\n\u001b[1;32m     12\u001b[0m         \u001b[0mtrajectories\u001b[0m \u001b[0;34m=\u001b[0m \u001b[0;34m[\u001b[0m\u001b[0mnp\u001b[0m\u001b[0;34m.\u001b[0m\u001b[0marray\u001b[0m\u001b[0;34m(\u001b[0m\u001b[0mtraj\u001b[0m\u001b[0;34m)\u001b[0m \u001b[0;32mfor\u001b[0m \u001b[0mtraj\u001b[0m \u001b[0;32min\u001b[0m \u001b[0mtrajectories\u001b[0m\u001b[0;34m.\u001b[0m\u001b[0mkeys\u001b[0m\u001b[0;34m(\u001b[0m\u001b[0;34m)\u001b[0m\u001b[0;34m]\u001b[0m\u001b[0;34m\u001b[0m\u001b[0m\n",
      "\u001b[0;32m<ipython-input-93-f0a64997a15c>\u001b[0m in \u001b[0;36mmulti_trajectories\u001b[0;34m(P, N)\u001b[0m\n\u001b[1;32m      2\u001b[0m     \u001b[0md\u001b[0m \u001b[0;34m=\u001b[0m \u001b[0;34m{\u001b[0m\u001b[0;34m(\u001b[0m\u001b[0;36m0\u001b[0m\u001b[0;34m)\u001b[0m\u001b[0;34m:\u001b[0m\u001b[0mN\u001b[0m\u001b[0;34m}\u001b[0m\u001b[0;34m\u001b[0m\u001b[0m\n\u001b[1;32m      3\u001b[0m     \u001b[0;32mfor\u001b[0m \u001b[0mi\u001b[0m \u001b[0;32min\u001b[0m \u001b[0mrange\u001b[0m\u001b[0;34m(\u001b[0m\u001b[0mlen\u001b[0m\u001b[0;34m(\u001b[0m\u001b[0mP\u001b[0m\u001b[0;34m)\u001b[0m\u001b[0;34m-\u001b[0m\u001b[0;36m1\u001b[0m\u001b[0;34m)\u001b[0m\u001b[0;34m:\u001b[0m\u001b[0;34m\u001b[0m\u001b[0m\n\u001b[0;32m----> 4\u001b[0;31m         \u001b[0md\u001b[0m \u001b[0;34m=\u001b[0m \u001b[0mone_step\u001b[0m\u001b[0;34m(\u001b[0m\u001b[0md\u001b[0m\u001b[0;34m,\u001b[0m \u001b[0mP\u001b[0m\u001b[0;34m)\u001b[0m\u001b[0;34m\u001b[0m\u001b[0m\n\u001b[0m\u001b[1;32m      5\u001b[0m     \u001b[0;32mreturn\u001b[0m \u001b[0md\u001b[0m\u001b[0;34m\u001b[0m\u001b[0m\n",
      "\u001b[0;32m<ipython-input-94-7266d1e124c8>\u001b[0m in \u001b[0;36mone_step\u001b[0;34m(d, P)\u001b[0m\n\u001b[1;32m     16\u001b[0m         \u001b[0malpha\u001b[0m\u001b[0;34m[\u001b[0m\u001b[0mtraj\u001b[0m\u001b[0;34m[\u001b[0m\u001b[0;34m:\u001b[0m\u001b[0;34m-\u001b[0m\u001b[0;36m1\u001b[0m\u001b[0;34m]\u001b[0m\u001b[0;34m]\u001b[0m \u001b[0;34m=\u001b[0m \u001b[0;36m0\u001b[0m\u001b[0;34m\u001b[0m\u001b[0m\n\u001b[1;32m     17\u001b[0m \u001b[0;34m\u001b[0m\u001b[0m\n\u001b[0;32m---> 18\u001b[0;31m         \u001b[0malpha\u001b[0m \u001b[0;34m=\u001b[0m \u001b[0malpha\u001b[0m \u001b[0;34m/\u001b[0m \u001b[0msum\u001b[0m\u001b[0;34m(\u001b[0m\u001b[0malpha\u001b[0m\u001b[0;34m)\u001b[0m\u001b[0;34m\u001b[0m\u001b[0m\n\u001b[0m\u001b[1;32m     19\u001b[0m         \u001b[0;31m# new  = multinomial(alpha, n)\u001b[0m\u001b[0;34m\u001b[0m\u001b[0;34m\u001b[0m\u001b[0m\n\u001b[1;32m     20\u001b[0m         \u001b[0mnew\u001b[0m \u001b[0;34m=\u001b[0m \u001b[0mnp\u001b[0m\u001b[0;34m.\u001b[0m\u001b[0mrandom\u001b[0m\u001b[0;34m.\u001b[0m\u001b[0mmultinomial\u001b[0m\u001b[0;34m(\u001b[0m\u001b[0mn\u001b[0m\u001b[0;34m,\u001b[0m \u001b[0malpha\u001b[0m\u001b[0;34m,\u001b[0m \u001b[0msize\u001b[0m\u001b[0;34m=\u001b[0m\u001b[0;36m1\u001b[0m\u001b[0;34m)\u001b[0m\u001b[0;34m.\u001b[0m\u001b[0mtolist\u001b[0m\u001b[0;34m(\u001b[0m\u001b[0;34m)\u001b[0m\u001b[0;34m[\u001b[0m\u001b[0;36m0\u001b[0m\u001b[0;34m]\u001b[0m\u001b[0;34m\u001b[0m\u001b[0m\n",
      "\u001b[0;32m/Users/Schreuder/anaconda/lib/python3.5/site-packages/numpy/core/fromnumeric.py\u001b[0m in \u001b[0;36msum\u001b[0;34m(a, axis, dtype, out, keepdims)\u001b[0m\n\u001b[1;32m   1812\u001b[0m             \u001b[0;32mreturn\u001b[0m \u001b[0msum\u001b[0m\u001b[0;34m(\u001b[0m\u001b[0maxis\u001b[0m\u001b[0;34m=\u001b[0m\u001b[0maxis\u001b[0m\u001b[0;34m,\u001b[0m \u001b[0mdtype\u001b[0m\u001b[0;34m=\u001b[0m\u001b[0mdtype\u001b[0m\u001b[0;34m,\u001b[0m \u001b[0mout\u001b[0m\u001b[0;34m=\u001b[0m\u001b[0mout\u001b[0m\u001b[0;34m,\u001b[0m \u001b[0;34m**\u001b[0m\u001b[0mkwargs\u001b[0m\u001b[0;34m)\u001b[0m\u001b[0;34m\u001b[0m\u001b[0m\n\u001b[1;32m   1813\u001b[0m     return _methods._sum(a, axis=axis, dtype=dtype,\n\u001b[0;32m-> 1814\u001b[0;31m                          out=out, **kwargs)\n\u001b[0m\u001b[1;32m   1815\u001b[0m \u001b[0;34m\u001b[0m\u001b[0m\n\u001b[1;32m   1816\u001b[0m \u001b[0;34m\u001b[0m\u001b[0m\n",
      "\u001b[0;32m/Users/Schreuder/anaconda/lib/python3.5/site-packages/numpy/core/_methods.py\u001b[0m in \u001b[0;36m_sum\u001b[0;34m(a, axis, dtype, out, keepdims)\u001b[0m\n\u001b[1;32m     30\u001b[0m \u001b[0;34m\u001b[0m\u001b[0m\n\u001b[1;32m     31\u001b[0m \u001b[0;32mdef\u001b[0m \u001b[0m_sum\u001b[0m\u001b[0;34m(\u001b[0m\u001b[0ma\u001b[0m\u001b[0;34m,\u001b[0m \u001b[0maxis\u001b[0m\u001b[0;34m=\u001b[0m\u001b[0;32mNone\u001b[0m\u001b[0;34m,\u001b[0m \u001b[0mdtype\u001b[0m\u001b[0;34m=\u001b[0m\u001b[0;32mNone\u001b[0m\u001b[0;34m,\u001b[0m \u001b[0mout\u001b[0m\u001b[0;34m=\u001b[0m\u001b[0;32mNone\u001b[0m\u001b[0;34m,\u001b[0m \u001b[0mkeepdims\u001b[0m\u001b[0;34m=\u001b[0m\u001b[0;32mFalse\u001b[0m\u001b[0;34m)\u001b[0m\u001b[0;34m:\u001b[0m\u001b[0;34m\u001b[0m\u001b[0m\n\u001b[0;32m---> 32\u001b[0;31m     \u001b[0;32mreturn\u001b[0m \u001b[0mumr_sum\u001b[0m\u001b[0;34m(\u001b[0m\u001b[0ma\u001b[0m\u001b[0;34m,\u001b[0m \u001b[0maxis\u001b[0m\u001b[0;34m,\u001b[0m \u001b[0mdtype\u001b[0m\u001b[0;34m,\u001b[0m \u001b[0mout\u001b[0m\u001b[0;34m,\u001b[0m \u001b[0mkeepdims\u001b[0m\u001b[0;34m)\u001b[0m\u001b[0;34m\u001b[0m\u001b[0m\n\u001b[0m\u001b[1;32m     33\u001b[0m \u001b[0;34m\u001b[0m\u001b[0m\n\u001b[1;32m     34\u001b[0m \u001b[0;32mdef\u001b[0m \u001b[0m_prod\u001b[0m\u001b[0;34m(\u001b[0m\u001b[0ma\u001b[0m\u001b[0;34m,\u001b[0m \u001b[0maxis\u001b[0m\u001b[0;34m=\u001b[0m\u001b[0;32mNone\u001b[0m\u001b[0;34m,\u001b[0m \u001b[0mdtype\u001b[0m\u001b[0;34m=\u001b[0m\u001b[0;32mNone\u001b[0m\u001b[0;34m,\u001b[0m \u001b[0mout\u001b[0m\u001b[0;34m=\u001b[0m\u001b[0;32mNone\u001b[0m\u001b[0;34m,\u001b[0m \u001b[0mkeepdims\u001b[0m\u001b[0;34m=\u001b[0m\u001b[0;32mFalse\u001b[0m\u001b[0;34m)\u001b[0m\u001b[0;34m:\u001b[0m\u001b[0;34m\u001b[0m\u001b[0m\n",
      "\u001b[0;31mKeyboardInterrupt\u001b[0m: "
     ]
    }
   ],
   "source": [
    "P, gamma, best_traj = cross_entropy(D, 1000)"
   ]
  },
  {
   "cell_type": "code",
   "execution_count": 120,
   "metadata": {
    "collapsed": false
   },
   "outputs": [],
   "source": [
    "%lprun -f cross_entropy cross_entropy(D, 1000)"
   ]
  },
  {
   "cell_type": "code",
   "execution_count": 104,
   "metadata": {
    "collapsed": false
   },
   "outputs": [
    {
     "data": {
      "text/plain": [
       "<matplotlib.collections.PathCollection at 0x124b28ba8>"
      ]
     },
     "execution_count": 104,
     "metadata": {},
     "output_type": "execute_result"
    },
    {
     "data": {
      "image/png": "[encoded data removed]",
      "text/plain": [
       "<matplotlib.figure.Figure at 0x124c752e8>"
      ]
     },
     "metadata": {},
     "output_type": "display_data"
    }
   ],
   "source": [
    "for i in range(len(best_traj)):\n",
    "    plt.plot((X[best_traj[i]][0], X[best_traj[(i+1)%len(best_traj)]][0]), (X[best_traj[i]][1], X[best_traj[(i+1)%len(best_traj)]][1]))\n",
    "plt.scatter(X[:,0], X[:,1])"
   ]
  },
  {
   "cell_type": "markdown",
   "metadata": {},
   "source": [
    "3) Concernant l’estimation bayésienne de vecteurs de probabilité d’une loi\n",
    "multinomiale, retrouver le fait que la famille des lois de Dirichlet est\n",
    "conjuguée pour ce modèle. Expliquer comment en pratique vous pouvez\n",
    "utiliser cette propriété pour améliorer votre algorithme."
   ]
  },
  {
   "cell_type": "markdown",
   "metadata": {},
   "source": [
    "If $p = (p_1,...,p_k) \\sim Dirichlet_k(\\alpha_1, ..., \\alpha_k)$, the density of $p$ is given by :\n",
    "$$ \\pi(p_1,...,p_k ; \\alpha_1, ..., \\alpha_k) = \\dfrac{1}{B(\\alpha)} \\Pi_{i=1}^k p_i^{\\alpha_i - 1} $$ \n",
    "for all $p_1,...,p_k >0$ such that $p_k = 1 - \\sum_{j=1}^{k-1} p_j$.\n",
    "\n",
    "If $x = (x_1,...,x_k) \\sim Multinomial(p_1,...,p_k)$, the likelihood of $x$ is given by :\n",
    "\n",
    "$$ L(x_1,...,x_k ; p_1,...,p_k) = \\dfrac{ (\\sum_i x_i)! }{x_1!...x_k!} \\Pi_{i=1}^k p_i^{x_i} $$\n",
    "\n",
    "We deduce :\n",
    "\n",
    "$$ \\pi(p_1,...,p_k ; \\alpha_1, ..., \\alpha_k, x_1,...,x_k) \\propto \\Pi_{i=1}^k p_i^{\\alpha_i + x_i - 1} $$ \n",
    "\n",
    "Hence, by identification, $p|x \\sim Dirichlet_k(\\alpha_1 + x_1, ..., \\alpha_k + x_k)$ so the Dirichlet distribution family is conjugate for this model."
   ]
  },
  {
   "cell_type": "code",
   "execution_count": 105,
   "metadata": {
    "collapsed": false
   },
   "outputs": [],
   "source": [
    "def bayesian_multi_trajectories(alpha, N):\n",
    "    l = []\n",
    "    P = np.empty((len(alpha), len(alpha)))\n",
    "    for j in range(N):\n",
    "        for i in range(len(alpha)):\n",
    "            P[i,:] = numpy.random.dirichlet(alpha[i,:])\n",
    "            l += [trajectory(P)]\n",
    "    return l"
   ]
  },
  {
   "cell_type": "code",
   "execution_count": 106,
   "metadata": {
    "collapsed": true
   },
   "outputs": [],
   "source": [
    "def bayesian_cross_entropy(C, n, rho=5):\n",
    "    \n",
    "    degree = len(C)\n",
    "                \n",
    "    alpha = np.ones((degree, degree))\n",
    "    \n",
    "    length = [0,1]\n",
    "    \n",
    "    while max(length) > min(length):\n",
    "        \n",
    "        trajectories = bayesian_multi_trajectories(alpha, n)\n",
    "        \n",
    "        \n",
    "        \n",
    "        length = [S(trajectory, C) for trajectory in trajectories]\n",
    "\n",
    "        gamma = np.percentile(length, rho, interpolation='lower')\n",
    "\n",
    "        trajectories_sample = [traj for traj in trajectories if S(traj, C) <= gamma]\n",
    "                \n",
    "        couples = [[(traj[i], traj[(i+1)%degree]) for i in range(degree)] for traj in trajectories_sample]\n",
    "        \n",
    "        print(max(length), min(length))\n",
    "        \n",
    "        for i in range(degree):\n",
    "            for j in range(degree):\n",
    "                alpha[i,j] += sum([1 for couple in couples if (i,j) in couple])            \n",
    "    \n",
    "    return alpha, gamma, trajectories_sample[0]"
   ]
  },
  {
   "cell_type": "code",
   "execution_count": 107,
   "metadata": {
    "collapsed": false,
    "scrolled": false
   },
   "outputs": [
    {
     "ename": "KeyboardInterrupt",
     "evalue": "",
     "output_type": "error",
     "traceback": [
      "\u001b[0;31m---------------------------------------------------------------------------\u001b[0m",
      "\u001b[0;31mKeyboardInterrupt\u001b[0m                         Traceback (most recent call last)",
      "\u001b[0;32m<ipython-input-107-ef1e9011b45b>\u001b[0m in \u001b[0;36m<module>\u001b[0;34m()\u001b[0m\n\u001b[0;32m----> 1\u001b[0;31m \u001b[0malpha\u001b[0m\u001b[0;34m,\u001b[0m \u001b[0mgamma\u001b[0m\u001b[0;34m,\u001b[0m \u001b[0mbest_traj\u001b[0m \u001b[0;34m=\u001b[0m \u001b[0mbayesian_cross_entropy\u001b[0m\u001b[0;34m(\u001b[0m\u001b[0mD\u001b[0m\u001b[0;34m,\u001b[0m \u001b[0;36m10\u001b[0m\u001b[0;34m)\u001b[0m\u001b[0;34m\u001b[0m\u001b[0m\n\u001b[0m",
      "\u001b[0;32m<ipython-input-106-f5e3e63a5f13>\u001b[0m in \u001b[0;36mbayesian_cross_entropy\u001b[0;34m(C, n, rho)\u001b[0m\n\u001b[1;32m     17\u001b[0m         \u001b[0mgamma\u001b[0m \u001b[0;34m=\u001b[0m \u001b[0mnp\u001b[0m\u001b[0;34m.\u001b[0m\u001b[0mpercentile\u001b[0m\u001b[0;34m(\u001b[0m\u001b[0mlength\u001b[0m\u001b[0;34m,\u001b[0m \u001b[0mrho\u001b[0m\u001b[0;34m,\u001b[0m \u001b[0minterpolation\u001b[0m\u001b[0;34m=\u001b[0m\u001b[0;34m'lower'\u001b[0m\u001b[0;34m)\u001b[0m\u001b[0;34m\u001b[0m\u001b[0m\n\u001b[1;32m     18\u001b[0m \u001b[0;34m\u001b[0m\u001b[0m\n\u001b[0;32m---> 19\u001b[0;31m         \u001b[0mtrajectories_sample\u001b[0m \u001b[0;34m=\u001b[0m \u001b[0;34m[\u001b[0m\u001b[0mtraj\u001b[0m \u001b[0;32mfor\u001b[0m \u001b[0mtraj\u001b[0m \u001b[0;32min\u001b[0m \u001b[0mtrajectories\u001b[0m \u001b[0;32mif\u001b[0m \u001b[0mS\u001b[0m\u001b[0;34m(\u001b[0m\u001b[0mtraj\u001b[0m\u001b[0;34m,\u001b[0m \u001b[0mC\u001b[0m\u001b[0;34m)\u001b[0m \u001b[0;34m<=\u001b[0m \u001b[0mgamma\u001b[0m\u001b[0;34m]\u001b[0m\u001b[0;34m\u001b[0m\u001b[0m\n\u001b[0m\u001b[1;32m     20\u001b[0m \u001b[0;34m\u001b[0m\u001b[0m\n\u001b[1;32m     21\u001b[0m         \u001b[0mcouples\u001b[0m \u001b[0;34m=\u001b[0m \u001b[0;34m[\u001b[0m\u001b[0;34m[\u001b[0m\u001b[0;34m(\u001b[0m\u001b[0mtraj\u001b[0m\u001b[0;34m[\u001b[0m\u001b[0mi\u001b[0m\u001b[0;34m]\u001b[0m\u001b[0;34m,\u001b[0m \u001b[0mtraj\u001b[0m\u001b[0;34m[\u001b[0m\u001b[0;34m(\u001b[0m\u001b[0mi\u001b[0m\u001b[0;34m+\u001b[0m\u001b[0;36m1\u001b[0m\u001b[0;34m)\u001b[0m\u001b[0;34m%\u001b[0m\u001b[0mdegree\u001b[0m\u001b[0;34m]\u001b[0m\u001b[0;34m)\u001b[0m \u001b[0;32mfor\u001b[0m \u001b[0mi\u001b[0m \u001b[0;32min\u001b[0m \u001b[0mrange\u001b[0m\u001b[0;34m(\u001b[0m\u001b[0mdegree\u001b[0m\u001b[0;34m)\u001b[0m\u001b[0;34m]\u001b[0m \u001b[0;32mfor\u001b[0m \u001b[0mtraj\u001b[0m \u001b[0;32min\u001b[0m \u001b[0mtrajectories_sample\u001b[0m\u001b[0;34m]\u001b[0m\u001b[0;34m\u001b[0m\u001b[0m\n",
      "\u001b[0;32m<ipython-input-106-f5e3e63a5f13>\u001b[0m in \u001b[0;36m<listcomp>\u001b[0;34m(.0)\u001b[0m\n\u001b[1;32m     17\u001b[0m         \u001b[0mgamma\u001b[0m \u001b[0;34m=\u001b[0m \u001b[0mnp\u001b[0m\u001b[0;34m.\u001b[0m\u001b[0mpercentile\u001b[0m\u001b[0;34m(\u001b[0m\u001b[0mlength\u001b[0m\u001b[0;34m,\u001b[0m \u001b[0mrho\u001b[0m\u001b[0;34m,\u001b[0m \u001b[0minterpolation\u001b[0m\u001b[0;34m=\u001b[0m\u001b[0;34m'lower'\u001b[0m\u001b[0;34m)\u001b[0m\u001b[0;34m\u001b[0m\u001b[0m\n\u001b[1;32m     18\u001b[0m \u001b[0;34m\u001b[0m\u001b[0m\n\u001b[0;32m---> 19\u001b[0;31m         \u001b[0mtrajectories_sample\u001b[0m \u001b[0;34m=\u001b[0m \u001b[0;34m[\u001b[0m\u001b[0mtraj\u001b[0m \u001b[0;32mfor\u001b[0m \u001b[0mtraj\u001b[0m \u001b[0;32min\u001b[0m \u001b[0mtrajectories\u001b[0m \u001b[0;32mif\u001b[0m \u001b[0mS\u001b[0m\u001b[0;34m(\u001b[0m\u001b[0mtraj\u001b[0m\u001b[0;34m,\u001b[0m \u001b[0mC\u001b[0m\u001b[0;34m)\u001b[0m \u001b[0;34m<=\u001b[0m \u001b[0mgamma\u001b[0m\u001b[0;34m]\u001b[0m\u001b[0;34m\u001b[0m\u001b[0m\n\u001b[0m\u001b[1;32m     20\u001b[0m \u001b[0;34m\u001b[0m\u001b[0m\n\u001b[1;32m     21\u001b[0m         \u001b[0mcouples\u001b[0m \u001b[0;34m=\u001b[0m \u001b[0;34m[\u001b[0m\u001b[0;34m[\u001b[0m\u001b[0;34m(\u001b[0m\u001b[0mtraj\u001b[0m\u001b[0;34m[\u001b[0m\u001b[0mi\u001b[0m\u001b[0;34m]\u001b[0m\u001b[0;34m,\u001b[0m \u001b[0mtraj\u001b[0m\u001b[0;34m[\u001b[0m\u001b[0;34m(\u001b[0m\u001b[0mi\u001b[0m\u001b[0;34m+\u001b[0m\u001b[0;36m1\u001b[0m\u001b[0;34m)\u001b[0m\u001b[0;34m%\u001b[0m\u001b[0mdegree\u001b[0m\u001b[0;34m]\u001b[0m\u001b[0;34m)\u001b[0m \u001b[0;32mfor\u001b[0m \u001b[0mi\u001b[0m \u001b[0;32min\u001b[0m \u001b[0mrange\u001b[0m\u001b[0;34m(\u001b[0m\u001b[0mdegree\u001b[0m\u001b[0;34m)\u001b[0m\u001b[0;34m]\u001b[0m \u001b[0;32mfor\u001b[0m \u001b[0mtraj\u001b[0m \u001b[0;32min\u001b[0m \u001b[0mtrajectories_sample\u001b[0m\u001b[0;34m]\u001b[0m\u001b[0;34m\u001b[0m\u001b[0m\n",
      "\u001b[0;32m<ipython-input-96-4def9712ae92>\u001b[0m in \u001b[0;36mS\u001b[0;34m(X, D)\u001b[0m\n\u001b[1;32m      9\u001b[0m \u001b[0;34m\u001b[0m\u001b[0m\n\u001b[1;32m     10\u001b[0m     \"\"\"\n\u001b[0;32m---> 11\u001b[0;31m     \u001b[0;32mreturn\u001b[0m \u001b[0msum\u001b[0m\u001b[0;34m(\u001b[0m\u001b[0;34m[\u001b[0m\u001b[0mD\u001b[0m\u001b[0;34m[\u001b[0m\u001b[0mX\u001b[0m\u001b[0;34m[\u001b[0m\u001b[0mi\u001b[0m\u001b[0;34m]\u001b[0m\u001b[0;34m,\u001b[0m \u001b[0mX\u001b[0m\u001b[0;34m[\u001b[0m\u001b[0;34m(\u001b[0m\u001b[0mi\u001b[0m\u001b[0;34m+\u001b[0m\u001b[0;36m1\u001b[0m\u001b[0;34m)\u001b[0m\u001b[0;34m%\u001b[0m\u001b[0mlen\u001b[0m\u001b[0;34m(\u001b[0m\u001b[0mX\u001b[0m\u001b[0;34m)\u001b[0m\u001b[0;34m]\u001b[0m\u001b[0;34m]\u001b[0m \u001b[0;32mfor\u001b[0m \u001b[0mi\u001b[0m \u001b[0;32min\u001b[0m \u001b[0mrange\u001b[0m\u001b[0;34m(\u001b[0m\u001b[0mlen\u001b[0m\u001b[0;34m(\u001b[0m\u001b[0mX\u001b[0m\u001b[0;34m)\u001b[0m\u001b[0;34m)\u001b[0m\u001b[0;34m]\u001b[0m\u001b[0;34m)\u001b[0m\u001b[0;34m\u001b[0m\u001b[0m\n\u001b[0m",
      "\u001b[0;32m/Users/Schreuder/anaconda/lib/python3.5/site-packages/numpy/core/fromnumeric.py\u001b[0m in \u001b[0;36msum\u001b[0;34m(a, axis, dtype, out, keepdims)\u001b[0m\n\u001b[1;32m   1812\u001b[0m             \u001b[0;32mreturn\u001b[0m \u001b[0msum\u001b[0m\u001b[0;34m(\u001b[0m\u001b[0maxis\u001b[0m\u001b[0;34m=\u001b[0m\u001b[0maxis\u001b[0m\u001b[0;34m,\u001b[0m \u001b[0mdtype\u001b[0m\u001b[0;34m=\u001b[0m\u001b[0mdtype\u001b[0m\u001b[0;34m,\u001b[0m \u001b[0mout\u001b[0m\u001b[0;34m=\u001b[0m\u001b[0mout\u001b[0m\u001b[0;34m,\u001b[0m \u001b[0;34m**\u001b[0m\u001b[0mkwargs\u001b[0m\u001b[0;34m)\u001b[0m\u001b[0;34m\u001b[0m\u001b[0m\n\u001b[1;32m   1813\u001b[0m     return _methods._sum(a, axis=axis, dtype=dtype,\n\u001b[0;32m-> 1814\u001b[0;31m                          out=out, **kwargs)\n\u001b[0m\u001b[1;32m   1815\u001b[0m \u001b[0;34m\u001b[0m\u001b[0m\n\u001b[1;32m   1816\u001b[0m \u001b[0;34m\u001b[0m\u001b[0m\n",
      "\u001b[0;32m/Users/Schreuder/anaconda/lib/python3.5/site-packages/numpy/core/_methods.py\u001b[0m in \u001b[0;36m_sum\u001b[0;34m(a, axis, dtype, out, keepdims)\u001b[0m\n\u001b[1;32m     30\u001b[0m \u001b[0;34m\u001b[0m\u001b[0m\n\u001b[1;32m     31\u001b[0m \u001b[0;32mdef\u001b[0m \u001b[0m_sum\u001b[0m\u001b[0;34m(\u001b[0m\u001b[0ma\u001b[0m\u001b[0;34m,\u001b[0m \u001b[0maxis\u001b[0m\u001b[0;34m=\u001b[0m\u001b[0;32mNone\u001b[0m\u001b[0;34m,\u001b[0m \u001b[0mdtype\u001b[0m\u001b[0;34m=\u001b[0m\u001b[0;32mNone\u001b[0m\u001b[0;34m,\u001b[0m \u001b[0mout\u001b[0m\u001b[0;34m=\u001b[0m\u001b[0;32mNone\u001b[0m\u001b[0;34m,\u001b[0m \u001b[0mkeepdims\u001b[0m\u001b[0;34m=\u001b[0m\u001b[0;32mFalse\u001b[0m\u001b[0;34m)\u001b[0m\u001b[0;34m:\u001b[0m\u001b[0;34m\u001b[0m\u001b[0m\n\u001b[0;32m---> 32\u001b[0;31m     \u001b[0;32mreturn\u001b[0m \u001b[0mumr_sum\u001b[0m\u001b[0;34m(\u001b[0m\u001b[0ma\u001b[0m\u001b[0;34m,\u001b[0m \u001b[0maxis\u001b[0m\u001b[0;34m,\u001b[0m \u001b[0mdtype\u001b[0m\u001b[0;34m,\u001b[0m \u001b[0mout\u001b[0m\u001b[0;34m,\u001b[0m \u001b[0mkeepdims\u001b[0m\u001b[0;34m)\u001b[0m\u001b[0;34m\u001b[0m\u001b[0m\n\u001b[0m\u001b[1;32m     33\u001b[0m \u001b[0;34m\u001b[0m\u001b[0m\n\u001b[1;32m     34\u001b[0m \u001b[0;32mdef\u001b[0m \u001b[0m_prod\u001b[0m\u001b[0;34m(\u001b[0m\u001b[0ma\u001b[0m\u001b[0;34m,\u001b[0m \u001b[0maxis\u001b[0m\u001b[0;34m=\u001b[0m\u001b[0;32mNone\u001b[0m\u001b[0;34m,\u001b[0m \u001b[0mdtype\u001b[0m\u001b[0;34m=\u001b[0m\u001b[0;32mNone\u001b[0m\u001b[0;34m,\u001b[0m \u001b[0mout\u001b[0m\u001b[0;34m=\u001b[0m\u001b[0;32mNone\u001b[0m\u001b[0;34m,\u001b[0m \u001b[0mkeepdims\u001b[0m\u001b[0;34m=\u001b[0m\u001b[0;32mFalse\u001b[0m\u001b[0;34m)\u001b[0m\u001b[0;34m:\u001b[0m\u001b[0;34m\u001b[0m\u001b[0m\n",
      "\u001b[0;31mKeyboardInterrupt\u001b[0m: "
     ]
    }
   ],
   "source": [
    "alpha, gamma, best_traj = bayesian_cross_entropy(D, 10)"
   ]
  },
  {
   "cell_type": "code",
   "execution_count": null,
   "metadata": {
    "collapsed": false,
    "scrolled": false
   },
   "outputs": [],
   "source": [
    "for i in range(len(best_traj)-1):\n",
    "    plt.plot((X[best_traj[i]][0], X[best_traj[i+1]][0]), (X[best_traj[i]][1], X[best_traj[i+1]][1]))\n",
    "plt.scatter(X[:,0], X[:,1])"
   ]
  },
  {
   "cell_type": "markdown",
   "metadata": {},
   "source": [
    "4) Bonus: en fonction du temps disponible, vous pouvez tester votre algorithme\n",
    "sur de “gros” problèmes (par ex. trajet optimal du tour de France\n",
    "en se basant sur la liste des villes de l’année dernière), ou comparer à\n",
    "d’autres algorithmes que vous trouverez dans la littérature."
   ]
  },
  {
   "cell_type": "markdown",
   "metadata": {},
   "source": [
    "Faire tourner sur des villes random en France"
   ]
  },
  {
   "cell_type": "code",
   "execution_count": 122,
   "metadata": {
    "collapsed": true
   },
   "outputs": [],
   "source": [
    "import pandas as pd\n",
    "# https://opendata.paris.fr/explore/dataset/arbresremarquablesparis2011/table/\n",
    "df = pd.read_csv('arbresremarquablesparis2011.csv', sep=';')\n",
    "# arbutus ou sequoia\n",
    "df = df[df['GENRE']=='Sequoia']"
   ]
  },
  {
   "cell_type": "code",
   "execution_count": 123,
   "metadata": {
    "collapsed": false,
    "scrolled": true
   },
   "outputs": [],
   "source": [
    "geo_points = df['Geo point'].tolist()\n",
    "nb_trees = len(geo_points)\n",
    "geo_points = [(float(geo_point_str.split(',')[0]), float(geo_point_str.split(',')[1])) for geo_point_str in geo_points]"
   ]
  },
  {
   "cell_type": "code",
   "execution_count": 124,
   "metadata": {
    "collapsed": true
   },
   "outputs": [],
   "source": [
    "from math import radians, cos, sin, asin, sqrt\n",
    "def haversine(lon1, lat1, lon2, lat2):\n",
    "    \"\"\"\n",
    "    Calculate the great circle distance between two points \n",
    "    on the earth (specified in decimal degrees)\n",
    "    \"\"\"\n",
    "    # convert decimal degrees to radians \n",
    "    lon1, lat1, lon2, lat2 = map(radians, [lon1, lat1, lon2, lat2])\n",
    "    # haversine formula \n",
    "    dlon = lon2 - lon1 \n",
    "    dlat = lat2 - lat1 \n",
    "    a = sin(dlat/2)**2 + cos(lat1) * cos(lat2) * sin(dlon/2)**2\n",
    "    c = 2 * asin(sqrt(a)) \n",
    "    km = 6367 * c\n",
    "    return km"
   ]
  },
  {
   "cell_type": "code",
   "execution_count": 125,
   "metadata": {
    "collapsed": false
   },
   "outputs": [],
   "source": [
    "D_trees = numpy.empty((nb_trees,nb_trees))\n",
    "for i in range(nb_trees):\n",
    "    D_trees[i,i] = 0\n",
    "    for j in range(nb_trees):\n",
    "        lon1, lat1 = geo_points[i][0], geo_points[i][1]\n",
    "        lon2, lat2 = geo_points[j][0], geo_points[j][1]\n",
    "        D_trees[i,j] = haversine(lon1, lat1, lon2, lat2)\n",
    "        D_trees[j,i] = D_trees[i,j]"
   ]
  },
  {
   "cell_type": "code",
   "execution_count": 132,
   "metadata": {
    "collapsed": false
   },
   "outputs": [],
   "source": [
    "alpha, gamma, best_traj = cross_entropy(D_trees, 3000)"
   ]
  },
  {
   "cell_type": "code",
   "execution_count": 133,
   "metadata": {
    "collapsed": false
   },
   "outputs": [],
   "source": [
    "polyline_best_traj = [geo_points[point] for point in best_traj] + [geo_points[0]]"
   ]
  },
  {
   "cell_type": "code",
   "execution_count": 134,
   "metadata": {
    "collapsed": false
   },
   "outputs": [
    {
     "data": {
      "text/html": [
       "<div style=\"width:100%;\"><div style=\"position:relative;width:100%;height:0;padding-bottom:60%;\"><iframe src=\"data:text/html;charset=utf-8;base64,PCFET0NUWVBFIGh0bWw+CjxoZWFkPiAgICAKICAgIDxtZXRhIGh0dHAtZXF1aXY9ImNvbnRlbnQtdHlwZSIgY29udGVudD0idGV4dC9odG1sOyBjaGFyc2V0PVVURi04IiAvPgogICAgPHNjcmlwdD5MX1BSRUZFUl9DQU5WQVMgPSBmYWxzZTsgTF9OT19UT1VDSCA9IGZhbHNlOyBMX0RJU0FCTEVfM0QgPSBmYWxzZTs8L3NjcmlwdD4KICAgIDxzY3JpcHQgc3JjPSJodHRwczovL3VucGtnLmNvbS9sZWFmbGV0QDEuMC4xL2Rpc3QvbGVhZmxldC5qcyI+PC9zY3JpcHQ+CiAgICA8c2NyaXB0IHNyYz0iaHR0cHM6Ly9hamF4Lmdvb2dsZWFwaXMuY29tL2FqYXgvbGlicy9qcXVlcnkvMS4xMS4xL2pxdWVyeS5taW4uanMiPjwvc2NyaXB0PgogICAgPHNjcmlwdCBzcmM9Imh0dHBzOi8vbWF4Y2RuLmJvb3RzdHJhcGNkbi5jb20vYm9vdHN0cmFwLzMuMi4wL2pzL2Jvb3RzdHJhcC5taW4uanMiPjwvc2NyaXB0PgogICAgPHNjcmlwdCBzcmM9Imh0dHBzOi8vY2RuanMuY2xvdWRmbGFyZS5jb20vYWpheC9saWJzL0xlYWZsZXQuYXdlc29tZS1tYXJrZXJzLzIuMC4yL2xlYWZsZXQuYXdlc29tZS1tYXJrZXJzLmpzIj48L3NjcmlwdD4KICAgIDxzY3JpcHQgc3JjPSJodHRwczovL2NkbmpzLmNsb3VkZmxhcmUuY29tL2FqYXgvbGlicy9sZWFmbGV0Lm1hcmtlcmNsdXN0ZXIvMS4wLjAvbGVhZmxldC5tYXJrZXJjbHVzdGVyLXNyYy5qcyI+PC9zY3JpcHQ+CiAgICA8c2NyaXB0IHNyYz0iaHR0cHM6Ly9jZG5qcy5jbG91ZGZsYXJlLmNvbS9hamF4L2xpYnMvbGVhZmxldC5tYXJrZXJjbHVzdGVyLzEuMC4wL2xlYWZsZXQubWFya2VyY2x1c3Rlci5qcyI+PC9zY3JpcHQ+CiAgICA8bGluayByZWw9InN0eWxlc2hlZXQiIGhyZWY9Imh0dHBzOi8vdW5wa2cuY29tL2xlYWZsZXRAMS4wLjEvZGlzdC9sZWFmbGV0LmNzcyIgLz4KICAgIDxsaW5rIHJlbD0ic3R5bGVzaGVldCIgaHJlZj0iaHR0cHM6Ly9tYXhjZG4uYm9vdHN0cmFwY2RuLmNvbS9ib290c3RyYXAvMy4yLjAvY3NzL2Jvb3RzdHJhcC5taW4uY3NzIiAvPgogICAgPGxpbmsgcmVsPSJzdHlsZXNoZWV0IiBocmVmPSJodHRwczovL21heGNkbi5ib290c3RyYXBjZG4uY29tL2Jvb3RzdHJhcC8zLjIuMC9jc3MvYm9vdHN0cmFwLXRoZW1lLm1pbi5jc3MiIC8+CiAgICA8bGluayByZWw9InN0eWxlc2hlZXQiIGhyZWY9Imh0dHBzOi8vbWF4Y2RuLmJvb3RzdHJhcGNkbi5jb20vZm9udC1hd2Vzb21lLzQuNi4zL2Nzcy9mb250LWF3ZXNvbWUubWluLmNzcyIgLz4KICAgIDxsaW5rIHJlbD0ic3R5bGVzaGVldCIgaHJlZj0iaHR0cHM6Ly9jZG5qcy5jbG91ZGZsYXJlLmNvbS9hamF4L2xpYnMvTGVhZmxldC5hd2Vzb21lLW1hcmtlcnMvMi4wLjIvbGVhZmxldC5hd2Vzb21lLW1hcmtlcnMuY3NzIiAvPgogICAgPGxpbmsgcmVsPSJzdHlsZXNoZWV0IiBocmVmPSJodHRwczovL2NkbmpzLmNsb3VkZmxhcmUuY29tL2FqYXgvbGlicy9sZWFmbGV0Lm1hcmtlcmNsdXN0ZXIvMS4wLjAvTWFya2VyQ2x1c3Rlci5EZWZhdWx0LmNzcyIgLz4KICAgIDxsaW5rIHJlbD0ic3R5bGVzaGVldCIgaHJlZj0iaHR0cHM6Ly9jZG5qcy5jbG91ZGZsYXJlLmNvbS9hamF4L2xpYnMvbGVhZmxldC5tYXJrZXJjbHVzdGVyLzEuMC4wL01hcmtlckNsdXN0ZXIuY3NzIiAvPgogICAgPGxpbmsgcmVsPSJzdHlsZXNoZWV0IiBocmVmPSJodHRwczovL3Jhd2dpdC5jb20vcHl0aG9uLXZpc3VhbGl6YXRpb24vZm9saXVtL21hc3Rlci9mb2xpdW0vdGVtcGxhdGVzL2xlYWZsZXQuYXdlc29tZS5yb3RhdGUuY3NzIiAvPgogICAgPHN0eWxlPmh0bWwsIGJvZHkge3dpZHRoOiAxMDAlO2hlaWdodDogMTAwJTttYXJnaW46IDA7cGFkZGluZzogMDt9PC9zdHlsZT4KICAgIDxzdHlsZT4jbWFwIHtwb3NpdGlvbjphYnNvbHV0ZTt0b3A6MDtib3R0b206MDtyaWdodDowO2xlZnQ6MDt9PC9zdHlsZT4KICAgIAogICAgICAgICAgICA8c3R5bGU+ICNtYXBfYmFjYzNjMTRhNTFlNDE3YWJmNGIxNTExY2E1ZjViY2MgewogICAgICAgICAgICAgICAgcG9zaXRpb24gOiByZWxhdGl2ZTsKICAgICAgICAgICAgICAgIHdpZHRoIDogMTAwLjAlOwogICAgICAgICAgICAgICAgaGVpZ2h0OiAxMDAuMCU7CiAgICAgICAgICAgICAgICBsZWZ0OiAwLjAlOwogICAgICAgICAgICAgICAgdG9wOiAwLjAlOwogICAgICAgICAgICAgICAgfQogICAgICAgICAgICA8L3N0eWxlPgogICAgICAgIAo8L2hlYWQ+Cjxib2R5PiAgICAKICAgIAogICAgICAgICAgICA8ZGl2IGNsYXNzPSJmb2xpdW0tbWFwIiBpZD0ibWFwX2JhY2MzYzE0YTUxZTQxN2FiZjRiMTUxMWNhNWY1YmNjIiA+PC9kaXY+CiAgICAgICAgCjwvYm9keT4KPHNjcmlwdD4gICAgCiAgICAKCiAgICAgICAgICAgIAogICAgICAgICAgICAgICAgdmFyIHNvdXRoV2VzdCA9IEwubGF0TG5nKC05MCwgLTE4MCk7CiAgICAgICAgICAgICAgICB2YXIgbm9ydGhFYXN0ID0gTC5sYXRMbmcoOTAsIDE4MCk7CiAgICAgICAgICAgICAgICB2YXIgYm91bmRzID0gTC5sYXRMbmdCb3VuZHMoc291dGhXZXN0LCBub3J0aEVhc3QpOwogICAgICAgICAgICAKCiAgICAgICAgICAgIHZhciBtYXBfYmFjYzNjMTRhNTFlNDE3YWJmNGIxNTExY2E1ZjViY2MgPSBMLm1hcCgKICAgICAgICAgICAgICAgICAgICAgICAgICAgICAgICAgICdtYXBfYmFjYzNjMTRhNTFlNDE3YWJmNGIxNTExY2E1ZjViY2MnLAogICAgICAgICAgICAgICAgICAgICAgICAgICAgICAgICAge2NlbnRlcjogWzQ4Ljg1LDIuMzRdLAogICAgICAgICAgICAgICAgICAgICAgICAgICAgICAgICAgem9vbTogMTAsCiAgICAgICAgICAgICAgICAgICAgICAgICAgICAgICAgICBtYXhCb3VuZHM6IGJvdW5kcywKICAgICAgICAgICAgICAgICAgICAgICAgICAgICAgICAgIGxheWVyczogW10sCiAgICAgICAgICAgICAgICAgICAgICAgICAgICAgICAgICB3b3JsZENvcHlKdW1wOiBmYWxzZSwKICAgICAgICAgICAgICAgICAgICAgICAgICAgICAgICAgIGNyczogTC5DUlMuRVBTRzM4NTcKICAgICAgICAgICAgICAgICAgICAgICAgICAgICAgICAgfSk7CiAgICAgICAgICAgIAogICAgICAgIAogICAgCiAgICAgICAgICAgIHZhciB0aWxlX2xheWVyX2E5ZTQ4NDc2Y2FjMDQxODlhYzJmNmE3MGIwZTI2Mjc4ID0gTC50aWxlTGF5ZXIoCiAgICAgICAgICAgICAgICAnaHR0cHM6Ly97c30udGlsZS5vcGVuc3RyZWV0bWFwLm9yZy97en0ve3h9L3t5fS5wbmcnLAogICAgICAgICAgICAgICAgewogICAgICAgICAgICAgICAgICAgIG1heFpvb206IDE4LAogICAgICAgICAgICAgICAgICAgIG1pblpvb206IDEsCiAgICAgICAgICAgICAgICAgICAgY29udGludW91c1dvcmxkOiBmYWxzZSwKICAgICAgICAgICAgICAgICAgICBub1dyYXA6IGZhbHNlLAogICAgICAgICAgICAgICAgICAgIGF0dHJpYnV0aW9uOiAnRGF0YSBieSA8YSBocmVmPSJodHRwOi8vb3BlbnN0cmVldG1hcC5vcmciPk9wZW5TdHJlZXRNYXA8L2E+LCB1bmRlciA8YSBocmVmPSJodHRwOi8vd3d3Lm9wZW5zdHJlZXRtYXAub3JnL2NvcHlyaWdodCI+T0RiTDwvYT4uJywKICAgICAgICAgICAgICAgICAgICBkZXRlY3RSZXRpbmE6IGZhbHNlCiAgICAgICAgICAgICAgICAgICAgfQogICAgICAgICAgICAgICAgKS5hZGRUbyhtYXBfYmFjYzNjMTRhNTFlNDE3YWJmNGIxNTExY2E1ZjViY2MpOwoKICAgICAgICAKICAgIAoKICAgICAgICAgICAgdmFyIG1hcmtlcl8xMGI3ZTk5NjJkN2Y0MmI4YjM4MmVhMTIxZDZhNWZlMiA9IEwubWFya2VyKAogICAgICAgICAgICAgICAgWzQ4Ljg0MDI0MTgxOTcsMi4zMDc4OTkzMTQyOV0sCiAgICAgICAgICAgICAgICB7CiAgICAgICAgICAgICAgICAgICAgaWNvbjogbmV3IEwuSWNvbi5EZWZhdWx0KCkKICAgICAgICAgICAgICAgICAgICB9CiAgICAgICAgICAgICAgICApCiAgICAgICAgICAgICAgICAuYWRkVG8obWFwX2JhY2MzYzE0YTUxZTQxN2FiZjRiMTUxMWNhNWY1YmNjKTsKICAgICAgICAgICAgCiAgICAKICAgICAgICAgICAgdmFyIHBvcHVwXzU4ZDE5YjAyMDZiMzQxMDM5ZjA4ZDY0NzJmMjk3MTgxID0gTC5wb3B1cCh7bWF4V2lkdGg6ICczMDAnfSk7CgogICAgICAgICAgICAKICAgICAgICAgICAgICAgIHZhciBodG1sXzJkYjQ5Yzc0YTlhZTRlM2I5NWVkOGE5MGE4ZDNiYTZjID0gJCgnPGRpdiBpZD0iaHRtbF8yZGI0OWM3NGE5YWU0ZTNiOTVlZDhhOTBhOGQzYmE2YyIgc3R5bGU9IndpZHRoOiAxMDAuMCU7IGhlaWdodDogMTAwLjAlOyI+U2VxdW9pYTwvZGl2PicpWzBdOwogICAgICAgICAgICAgICAgcG9wdXBfNThkMTliMDIwNmIzNDEwMzlmMDhkNjQ3MmYyOTcxODEuc2V0Q29udGVudChodG1sXzJkYjQ5Yzc0YTlhZTRlM2I5NWVkOGE5MGE4ZDNiYTZjKTsKICAgICAgICAgICAgCgogICAgICAgICAgICBtYXJrZXJfMTBiN2U5OTYyZDdmNDJiOGIzODJlYTEyMWQ2YTVmZTIuYmluZFBvcHVwKHBvcHVwXzU4ZDE5YjAyMDZiMzQxMDM5ZjA4ZDY0NzJmMjk3MTgxKTsKCiAgICAgICAgICAgIAogICAgICAgIAogICAgCgogICAgICAgICAgICB2YXIgbWFya2VyXzM0NzVlMjE1NTNmYjQ5NTc5NTJlMTE3NmI2M2QxYzUyID0gTC5tYXJrZXIoCiAgICAgICAgICAgICAgICBbNDguODgwMDUzNTE3NSwyLjM4MjEyMDQxNjM2XSwKICAgICAgICAgICAgICAgIHsKICAgICAgICAgICAgICAgICAgICBpY29uOiBuZXcgTC5JY29uLkRlZmF1bHQoKQogICAgICAgICAgICAgICAgICAgIH0KICAgICAgICAgICAgICAgICkKICAgICAgICAgICAgICAgIC5hZGRUbyhtYXBfYmFjYzNjMTRhNTFlNDE3YWJmNGIxNTExY2E1ZjViY2MpOwogICAgICAgICAgICAKICAgIAogICAgICAgICAgICB2YXIgcG9wdXBfY2IxNjY3ZGY3ZDM5NGE2YmJkMTAyYWU0NjNjNTQyYzkgPSBMLnBvcHVwKHttYXhXaWR0aDogJzMwMCd9KTsKCiAgICAgICAgICAgIAogICAgICAgICAgICAgICAgdmFyIGh0bWxfODVmNTQwMTYyYzhhNDdkZThlM2UxZDU1Y2Q3NTUyMGIgPSAkKCc8ZGl2IGlkPSJodG1sXzg1ZjU0MDE2MmM4YTQ3ZGU4ZTNlMWQ1NWNkNzU1MjBiIiBzdHlsZT0id2lkdGg6IDEwMC4wJTsgaGVpZ2h0OiAxMDAuMCU7Ij5TZXF1b2lhPC9kaXY+JylbMF07CiAgICAgICAgICAgICAgICBwb3B1cF9jYjE2NjdkZjdkMzk0YTZiYmQxMDJhZTQ2M2M1NDJjOS5zZXRDb250ZW50KGh0bWxfODVmNTQwMTYyYzhhNDdkZThlM2UxZDU1Y2Q3NTUyMGIpOwogICAgICAgICAgICAKCiAgICAgICAgICAgIG1hcmtlcl8zNDc1ZTIxNTUzZmI0OTU3OTUyZTExNzZiNjNkMWM1Mi5iaW5kUG9wdXAocG9wdXBfY2IxNjY3ZGY3ZDM5NGE2YmJkMTAyYWU0NjNjNTQyYzkpOwoKICAgICAgICAgICAgCiAgICAgICAgCiAgICAKCiAgICAgICAgICAgIHZhciBtYXJrZXJfNmQ1ODA3MGM1Zjg1NGRhYTk5OGU5ZTUxMmNkODUzNjEgPSBMLm1hcmtlcigKICAgICAgICAgICAgICAgIFs0OC44NjI0NDUxODI4LDIuMjg5NTcwMzU1NjZdLAogICAgICAgICAgICAgICAgewogICAgICAgICAgICAgICAgICAgIGljb246IG5ldyBMLkljb24uRGVmYXVsdCgpCiAgICAgICAgICAgICAgICAgICAgfQogICAgICAgICAgICAgICAgKQogICAgICAgICAgICAgICAgLmFkZFRvKG1hcF9iYWNjM2MxNGE1MWU0MTdhYmY0YjE1MTFjYTVmNWJjYyk7CiAgICAgICAgICAgIAogICAgCiAgICAgICAgICAgIHZhciBwb3B1cF8zMzFhZWQyYmVkNWQ0NTg1YWMyNTZkNmQzNDQ2Yzg0NiA9IEwucG9wdXAoe21heFdpZHRoOiAnMzAwJ30pOwoKICAgICAgICAgICAgCiAgICAgICAgICAgICAgICB2YXIgaHRtbF8yYzIyOTNlOWEyNGU0NDgxYTc0YjE3ZmQwZTMzN2QyMSA9ICQoJzxkaXYgaWQ9Imh0bWxfMmMyMjkzZTlhMjRlNDQ4MWE3NGIxN2ZkMGUzMzdkMjEiIHN0eWxlPSJ3aWR0aDogMTAwLjAlOyBoZWlnaHQ6IDEwMC4wJTsiPlNlcXVvaWE8L2Rpdj4nKVswXTsKICAgICAgICAgICAgICAgIHBvcHVwXzMzMWFlZDJiZWQ1ZDQ1ODVhYzI1NmQ2ZDM0NDZjODQ2LnNldENvbnRlbnQoaHRtbF8yYzIyOTNlOWEyNGU0NDgxYTc0YjE3ZmQwZTMzN2QyMSk7CiAgICAgICAgICAgIAoKICAgICAgICAgICAgbWFya2VyXzZkNTgwNzBjNWY4NTRkYWE5OThlOWU1MTJjZDg1MzYxLmJpbmRQb3B1cChwb3B1cF8zMzFhZWQyYmVkNWQ0NTg1YWMyNTZkNmQzNDQ2Yzg0Nik7CgogICAgICAgICAgICAKICAgICAgICAKICAgIAoKICAgICAgICAgICAgdmFyIG1hcmtlcl9iZDRlMmI3MjY4Yjg0ZWFiODNlYmQyMjg0OTkxMTJiZCA9IEwubWFya2VyKAogICAgICAgICAgICAgICAgWzQ4Ljg4MDAzNTQ5NjQsMi4zODIyMTEzMTkyNF0sCiAgICAgICAgICAgICAgICB7CiAgICAgICAgICAgICAgICAgICAgaWNvbjogbmV3IEwuSWNvbi5EZWZhdWx0KCkKICAgICAgICAgICAgICAgICAgICB9CiAgICAgICAgICAgICAgICApCiAgICAgICAgICAgICAgICAuYWRkVG8obWFwX2JhY2MzYzE0YTUxZTQxN2FiZjRiMTUxMWNhNWY1YmNjKTsKICAgICAgICAgICAgCiAgICAKICAgICAgICAgICAgdmFyIHBvcHVwXzc5ODlkYThjMTIwMzRiMDNhZTg5MmE1ZmVmYzc3MTVkID0gTC5wb3B1cCh7bWF4V2lkdGg6ICczMDAnfSk7CgogICAgICAgICAgICAKICAgICAgICAgICAgICAgIHZhciBodG1sX2E3YmYyODRlY2I5YjRlODJhM2MwMzVkMTgzNDdkMTFkID0gJCgnPGRpdiBpZD0iaHRtbF9hN2JmMjg0ZWNiOWI0ZTgyYTNjMDM1ZDE4MzQ3ZDExZCIgc3R5bGU9IndpZHRoOiAxMDAuMCU7IGhlaWdodDogMTAwLjAlOyI+U2VxdW9pYTwvZGl2PicpWzBdOwogICAgICAgICAgICAgICAgcG9wdXBfNzk4OWRhOGMxMjAzNGIwM2FlODkyYTVmZWZjNzcxNWQuc2V0Q29udGVudChodG1sX2E3YmYyODRlY2I5YjRlODJhM2MwMzVkMTgzNDdkMTFkKTsKICAgICAgICAgICAgCgogICAgICAgICAgICBtYXJrZXJfYmQ0ZTJiNzI2OGI4NGVhYjgzZWJkMjI4NDk5MTEyYmQuYmluZFBvcHVwKHBvcHVwXzc5ODlkYThjMTIwMzRiMDNhZTg5MmE1ZmVmYzc3MTVkKTsKCiAgICAgICAgICAgIAogICAgICAgIAogICAgCgogICAgICAgICAgICB2YXIgbWFya2VyXzM2NDczZDMzMmU1MjRhMTI5ZjNjN2JhMTg3NGY5NzM2ID0gTC5tYXJrZXIoCiAgICAgICAgICAgICAgICBbNDguODIzOTYxNjI5MiwyLjMzNzY5MjAzNjg1XSwKICAgICAgICAgICAgICAgIHsKICAgICAgICAgICAgICAgICAgICBpY29uOiBuZXcgTC5JY29uLkRlZmF1bHQoKQogICAgICAgICAgICAgICAgICAgIH0KICAgICAgICAgICAgICAgICkKICAgICAgICAgICAgICAgIC5hZGRUbyhtYXBfYmFjYzNjMTRhNTFlNDE3YWJmNGIxNTExY2E1ZjViY2MpOwogICAgICAgICAgICAKICAgIAogICAgICAgICAgICB2YXIgcG9wdXBfZGFjZWNhNjhmODQzNDE4ZjgwYTcwYmEzMGYwNzU0ZGQgPSBMLnBvcHVwKHttYXhXaWR0aDogJzMwMCd9KTsKCiAgICAgICAgICAgIAogICAgICAgICAgICAgICAgdmFyIGh0bWxfOGY1YmFjZjhiYzRlNDA3YmJjMmFhNGIxYjk3MzE5ODcgPSAkKCc8ZGl2IGlkPSJodG1sXzhmNWJhY2Y4YmM0ZTQwN2JiYzJhYTRiMWI5NzMxOTg3IiBzdHlsZT0id2lkdGg6IDEwMC4wJTsgaGVpZ2h0OiAxMDAuMCU7Ij5TZXF1b2lhPC9kaXY+JylbMF07CiAgICAgICAgICAgICAgICBwb3B1cF9kYWNlY2E2OGY4NDM0MThmODBhNzBiYTMwZjA3NTRkZC5zZXRDb250ZW50KGh0bWxfOGY1YmFjZjhiYzRlNDA3YmJjMmFhNGIxYjk3MzE5ODcpOwogICAgICAgICAgICAKCiAgICAgICAgICAgIG1hcmtlcl8zNjQ3M2QzMzJlNTI0YTEyOWYzYzdiYTE4NzRmOTczNi5iaW5kUG9wdXAocG9wdXBfZGFjZWNhNjhmODQzNDE4ZjgwYTcwYmEzMGYwNzU0ZGQpOwoKICAgICAgICAgICAgCiAgICAgICAgCiAgICAKCiAgICAgICAgICAgIHZhciBtYXJrZXJfYzFkMDE1YzNiNWFiNGI2ZDgzNWZlNmRjNzNkM2VkZWIgPSBMLm1hcmtlcigKICAgICAgICAgICAgICAgIFs0OC44MjM1MTQxOTMsMi4zMzc0NjU2MTA1NF0sCiAgICAgICAgICAgICAgICB7CiAgICAgICAgICAgICAgICAgICAgaWNvbjogbmV3IEwuSWNvbi5EZWZhdWx0KCkKICAgICAgICAgICAgICAgICAgICB9CiAgICAgICAgICAgICAgICApCiAgICAgICAgICAgICAgICAuYWRkVG8obWFwX2JhY2MzYzE0YTUxZTQxN2FiZjRiMTUxMWNhNWY1YmNjKTsKICAgICAgICAgICAgCiAgICAKICAgICAgICAgICAgdmFyIHBvcHVwX2EzNmQ0ZDVlMWMwYTQ3NDJhNTUyYzNlYTEyNzRjZTRmID0gTC5wb3B1cCh7bWF4V2lkdGg6ICczMDAnfSk7CgogICAgICAgICAgICAKICAgICAgICAgICAgICAgIHZhciBodG1sX2RiYjIwY2FkNDE3ZjQzYzY4MDlkMjc1MWFkYjk5NGNlID0gJCgnPGRpdiBpZD0iaHRtbF9kYmIyMGNhZDQxN2Y0M2M2ODA5ZDI3NTFhZGI5OTRjZSIgc3R5bGU9IndpZHRoOiAxMDAuMCU7IGhlaWdodDogMTAwLjAlOyI+U2VxdW9pYTwvZGl2PicpWzBdOwogICAgICAgICAgICAgICAgcG9wdXBfYTM2ZDRkNWUxYzBhNDc0MmE1NTJjM2VhMTI3NGNlNGYuc2V0Q29udGVudChodG1sX2RiYjIwY2FkNDE3ZjQzYzY4MDlkMjc1MWFkYjk5NGNlKTsKICAgICAgICAgICAgCgogICAgICAgICAgICBtYXJrZXJfYzFkMDE1YzNiNWFiNGI2ZDgzNWZlNmRjNzNkM2VkZWIuYmluZFBvcHVwKHBvcHVwX2EzNmQ0ZDVlMWMwYTQ3NDJhNTUyYzNlYTEyNzRjZTRmKTsKCiAgICAgICAgICAgIAogICAgICAgIAogICAgCgogICAgICAgICAgICB2YXIgbWFya2VyXzQyYzlmYTRjMGVlNzRhMmY5MTgzZDBkNjRjMGQ2NTdjID0gTC5tYXJrZXIoCiAgICAgICAgICAgICAgICBbNDguODY1MzUyMzM4NiwyLjQxMjA1NDg1MDk5XSwKICAgICAgICAgICAgICAgIHsKICAgICAgICAgICAgICAgICAgICBpY29uOiBuZXcgTC5JY29uLkRlZmF1bHQoKQogICAgICAgICAgICAgICAgICAgIH0KICAgICAgICAgICAgICAgICkKICAgICAgICAgICAgICAgIC5hZGRUbyhtYXBfYmFjYzNjMTRhNTFlNDE3YWJmNGIxNTExY2E1ZjViY2MpOwogICAgICAgICAgICAKICAgIAogICAgICAgICAgICB2YXIgcG9wdXBfMzhjNjMwYzdlZTJjNGI5NWJhOTg2OTk2ZDRhYjlhOWMgPSBMLnBvcHVwKHttYXhXaWR0aDogJzMwMCd9KTsKCiAgICAgICAgICAgIAogICAgICAgICAgICAgICAgdmFyIGh0bWxfMjRjZTljYjRlODg0NDE5ODhiNDc4MDQyNmM4OTNiODIgPSAkKCc8ZGl2IGlkPSJodG1sXzI0Y2U5Y2I0ZTg4NDQxOTg4YjQ3ODA0MjZjODkzYjgyIiBzdHlsZT0id2lkdGg6IDEwMC4wJTsgaGVpZ2h0OiAxMDAuMCU7Ij5TZXF1b2lhPC9kaXY+JylbMF07CiAgICAgICAgICAgICAgICBwb3B1cF8zOGM2MzBjN2VlMmM0Yjk1YmE5ODY5OTZkNGFiOWE5Yy5zZXRDb250ZW50KGh0bWxfMjRjZTljYjRlODg0NDE5ODhiNDc4MDQyNmM4OTNiODIpOwogICAgICAgICAgICAKCiAgICAgICAgICAgIG1hcmtlcl80MmM5ZmE0YzBlZTc0YTJmOTE4M2QwZDY0YzBkNjU3Yy5iaW5kUG9wdXAocG9wdXBfMzhjNjMwYzdlZTJjNGI5NWJhOTg2OTk2ZDRhYjlhOWMpOwoKICAgICAgICAgICAgCiAgICAgICAgCiAgICAKCiAgICAgICAgICAgIHZhciBtYXJrZXJfYTRiMjU5YWVmMGIxNDM2MDgzNzgwZDc3NzYwN2QwMmEgPSBMLm1hcmtlcigKICAgICAgICAgICAgICAgIFs0OC44NjM0ODc1ODc1LDIuMzk2ODI1Njg5NDFdLAogICAgICAgICAgICAgICAgewogICAgICAgICAgICAgICAgICAgIGljb246IG5ldyBMLkljb24uRGVmYXVsdCgpCiAgICAgICAgICAgICAgICAgICAgfQogICAgICAgICAgICAgICAgKQogICAgICAgICAgICAgICAgLmFkZFRvKG1hcF9iYWNjM2MxNGE1MWU0MTdhYmY0YjE1MTFjYTVmNWJjYyk7CiAgICAgICAgICAgIAogICAgCiAgICAgICAgICAgIHZhciBwb3B1cF9hNzNkMzEzZmE1N2E0ZDQ2ODlhYjcwM2M1YzFjY2Y2NSA9IEwucG9wdXAoe21heFdpZHRoOiAnMzAwJ30pOwoKICAgICAgICAgICAgCiAgICAgICAgICAgICAgICB2YXIgaHRtbF84MWRiMGJiNTFlM2Q0ZDUwOGI3NTc5YjYwNGVmZTRlMyA9ICQoJzxkaXYgaWQ9Imh0bWxfODFkYjBiYjUxZTNkNGQ1MDhiNzU3OWI2MDRlZmU0ZTMiIHN0eWxlPSJ3aWR0aDogMTAwLjAlOyBoZWlnaHQ6IDEwMC4wJTsiPlNlcXVvaWE8L2Rpdj4nKVswXTsKICAgICAgICAgICAgICAgIHBvcHVwX2E3M2QzMTNmYTU3YTRkNDY4OWFiNzAzYzVjMWNjZjY1LnNldENvbnRlbnQoaHRtbF84MWRiMGJiNTFlM2Q0ZDUwOGI3NTc5YjYwNGVmZTRlMyk7CiAgICAgICAgICAgIAoKICAgICAgICAgICAgbWFya2VyX2E0YjI1OWFlZjBiMTQzNjA4Mzc4MGQ3Nzc2MDdkMDJhLmJpbmRQb3B1cChwb3B1cF9hNzNkMzEzZmE1N2E0ZDQ2ODlhYjcwM2M1YzFjY2Y2NSk7CgogICAgICAgICAgICAKICAgICAgICAKICAgIAoKICAgICAgICAgICAgdmFyIG1hcmtlcl8zN2UzNTBiODAxMDc0ODlhYjVlMGQ0MTk1ZDQzOWMyNiA9IEwubWFya2VyKAogICAgICAgICAgICAgICAgWzQ4Ljg0OTA1MDY5NywyLjQwMzQ4NjM1MTgzXSwKICAgICAgICAgICAgICAgIHsKICAgICAgICAgICAgICAgICAgICBpY29uOiBuZXcgTC5JY29uLkRlZmF1bHQoKQogICAgICAgICAgICAgICAgICAgIH0KICAgICAgICAgICAgICAgICkKICAgICAgICAgICAgICAgIC5hZGRUbyhtYXBfYmFjYzNjMTRhNTFlNDE3YWJmNGIxNTExY2E1ZjViY2MpOwogICAgICAgICAgICAKICAgIAogICAgICAgICAgICB2YXIgcG9wdXBfZWJiYjRmYTkzN2YyNDk2ZDliMGEwOWIyYjdiZTg3YjMgPSBMLnBvcHVwKHttYXhXaWR0aDogJzMwMCd9KTsKCiAgICAgICAgICAgIAogICAgICAgICAgICAgICAgdmFyIGh0bWxfOTFkYjg4YjRhODk2NGVlYjkzZjFkMDVhNzQxMTIxNjUgPSAkKCc8ZGl2IGlkPSJodG1sXzkxZGI4OGI0YTg5NjRlZWI5M2YxZDA1YTc0MTEyMTY1IiBzdHlsZT0id2lkdGg6IDEwMC4wJTsgaGVpZ2h0OiAxMDAuMCU7Ij5TZXF1b2lhPC9kaXY+JylbMF07CiAgICAgICAgICAgICAgICBwb3B1cF9lYmJiNGZhOTM3ZjI0OTZkOWIwYTA5YjJiN2JlODdiMy5zZXRDb250ZW50KGh0bWxfOTFkYjg4YjRhODk2NGVlYjkzZjFkMDVhNzQxMTIxNjUpOwogICAgICAgICAgICAKCiAgICAgICAgICAgIG1hcmtlcl8zN2UzNTBiODAxMDc0ODlhYjVlMGQ0MTk1ZDQzOWMyNi5iaW5kUG9wdXAocG9wdXBfZWJiYjRmYTkzN2YyNDk2ZDliMGEwOWIyYjdiZTg3YjMpOwoKICAgICAgICAgICAgCiAgICAgICAgCiAgICAKCiAgICAgICAgICAgIHZhciBtYXJrZXJfZDYxODI5MWY2NzE2NGUyNTk1OTM0MzliYzllZjAxYzQgPSBMLm1hcmtlcigKICAgICAgICAgICAgICAgIFs0OC44NDc2MzM3NDUyLDIuMjUzNDkwMDE1NTJdLAogICAgICAgICAgICAgICAgewogICAgICAgICAgICAgICAgICAgIGljb246IG5ldyBMLkljb24uRGVmYXVsdCgpCiAgICAgICAgICAgICAgICAgICAgfQogICAgICAgICAgICAgICAgKQogICAgICAgICAgICAgICAgLmFkZFRvKG1hcF9iYWNjM2MxNGE1MWU0MTdhYmY0YjE1MTFjYTVmNWJjYyk7CiAgICAgICAgICAgIAogICAgCiAgICAgICAgICAgIHZhciBwb3B1cF8wMTkyMDVlM2IwZTA0YjRjYTdkOThmNjljYzNhOTIxNCA9IEwucG9wdXAoe21heFdpZHRoOiAnMzAwJ30pOwoKICAgICAgICAgICAgCiAgICAgICAgICAgICAgICB2YXIgaHRtbF8xODU3MzU3YzdmNzQ0ZGQxOWNhYjQzNWI2N2Q3M2U2YyA9ICQoJzxkaXYgaWQ9Imh0bWxfMTg1NzM1N2M3Zjc0NGRkMTljYWI0MzViNjdkNzNlNmMiIHN0eWxlPSJ3aWR0aDogMTAwLjAlOyBoZWlnaHQ6IDEwMC4wJTsiPlNlcXVvaWE8L2Rpdj4nKVswXTsKICAgICAgICAgICAgICAgIHBvcHVwXzAxOTIwNWUzYjBlMDRiNGNhN2Q5OGY2OWNjM2E5MjE0LnNldENvbnRlbnQoaHRtbF8xODU3MzU3YzdmNzQ0ZGQxOWNhYjQzNWI2N2Q3M2U2Yyk7CiAgICAgICAgICAgIAoKICAgICAgICAgICAgbWFya2VyX2Q2MTgyOTFmNjcxNjRlMjU5NTkzNDM5YmM5ZWYwMWM0LmJpbmRQb3B1cChwb3B1cF8wMTkyMDVlM2IwZTA0YjRjYTdkOThmNjljYzNhOTIxNCk7CgogICAgICAgICAgICAKICAgICAgICAKICAgIAoKICAgICAgICAgICAgdmFyIG1hcmtlcl82YTQwNjRjMDkwMDg0ODNlODAzMDEzNTA4MmMxMTI2OSA9IEwubWFya2VyKAogICAgICAgICAgICAgICAgWzQ4Ljg1MjgzNzkyNywyLjI3MTAwNTA0OTU0XSwKICAgICAgICAgICAgICAgIHsKICAgICAgICAgICAgICAgICAgICBpY29uOiBuZXcgTC5JY29uLkRlZmF1bHQoKQogICAgICAgICAgICAgICAgICAgIH0KICAgICAgICAgICAgICAgICkKICAgICAgICAgICAgICAgIC5hZGRUbyhtYXBfYmFjYzNjMTRhNTFlNDE3YWJmNGIxNTExY2E1ZjViY2MpOwogICAgICAgICAgICAKICAgIAogICAgICAgICAgICB2YXIgcG9wdXBfNjdlOWIwNTUzZjBiNGQ1MjhjM2Q0MzA3NWRmZGJjNjMgPSBMLnBvcHVwKHttYXhXaWR0aDogJzMwMCd9KTsKCiAgICAgICAgICAgIAogICAgICAgICAgICAgICAgdmFyIGh0bWxfYWZlZTA1MWYwM2ZkNDhmODg3NmYwNDNlZmQxZmE4MWQgPSAkKCc8ZGl2IGlkPSJodG1sX2FmZWUwNTFmMDNmZDQ4Zjg4NzZmMDQzZWZkMWZhODFkIiBzdHlsZT0id2lkdGg6IDEwMC4wJTsgaGVpZ2h0OiAxMDAuMCU7Ij5TZXF1b2lhPC9kaXY+JylbMF07CiAgICAgICAgICAgICAgICBwb3B1cF82N2U5YjA1NTNmMGI0ZDUyOGMzZDQzMDc1ZGZkYmM2My5zZXRDb250ZW50KGh0bWxfYWZlZTA1MWYwM2ZkNDhmODg3NmYwNDNlZmQxZmE4MWQpOwogICAgICAgICAgICAKCiAgICAgICAgICAgIG1hcmtlcl82YTQwNjRjMDkwMDg0ODNlODAzMDEzNTA4MmMxMTI2OS5iaW5kUG9wdXAocG9wdXBfNjdlOWIwNTUzZjBiNGQ1MjhjM2Q0MzA3NWRmZGJjNjMpOwoKICAgICAgICAgICAgCiAgICAgICAgCiAgICAKCiAgICAgICAgICAgIHZhciBtYXJrZXJfNjc1YzM1ZDFjMzZlNDY2YmJmMDEyMmVkMDUyNzVkYzIgPSBMLm1hcmtlcigKICAgICAgICAgICAgICAgIFs0OC44MjA3MTcxNTA1LDIuMzM4MTY3ODA3MzZdLAogICAgICAgICAgICAgICAgewogICAgICAgICAgICAgICAgICAgIGljb246IG5ldyBMLkljb24uRGVmYXVsdCgpCiAgICAgICAgICAgICAgICAgICAgfQogICAgICAgICAgICAgICAgKQogICAgICAgICAgICAgICAgLmFkZFRvKG1hcF9iYWNjM2MxNGE1MWU0MTdhYmY0YjE1MTFjYTVmNWJjYyk7CiAgICAgICAgICAgIAogICAgCiAgICAgICAgICAgIHZhciBwb3B1cF85YTZjM2M3ZjU5ZWU0NDYxYmVkOTVjNzUwMWZhYTlhMyA9IEwucG9wdXAoe21heFdpZHRoOiAnMzAwJ30pOwoKICAgICAgICAgICAgCiAgICAgICAgICAgICAgICB2YXIgaHRtbF8zOTUyYzc0NGUzYTk0ZjE5OWE5NjM3NzgwMTIyM2RkOCA9ICQoJzxkaXYgaWQ9Imh0bWxfMzk1MmM3NDRlM2E5NGYxOTlhOTYzNzc4MDEyMjNkZDgiIHN0eWxlPSJ3aWR0aDogMTAwLjAlOyBoZWlnaHQ6IDEwMC4wJTsiPlNlcXVvaWE8L2Rpdj4nKVswXTsKICAgICAgICAgICAgICAgIHBvcHVwXzlhNmMzYzdmNTllZTQ0NjFiZWQ5NWM3NTAxZmFhOWEzLnNldENvbnRlbnQoaHRtbF8zOTUyYzc0NGUzYTk0ZjE5OWE5NjM3NzgwMTIyM2RkOCk7CiAgICAgICAgICAgIAoKICAgICAgICAgICAgbWFya2VyXzY3NWMzNWQxYzM2ZTQ2NmJiZjAxMjJlZDA1Mjc1ZGMyLmJpbmRQb3B1cChwb3B1cF85YTZjM2M3ZjU5ZWU0NDYxYmVkOTVjNzUwMWZhYTlhMyk7CgogICAgICAgICAgICAKICAgICAgICAKICAgIAoKICAgICAgICAgICAgdmFyIG1hcmtlcl82NzMxM2M2MjdhMWU0YTQ5YjFiOThkNGZjMTMxMmY5NSA9IEwubWFya2VyKAogICAgICAgICAgICAgICAgWzQ4LjgyMzMyNDMxNDcsMi4zMzc0OTQ1OTcyM10sCiAgICAgICAgICAgICAgICB7CiAgICAgICAgICAgICAgICAgICAgaWNvbjogbmV3IEwuSWNvbi5EZWZhdWx0KCkKICAgICAgICAgICAgICAgICAgICB9CiAgICAgICAgICAgICAgICApCiAgICAgICAgICAgICAgICAuYWRkVG8obWFwX2JhY2MzYzE0YTUxZTQxN2FiZjRiMTUxMWNhNWY1YmNjKTsKICAgICAgICAgICAgCiAgICAKICAgICAgICAgICAgdmFyIHBvcHVwXzhiZWMwMGVkMjYyODQ3YzE5ZmYzNDRjMmFkZGE0MGE0ID0gTC5wb3B1cCh7bWF4V2lkdGg6ICczMDAnfSk7CgogICAgICAgICAgICAKICAgICAgICAgICAgICAgIHZhciBodG1sXzViMzdkZDMwYWE0NDRmNjBhMGE4OTM4MWY2YzMzNmVjID0gJCgnPGRpdiBpZD0iaHRtbF81YjM3ZGQzMGFhNDQ0ZjYwYTBhODkzODFmNmMzMzZlYyIgc3R5bGU9IndpZHRoOiAxMDAuMCU7IGhlaWdodDogMTAwLjAlOyI+U2VxdW9pYTwvZGl2PicpWzBdOwogICAgICAgICAgICAgICAgcG9wdXBfOGJlYzAwZWQyNjI4NDdjMTlmZjM0NGMyYWRkYTQwYTQuc2V0Q29udGVudChodG1sXzViMzdkZDMwYWE0NDRmNjBhMGE4OTM4MWY2YzMzNmVjKTsKICAgICAgICAgICAgCgogICAgICAgICAgICBtYXJrZXJfNjczMTNjNjI3YTFlNGE0OWIxYjk4ZDRmYzEzMTJmOTUuYmluZFBvcHVwKHBvcHVwXzhiZWMwMGVkMjYyODQ3YzE5ZmYzNDRjMmFkZGE0MGE0KTsKCiAgICAgICAgICAgIAogICAgICAgIAogICAgCgogICAgICAgICAgICB2YXIgbWFya2VyXzVkZjk3MDdmYjVjNTQxNzk4NWIwZTIxMjU1Y2VkMzU3ID0gTC5tYXJrZXIoCiAgICAgICAgICAgICAgICBbNDguODY1ODY1NTk2NywyLjQxMjM1ODE0MjM5XSwKICAgICAgICAgICAgICAgIHsKICAgICAgICAgICAgICAgICAgICBpY29uOiBuZXcgTC5JY29uLkRlZmF1bHQoKQogICAgICAgICAgICAgICAgICAgIH0KICAgICAgICAgICAgICAgICkKICAgICAgICAgICAgICAgIC5hZGRUbyhtYXBfYmFjYzNjMTRhNTFlNDE3YWJmNGIxNTExY2E1ZjViY2MpOwogICAgICAgICAgICAKICAgIAogICAgICAgICAgICB2YXIgcG9wdXBfMDgxNzg5MmIyNzVhNGI0ZGJlYTU4NmU4MzM5M2Q5NWIgPSBMLnBvcHVwKHttYXhXaWR0aDogJzMwMCd9KTsKCiAgICAgICAgICAgIAogICAgICAgICAgICAgICAgdmFyIGh0bWxfYTk0NzliZDY4MjcyNDM4OGJkMzM3NWNhNWFkNTBlMGQgPSAkKCc8ZGl2IGlkPSJodG1sX2E5NDc5YmQ2ODI3MjQzODhiZDMzNzVjYTVhZDUwZTBkIiBzdHlsZT0id2lkdGg6IDEwMC4wJTsgaGVpZ2h0OiAxMDAuMCU7Ij5TZXF1b2lhPC9kaXY+JylbMF07CiAgICAgICAgICAgICAgICBwb3B1cF8wODE3ODkyYjI3NWE0YjRkYmVhNTg2ZTgzMzkzZDk1Yi5zZXRDb250ZW50KGh0bWxfYTk0NzliZDY4MjcyNDM4OGJkMzM3NWNhNWFkNTBlMGQpOwogICAgICAgICAgICAKCiAgICAgICAgICAgIG1hcmtlcl81ZGY5NzA3ZmI1YzU0MTc5ODViMGUyMTI1NWNlZDM1Ny5iaW5kUG9wdXAocG9wdXBfMDgxNzg5MmIyNzVhNGI0ZGJlYTU4NmU4MzM5M2Q5NWIpOwoKICAgICAgICAgICAgCiAgICAgICAgCiAgICAKCiAgICAgICAgICAgIHZhciBtYXJrZXJfMGU3NzAzNmIzNzc3NGFkZjljODNiODJiNDQ2MzgwNjYgPSBMLm1hcmtlcigKICAgICAgICAgICAgICAgIFs0OC44NjM4ODgzNzg0LDIuMzkzMjQyMzUxNDFdLAogICAgICAgICAgICAgICAgewogICAgICAgICAgICAgICAgICAgIGljb246IG5ldyBMLkljb24uRGVmYXVsdCgpCiAgICAgICAgICAgICAgICAgICAgfQogICAgICAgICAgICAgICAgKQogICAgICAgICAgICAgICAgLmFkZFRvKG1hcF9iYWNjM2MxNGE1MWU0MTdhYmY0YjE1MTFjYTVmNWJjYyk7CiAgICAgICAgICAgIAogICAgCiAgICAgICAgICAgIHZhciBwb3B1cF81NWE1Njk5MmQ0Yjc0ZjM5YmU3MjcyNWM0ZjU4ODM2MSA9IEwucG9wdXAoe21heFdpZHRoOiAnMzAwJ30pOwoKICAgICAgICAgICAgCiAgICAgICAgICAgICAgICB2YXIgaHRtbF82ZDBiNjUyOThlMDA0ZDhjYThmN2NmNmRjOGNkZGFiYSA9ICQoJzxkaXYgaWQ9Imh0bWxfNmQwYjY1Mjk4ZTAwNGQ4Y2E4ZjdjZjZkYzhjZGRhYmEiIHN0eWxlPSJ3aWR0aDogMTAwLjAlOyBoZWlnaHQ6IDEwMC4wJTsiPlNlcXVvaWE8L2Rpdj4nKVswXTsKICAgICAgICAgICAgICAgIHBvcHVwXzU1YTU2OTkyZDRiNzRmMzliZTcyNzI1YzRmNTg4MzYxLnNldENvbnRlbnQoaHRtbF82ZDBiNjUyOThlMDA0ZDhjYThmN2NmNmRjOGNkZGFiYSk7CiAgICAgICAgICAgIAoKICAgICAgICAgICAgbWFya2VyXzBlNzcwMzZiMzc3NzRhZGY5YzgzYjgyYjQ0NjM4MDY2LmJpbmRQb3B1cChwb3B1cF81NWE1Njk5MmQ0Yjc0ZjM5YmU3MjcyNWM0ZjU4ODM2MSk7CgogICAgICAgICAgICAKICAgICAgICAKICAgIAoKICAgICAgICAgICAgdmFyIG1hcmtlcl8xOTEyNTBjZTlkYjk0NjMyYmUzNWMwYTE1ODc3MDY2NyA9IEwubWFya2VyKAogICAgICAgICAgICAgICAgWzQ4LjgyNDAxMzU4MjMsMi4zMzc3NjQzODQ0NV0sCiAgICAgICAgICAgICAgICB7CiAgICAgICAgICAgICAgICAgICAgaWNvbjogbmV3IEwuSWNvbi5EZWZhdWx0KCkKICAgICAgICAgICAgICAgICAgICB9CiAgICAgICAgICAgICAgICApCiAgICAgICAgICAgICAgICAuYWRkVG8obWFwX2JhY2MzYzE0YTUxZTQxN2FiZjRiMTUxMWNhNWY1YmNjKTsKICAgICAgICAgICAgCiAgICAKICAgICAgICAgICAgdmFyIHBvcHVwX2M4Njc2M2YxYzgwMDRjZmJiODg0NmFhZDgzZGMyYmMyID0gTC5wb3B1cCh7bWF4V2lkdGg6ICczMDAnfSk7CgogICAgICAgICAgICAKICAgICAgICAgICAgICAgIHZhciBodG1sXzNlYzMwN2QxMDY2ZjRkODFiMTcwNTg1Y2EzNmMxMzJhID0gJCgnPGRpdiBpZD0iaHRtbF8zZWMzMDdkMTA2NmY0ZDgxYjE3MDU4NWNhMzZjMTMyYSIgc3R5bGU9IndpZHRoOiAxMDAuMCU7IGhlaWdodDogMTAwLjAlOyI+U2VxdW9pYTwvZGl2PicpWzBdOwogICAgICAgICAgICAgICAgcG9wdXBfYzg2NzYzZjFjODAwNGNmYmI4ODQ2YWFkODNkYzJiYzIuc2V0Q29udGVudChodG1sXzNlYzMwN2QxMDY2ZjRkODFiMTcwNTg1Y2EzNmMxMzJhKTsKICAgICAgICAgICAgCgogICAgICAgICAgICBtYXJrZXJfMTkxMjUwY2U5ZGI5NDYzMmJlMzVjMGExNTg3NzA2NjcuYmluZFBvcHVwKHBvcHVwX2M4Njc2M2YxYzgwMDRjZmJiODg0NmFhZDgzZGMyYmMyKTsKCiAgICAgICAgICAgIAogICAgICAgIAogICAgCgogICAgICAgICAgICB2YXIgbWFya2VyXzkwMTQzZmRlY2E5MDQxNDRhODBlNzNkOTU2ZjNiZGY1ID0gTC5tYXJrZXIoCiAgICAgICAgICAgICAgICBbNDguODUzODM0NzE3OCwyLjM5MTM2NjY5OTE5XSwKICAgICAgICAgICAgICAgIHsKICAgICAgICAgICAgICAgICAgICBpY29uOiBuZXcgTC5JY29uLkRlZmF1bHQoKQogICAgICAgICAgICAgICAgICAgIH0KICAgICAgICAgICAgICAgICkKICAgICAgICAgICAgICAgIC5hZGRUbyhtYXBfYmFjYzNjMTRhNTFlNDE3YWJmNGIxNTExY2E1ZjViY2MpOwogICAgICAgICAgICAKICAgIAogICAgICAgICAgICB2YXIgcG9wdXBfOTRhM2Y2MzhmZTY5NDg3ZjkyMTBlNDk5NDE1M2RiODEgPSBMLnBvcHVwKHttYXhXaWR0aDogJzMwMCd9KTsKCiAgICAgICAgICAgIAogICAgICAgICAgICAgICAgdmFyIGh0bWxfYmQ3NjRjZTg2Mzc4NDgyZmFjYjgwNmM2OWM5ZjU4NWIgPSAkKCc8ZGl2IGlkPSJodG1sX2JkNzY0Y2U4NjM3ODQ4MmZhY2I4MDZjNjljOWY1ODViIiBzdHlsZT0id2lkdGg6IDEwMC4wJTsgaGVpZ2h0OiAxMDAuMCU7Ij5TZXF1b2lhPC9kaXY+JylbMF07CiAgICAgICAgICAgICAgICBwb3B1cF85NGEzZjYzOGZlNjk0ODdmOTIxMGU0OTk0MTUzZGI4MS5zZXRDb250ZW50KGh0bWxfYmQ3NjRjZTg2Mzc4NDgyZmFjYjgwNmM2OWM5ZjU4NWIpOwogICAgICAgICAgICAKCiAgICAgICAgICAgIG1hcmtlcl85MDE0M2ZkZWNhOTA0MTQ0YTgwZTczZDk1NmYzYmRmNS5iaW5kUG9wdXAocG9wdXBfOTRhM2Y2MzhmZTY5NDg3ZjkyMTBlNDk5NDE1M2RiODEpOwoKICAgICAgICAgICAgCiAgICAgICAgCiAgICAKCiAgICAgICAgICAgIHZhciBtYXJrZXJfZWFhNmU5MzQ5NmQxNGExNDliYjY1YTlhNDBlYWZjNWEgPSBMLm1hcmtlcigKICAgICAgICAgICAgICAgIFs0OC44MjA3MzA0NTA0LDIuMzM4MjE5NDYyNDhdLAogICAgICAgICAgICAgICAgewogICAgICAgICAgICAgICAgICAgIGljb246IG5ldyBMLkljb24uRGVmYXVsdCgpCiAgICAgICAgICAgICAgICAgICAgfQogICAgICAgICAgICAgICAgKQogICAgICAgICAgICAgICAgLmFkZFRvKG1hcF9iYWNjM2MxNGE1MWU0MTdhYmY0YjE1MTFjYTVmNWJjYyk7CiAgICAgICAgICAgIAogICAgCiAgICAgICAgICAgIHZhciBwb3B1cF82ODBkNzI3NjUwZmY0OWM0OGI3ZjdjYmNmMDlkMTFkZSA9IEwucG9wdXAoe21heFdpZHRoOiAnMzAwJ30pOwoKICAgICAgICAgICAgCiAgICAgICAgICAgICAgICB2YXIgaHRtbF9jOWNhNDM0MjkwNDU0N2M0YTAwM2Y2ZmZkZGYwODEyMSA9ICQoJzxkaXYgaWQ9Imh0bWxfYzljYTQzNDI5MDQ1NDdjNGEwMDNmNmZmZGRmMDgxMjEiIHN0eWxlPSJ3aWR0aDogMTAwLjAlOyBoZWlnaHQ6IDEwMC4wJTsiPlNlcXVvaWE8L2Rpdj4nKVswXTsKICAgICAgICAgICAgICAgIHBvcHVwXzY4MGQ3Mjc2NTBmZjQ5YzQ4YjdmN2NiY2YwOWQxMWRlLnNldENvbnRlbnQoaHRtbF9jOWNhNDM0MjkwNDU0N2M0YTAwM2Y2ZmZkZGYwODEyMSk7CiAgICAgICAgICAgIAoKICAgICAgICAgICAgbWFya2VyX2VhYTZlOTM0OTZkMTRhMTQ5YmI2NWE5YTQwZWFmYzVhLmJpbmRQb3B1cChwb3B1cF82ODBkNzI3NjUwZmY0OWM0OGI3ZjdjYmNmMDlkMTFkZSk7CgogICAgICAgICAgICAKICAgICAgICAKICAgIAoKICAgICAgICAgICAgdmFyIG1hcmtlcl84NWVkNDhiZmEyNDk0ZDljYTc0M2I1Y2RkYjZkODZiNiA9IEwubWFya2VyKAogICAgICAgICAgICAgICAgWzQ4LjgyMjA0MDc4MzcsMi4zMzYzMTU2NDMyXSwKICAgICAgICAgICAgICAgIHsKICAgICAgICAgICAgICAgICAgICBpY29uOiBuZXcgTC5JY29uLkRlZmF1bHQoKQogICAgICAgICAgICAgICAgICAgIH0KICAgICAgICAgICAgICAgICkKICAgICAgICAgICAgICAgIC5hZGRUbyhtYXBfYmFjYzNjMTRhNTFlNDE3YWJmNGIxNTExY2E1ZjViY2MpOwogICAgICAgICAgICAKICAgIAogICAgICAgICAgICB2YXIgcG9wdXBfNGYyODQxOGYzYjM0NDY4M2E5YWIyMzdhYjBhYzAwODEgPSBMLnBvcHVwKHttYXhXaWR0aDogJzMwMCd9KTsKCiAgICAgICAgICAgIAogICAgICAgICAgICAgICAgdmFyIGh0bWxfNTQ4MzFmMDEyYmE5NDVlNmI5M2YzMTUyODU0YzhhNzIgPSAkKCc8ZGl2IGlkPSJodG1sXzU0ODMxZjAxMmJhOTQ1ZTZiOTNmMzE1Mjg1NGM4YTcyIiBzdHlsZT0id2lkdGg6IDEwMC4wJTsgaGVpZ2h0OiAxMDAuMCU7Ij5TZXF1b2lhPC9kaXY+JylbMF07CiAgICAgICAgICAgICAgICBwb3B1cF80ZjI4NDE4ZjNiMzQ0NjgzYTlhYjIzN2FiMGFjMDA4MS5zZXRDb250ZW50KGh0bWxfNTQ4MzFmMDEyYmE5NDVlNmI5M2YzMTUyODU0YzhhNzIpOwogICAgICAgICAgICAKCiAgICAgICAgICAgIG1hcmtlcl84NWVkNDhiZmEyNDk0ZDljYTc0M2I1Y2RkYjZkODZiNi5iaW5kUG9wdXAocG9wdXBfNGYyODQxOGYzYjM0NDY4M2E5YWIyMzdhYjBhYzAwODEpOwoKICAgICAgICAgICAgCiAgICAgICAgCiAgICAKCiAgICAgICAgICAgIHZhciBtYXJrZXJfODk1NTRhNjUxNGU4NDI5NmE4ZWFkOTRiYTQ1Yzk0MGIgPSBMLm1hcmtlcigKICAgICAgICAgICAgICAgIFs0OC44NjU3NTQ5NzY5LDIuNDEyMjgwOTY3NDhdLAogICAgICAgICAgICAgICAgewogICAgICAgICAgICAgICAgICAgIGljb246IG5ldyBMLkljb24uRGVmYXVsdCgpCiAgICAgICAgICAgICAgICAgICAgfQogICAgICAgICAgICAgICAgKQogICAgICAgICAgICAgICAgLmFkZFRvKG1hcF9iYWNjM2MxNGE1MWU0MTdhYmY0YjE1MTFjYTVmNWJjYyk7CiAgICAgICAgICAgIAogICAgCiAgICAgICAgICAgIHZhciBwb3B1cF9lN2M4MzMxYTBhODA0MzBkOTExZjIwYWYxZTc2NDExMyA9IEwucG9wdXAoe21heFdpZHRoOiAnMzAwJ30pOwoKICAgICAgICAgICAgCiAgICAgICAgICAgICAgICB2YXIgaHRtbF80YWE5OWRmMTUzYWI0ZDBkOGNiODBhMzBjYmQwZjZmZiA9ICQoJzxkaXYgaWQ9Imh0bWxfNGFhOTlkZjE1M2FiNGQwZDhjYjgwYTMwY2JkMGY2ZmYiIHN0eWxlPSJ3aWR0aDogMTAwLjAlOyBoZWlnaHQ6IDEwMC4wJTsiPlNlcXVvaWE8L2Rpdj4nKVswXTsKICAgICAgICAgICAgICAgIHBvcHVwX2U3YzgzMzFhMGE4MDQzMGQ5MTFmMjBhZjFlNzY0MTEzLnNldENvbnRlbnQoaHRtbF80YWE5OWRmMTUzYWI0ZDBkOGNiODBhMzBjYmQwZjZmZik7CiAgICAgICAgICAgIAoKICAgICAgICAgICAgbWFya2VyXzg5NTU0YTY1MTRlODQyOTZhOGVhZDk0YmE0NWM5NDBiLmJpbmRQb3B1cChwb3B1cF9lN2M4MzMxYTBhODA0MzBkOTExZjIwYWYxZTc2NDExMyk7CgogICAgICAgICAgICAKICAgICAgICAKICAgIAoKICAgICAgICAgICAgdmFyIG1hcmtlcl84ZWVjMDhkYTlmMzY0Y2NhOTE3MDlhYWM2ZDI3ZGIwZSA9IEwubWFya2VyKAogICAgICAgICAgICAgICAgWzQ4Ljg3NDc4MjUzMTcsMi4zNjIxMDA0NzkxNl0sCiAgICAgICAgICAgICAgICB7CiAgICAgICAgICAgICAgICAgICAgaWNvbjogbmV3IEwuSWNvbi5EZWZhdWx0KCkKICAgICAgICAgICAgICAgICAgICB9CiAgICAgICAgICAgICAgICApCiAgICAgICAgICAgICAgICAuYWRkVG8obWFwX2JhY2MzYzE0YTUxZTQxN2FiZjRiMTUxMWNhNWY1YmNjKTsKICAgICAgICAgICAgCiAgICAKICAgICAgICAgICAgdmFyIHBvcHVwXzNmODllMjdiZjQ5NTQ0YmNiYzQ4NmM4NTM2NGRmYWIyID0gTC5wb3B1cCh7bWF4V2lkdGg6ICczMDAnfSk7CgogICAgICAgICAgICAKICAgICAgICAgICAgICAgIHZhciBodG1sXzBkZGU0YjFkNzI1MTQ1MmI4YmY3MjYyNTc1MGE4NzExID0gJCgnPGRpdiBpZD0iaHRtbF8wZGRlNGIxZDcyNTE0NTJiOGJmNzI2MjU3NTBhODcxMSIgc3R5bGU9IndpZHRoOiAxMDAuMCU7IGhlaWdodDogMTAwLjAlOyI+U2VxdW9pYTwvZGl2PicpWzBdOwogICAgICAgICAgICAgICAgcG9wdXBfM2Y4OWUyN2JmNDk1NDRiY2JjNDg2Yzg1MzY0ZGZhYjIuc2V0Q29udGVudChodG1sXzBkZGU0YjFkNzI1MTQ1MmI4YmY3MjYyNTc1MGE4NzExKTsKICAgICAgICAgICAgCgogICAgICAgICAgICBtYXJrZXJfOGVlYzA4ZGE5ZjM2NGNjYTkxNzA5YWFjNmQyN2RiMGUuYmluZFBvcHVwKHBvcHVwXzNmODllMjdiZjQ5NTQ0YmNiYzQ4NmM4NTM2NGRmYWIyKTsKCiAgICAgICAgICAgIAogICAgICAgIAogICAgCgogICAgICAgICAgICB2YXIgbWFya2VyXzlmMWViYjQ1MzlmMDRmMjRhZTQ0ZDBiNWY3NzhhZjFlID0gTC5tYXJrZXIoCiAgICAgICAgICAgICAgICBbNDguODIwNzE0MDc4LDIuMzQxMTg3OTYxMjldLAogICAgICAgICAgICAgICAgewogICAgICAgICAgICAgICAgICAgIGljb246IG5ldyBMLkljb24uRGVmYXVsdCgpCiAgICAgICAgICAgICAgICAgICAgfQogICAgICAgICAgICAgICAgKQogICAgICAgICAgICAgICAgLmFkZFRvKG1hcF9iYWNjM2MxNGE1MWU0MTdhYmY0YjE1MTFjYTVmNWJjYyk7CiAgICAgICAgICAgIAogICAgCiAgICAgICAgICAgIHZhciBwb3B1cF80ZDY3YWViYjU2M2M0NTQ2OGM4NjdlZTBlNDc3ZWVhZiA9IEwucG9wdXAoe21heFdpZHRoOiAnMzAwJ30pOwoKICAgICAgICAgICAgCiAgICAgICAgICAgICAgICB2YXIgaHRtbF9iNjhmYmI2ZThlNWU0OGNhODliZjhiOTc2MzY3YTQwZSA9ICQoJzxkaXYgaWQ9Imh0bWxfYjY4ZmJiNmU4ZTVlNDhjYTg5YmY4Yjk3NjM2N2E0MGUiIHN0eWxlPSJ3aWR0aDogMTAwLjAlOyBoZWlnaHQ6IDEwMC4wJTsiPlNlcXVvaWE8L2Rpdj4nKVswXTsKICAgICAgICAgICAgICAgIHBvcHVwXzRkNjdhZWJiNTYzYzQ1NDY4Yzg2N2VlMGU0NzdlZWFmLnNldENvbnRlbnQoaHRtbF9iNjhmYmI2ZThlNWU0OGNhODliZjhiOTc2MzY3YTQwZSk7CiAgICAgICAgICAgIAoKICAgICAgICAgICAgbWFya2VyXzlmMWViYjQ1MzlmMDRmMjRhZTQ0ZDBiNWY3NzhhZjFlLmJpbmRQb3B1cChwb3B1cF80ZDY3YWViYjU2M2M0NTQ2OGM4NjdlZTBlNDc3ZWVhZik7CgogICAgICAgICAgICAKICAgICAgICAKICAgIAoKICAgICAgICAgICAgdmFyIG1hcmtlcl9hODIwYzY1ZjM3MGE0ZWQ0YjQzZTkwZjk2NTQ5NTEzMiA9IEwubWFya2VyKAogICAgICAgICAgICAgICAgWzQ4LjgyMzY1NjM5NTksMi4zMzc0MTU2Njc4OF0sCiAgICAgICAgICAgICAgICB7CiAgICAgICAgICAgICAgICAgICAgaWNvbjogbmV3IEwuSWNvbi5EZWZhdWx0KCkKICAgICAgICAgICAgICAgICAgICB9CiAgICAgICAgICAgICAgICApCiAgICAgICAgICAgICAgICAuYWRkVG8obWFwX2JhY2MzYzE0YTUxZTQxN2FiZjRiMTUxMWNhNWY1YmNjKTsKICAgICAgICAgICAgCiAgICAKICAgICAgICAgICAgdmFyIHBvcHVwX2JhNmEyNGQwYTkwZTQ5MjM4NjAyZDQwYWFmNDZkNjQ1ID0gTC5wb3B1cCh7bWF4V2lkdGg6ICczMDAnfSk7CgogICAgICAgICAgICAKICAgICAgICAgICAgICAgIHZhciBodG1sXzU3ZmZlYzBjOTgwYTQyNGJiMTZkNTZmMGUyMGYwOTc4ID0gJCgnPGRpdiBpZD0iaHRtbF81N2ZmZWMwYzk4MGE0MjRiYjE2ZDU2ZjBlMjBmMDk3OCIgc3R5bGU9IndpZHRoOiAxMDAuMCU7IGhlaWdodDogMTAwLjAlOyI+U2VxdW9pYTwvZGl2PicpWzBdOwogICAgICAgICAgICAgICAgcG9wdXBfYmE2YTI0ZDBhOTBlNDkyMzg2MDJkNDBhYWY0NmQ2NDUuc2V0Q29udGVudChodG1sXzU3ZmZlYzBjOTgwYTQyNGJiMTZkNTZmMGUyMGYwOTc4KTsKICAgICAgICAgICAgCgogICAgICAgICAgICBtYXJrZXJfYTgyMGM2NWYzNzBhNGVkNGI0M2U5MGY5NjU0OTUxMzIuYmluZFBvcHVwKHBvcHVwX2JhNmEyNGQwYTkwZTQ5MjM4NjAyZDQwYWFmNDZkNjQ1KTsKCiAgICAgICAgICAgIAogICAgICAgIAogICAgCgogICAgICAgICAgICB2YXIgbWFya2VyX2FlMzBjOWM4NWVhZDQ2ZGM5NDE1YTVmZDllOWMwNDhkID0gTC5tYXJrZXIoCiAgICAgICAgICAgICAgICBbNDguODY1ODUxMTIxNSwyLjQxMjMwNTg2NDcxXSwKICAgICAgICAgICAgICAgIHsKICAgICAgICAgICAgICAgICAgICBpY29uOiBuZXcgTC5JY29uLkRlZmF1bHQoKQogICAgICAgICAgICAgICAgICAgIH0KICAgICAgICAgICAgICAgICkKICAgICAgICAgICAgICAgIC5hZGRUbyhtYXBfYmFjYzNjMTRhNTFlNDE3YWJmNGIxNTExY2E1ZjViY2MpOwogICAgICAgICAgICAKICAgIAogICAgICAgICAgICB2YXIgcG9wdXBfODdmYTRlZGFkYWM0NGQ4OThiODdkZWQ2ZmU4MTMyMTEgPSBMLnBvcHVwKHttYXhXaWR0aDogJzMwMCd9KTsKCiAgICAgICAgICAgIAogICAgICAgICAgICAgICAgdmFyIGh0bWxfNWQwOTA3NDg3MDI2NDk3MmJjODYxNmY4NzZmNDRlZDkgPSAkKCc8ZGl2IGlkPSJodG1sXzVkMDkwNzQ4NzAyNjQ5NzJiYzg2MTZmODc2ZjQ0ZWQ5IiBzdHlsZT0id2lkdGg6IDEwMC4wJTsgaGVpZ2h0OiAxMDAuMCU7Ij5TZXF1b2lhPC9kaXY+JylbMF07CiAgICAgICAgICAgICAgICBwb3B1cF84N2ZhNGVkYWRhYzQ0ZDg5OGI4N2RlZDZmZTgxMzIxMS5zZXRDb250ZW50KGh0bWxfNWQwOTA3NDg3MDI2NDk3MmJjODYxNmY4NzZmNDRlZDkpOwogICAgICAgICAgICAKCiAgICAgICAgICAgIG1hcmtlcl9hZTMwYzljODVlYWQ0NmRjOTQxNWE1ZmQ5ZTljMDQ4ZC5iaW5kUG9wdXAocG9wdXBfODdmYTRlZGFkYWM0NGQ4OThiODdkZWQ2ZmU4MTMyMTEpOwoKICAgICAgICAgICAgCiAgICAgICAgCiAgICAKCiAgICAgICAgICAgIHZhciBtYXJrZXJfNTg0YWU2M2UxYjAwNGQ3ZjgwZWE2NjFmNjA0OTQ1M2YgPSBMLm1hcmtlcigKICAgICAgICAgICAgICAgIFs0OC44NTM3ODE1NTk0LDIuMzkxMzg2NTYzNThdLAogICAgICAgICAgICAgICAgewogICAgICAgICAgICAgICAgICAgIGljb246IG5ldyBMLkljb24uRGVmYXVsdCgpCiAgICAgICAgICAgICAgICAgICAgfQogICAgICAgICAgICAgICAgKQogICAgICAgICAgICAgICAgLmFkZFRvKG1hcF9iYWNjM2MxNGE1MWU0MTdhYmY0YjE1MTFjYTVmNWJjYyk7CiAgICAgICAgICAgIAogICAgCiAgICAgICAgICAgIHZhciBwb3B1cF8xZTUxYjdhMGM3MzM0YTY4OGJlNjg5YTAzY2M4NmRjOSA9IEwucG9wdXAoe21heFdpZHRoOiAnMzAwJ30pOwoKICAgICAgICAgICAgCiAgICAgICAgICAgICAgICB2YXIgaHRtbF9jOTJlNjNlMzk3OTk0Y2FmYTcyMjA0NzI3NGY1ZjM4NyA9ICQoJzxkaXYgaWQ9Imh0bWxfYzkyZTYzZTM5Nzk5NGNhZmE3MjIwNDcyNzRmNWYzODciIHN0eWxlPSJ3aWR0aDogMTAwLjAlOyBoZWlnaHQ6IDEwMC4wJTsiPlNlcXVvaWE8L2Rpdj4nKVswXTsKICAgICAgICAgICAgICAgIHBvcHVwXzFlNTFiN2EwYzczMzRhNjg4YmU2ODlhMDNjYzg2ZGM5LnNldENvbnRlbnQoaHRtbF9jOTJlNjNlMzk3OTk0Y2FmYTcyMjA0NzI3NGY1ZjM4Nyk7CiAgICAgICAgICAgIAoKICAgICAgICAgICAgbWFya2VyXzU4NGFlNjNlMWIwMDRkN2Y4MGVhNjYxZjYwNDk0NTNmLmJpbmRQb3B1cChwb3B1cF8xZTUxYjdhMGM3MzM0YTY4OGJlNjg5YTAzY2M4NmRjOSk7CgogICAgICAgICAgICAKICAgICAgICAKICAgIAoKICAgICAgICAgICAgdmFyIG1hcmtlcl9mYjdhNGVlYWFkNTQ0MGFjYWI2MjAyNTc4MTUyZjc1ZiA9IEwubWFya2VyKAogICAgICAgICAgICAgICAgWzQ4Ljg0NjIwNzA0MzksMi40MDk2NjQ2Nzk3M10sCiAgICAgICAgICAgICAgICB7CiAgICAgICAgICAgICAgICAgICAgaWNvbjogbmV3IEwuSWNvbi5EZWZhdWx0KCkKICAgICAgICAgICAgICAgICAgICB9CiAgICAgICAgICAgICAgICApCiAgICAgICAgICAgICAgICAuYWRkVG8obWFwX2JhY2MzYzE0YTUxZTQxN2FiZjRiMTUxMWNhNWY1YmNjKTsKICAgICAgICAgICAgCiAgICAKICAgICAgICAgICAgdmFyIHBvcHVwXzcwODNlMmMwMDY2YjRhYzZhMTU1MWE3MjY5Njg0MDNmID0gTC5wb3B1cCh7bWF4V2lkdGg6ICczMDAnfSk7CgogICAgICAgICAgICAKICAgICAgICAgICAgICAgIHZhciBodG1sX2U0ZDkyZWE4ZTE2NjQ1NzM4ZTViOWJmN2I3MTgwZjRhID0gJCgnPGRpdiBpZD0iaHRtbF9lNGQ5MmVhOGUxNjY0NTczOGU1YjliZjdiNzE4MGY0YSIgc3R5bGU9IndpZHRoOiAxMDAuMCU7IGhlaWdodDogMTAwLjAlOyI+U2VxdW9pYTwvZGl2PicpWzBdOwogICAgICAgICAgICAgICAgcG9wdXBfNzA4M2UyYzAwNjZiNGFjNmExNTUxYTcyNjk2ODQwM2Yuc2V0Q29udGVudChodG1sX2U0ZDkyZWE4ZTE2NjQ1NzM4ZTViOWJmN2I3MTgwZjRhKTsKICAgICAgICAgICAgCgogICAgICAgICAgICBtYXJrZXJfZmI3YTRlZWFhZDU0NDBhY2FiNjIwMjU3ODE1MmY3NWYuYmluZFBvcHVwKHBvcHVwXzcwODNlMmMwMDY2YjRhYzZhMTU1MWE3MjY5Njg0MDNmKTsKCiAgICAgICAgICAgIAogICAgICAgIAogICAgCgogICAgICAgICAgICB2YXIgbWFya2VyXzdhOTViOWZjOTc1MjQzNWNhYzkwODE3NDRhMGI0NzE1ID0gTC5tYXJrZXIoCiAgICAgICAgICAgICAgICBbNDguODMzMTg3OTE2MiwyLjM2NzE1MjIxODQzXSwKICAgICAgICAgICAgICAgIHsKICAgICAgICAgICAgICAgICAgICBpY29uOiBuZXcgTC5JY29uLkRlZmF1bHQoKQogICAgICAgICAgICAgICAgICAgIH0KICAgICAgICAgICAgICAgICkKICAgICAgICAgICAgICAgIC5hZGRUbyhtYXBfYmFjYzNjMTRhNTFlNDE3YWJmNGIxNTExY2E1ZjViY2MpOwogICAgICAgICAgICAKICAgIAogICAgICAgICAgICB2YXIgcG9wdXBfNjI3MjMwODNlNzZlNGUyZTkwZTliYmRjMDc3NmFjZmEgPSBMLnBvcHVwKHttYXhXaWR0aDogJzMwMCd9KTsKCiAgICAgICAgICAgIAogICAgICAgICAgICAgICAgdmFyIGh0bWxfZDc4MGM5ZTllODNjNGU3MGE5ZjIxMTdmMTlmMDY3ZmQgPSAkKCc8ZGl2IGlkPSJodG1sX2Q3ODBjOWU5ZTgzYzRlNzBhOWYyMTE3ZjE5ZjA2N2ZkIiBzdHlsZT0id2lkdGg6IDEwMC4wJTsgaGVpZ2h0OiAxMDAuMCU7Ij5TZXF1b2lhPC9kaXY+JylbMF07CiAgICAgICAgICAgICAgICBwb3B1cF82MjcyMzA4M2U3NmU0ZTJlOTBlOWJiZGMwNzc2YWNmYS5zZXRDb250ZW50KGh0bWxfZDc4MGM5ZTllODNjNGU3MGE5ZjIxMTdmMTlmMDY3ZmQpOwogICAgICAgICAgICAKCiAgICAgICAgICAgIG1hcmtlcl83YTk1YjlmYzk3NTI0MzVjYWM5MDgxNzQ0YTBiNDcxNS5iaW5kUG9wdXAocG9wdXBfNjI3MjMwODNlNzZlNGUyZTkwZTliYmRjMDc3NmFjZmEpOwoKICAgICAgICAgICAgCiAgICAgICAgCiAgICAKCiAgICAgICAgICAgIHZhciBtYXJrZXJfY2ZlNzlkNjFjM2Q1NGFiZjk2NjQyNzI3NmI1ZjNlNzIgPSBMLm1hcmtlcigKICAgICAgICAgICAgICAgIFs0OC44NjM4NzA0NzE5LDIuMzkzMTYyNDA4NzVdLAogICAgICAgICAgICAgICAgewogICAgICAgICAgICAgICAgICAgIGljb246IG5ldyBMLkljb24uRGVmYXVsdCgpCiAgICAgICAgICAgICAgICAgICAgfQogICAgICAgICAgICAgICAgKQogICAgICAgICAgICAgICAgLmFkZFRvKG1hcF9iYWNjM2MxNGE1MWU0MTdhYmY0YjE1MTFjYTVmNWJjYyk7CiAgICAgICAgICAgIAogICAgCiAgICAgICAgICAgIHZhciBwb3B1cF83NzA1MWI0YjQ0MTE0MjRkODE5OTliODc4MjI1MmE3OCA9IEwucG9wdXAoe21heFdpZHRoOiAnMzAwJ30pOwoKICAgICAgICAgICAgCiAgICAgICAgICAgICAgICB2YXIgaHRtbF8xMTI5MWVkNWI3MTg0ZmMyYWNkZDgzYzc1Y2MzZjM0ZSA9ICQoJzxkaXYgaWQ9Imh0bWxfMTEyOTFlZDViNzE4NGZjMmFjZGQ4M2M3NWNjM2YzNGUiIHN0eWxlPSJ3aWR0aDogMTAwLjAlOyBoZWlnaHQ6IDEwMC4wJTsiPlNlcXVvaWE8L2Rpdj4nKVswXTsKICAgICAgICAgICAgICAgIHBvcHVwXzc3MDUxYjRiNDQxMTQyNGQ4MTk5OWI4NzgyMjUyYTc4LnNldENvbnRlbnQoaHRtbF8xMTI5MWVkNWI3MTg0ZmMyYWNkZDgzYzc1Y2MzZjM0ZSk7CiAgICAgICAgICAgIAoKICAgICAgICAgICAgbWFya2VyX2NmZTc5ZDYxYzNkNTRhYmY5NjY0MjcyNzZiNWYzZTcyLmJpbmRQb3B1cChwb3B1cF83NzA1MWI0YjQ0MTE0MjRkODE5OTliODc4MjI1MmE3OCk7CgogICAgICAgICAgICAKICAgICAgICAKICAgIAoKICAgICAgICAgICAgdmFyIG1hcmtlcl9mODg2ZDQ0ZTc4ZTY0NzM2YmIwOTE2MGJkNTcwYWFiNiA9IEwubWFya2VyKAogICAgICAgICAgICAgICAgWzQ4Ljg0Nzc1OTE5OTMsMi4yNTQ3NzU1ODg4M10sCiAgICAgICAgICAgICAgICB7CiAgICAgICAgICAgICAgICAgICAgaWNvbjogbmV3IEwuSWNvbi5EZWZhdWx0KCkKICAgICAgICAgICAgICAgICAgICB9CiAgICAgICAgICAgICAgICApCiAgICAgICAgICAgICAgICAuYWRkVG8obWFwX2JhY2MzYzE0YTUxZTQxN2FiZjRiMTUxMWNhNWY1YmNjKTsKICAgICAgICAgICAgCiAgICAKICAgICAgICAgICAgdmFyIHBvcHVwX2VmYzllNDhhOTllMTRiMjg5MGY5ZmUyMjI0YzNmMDAzID0gTC5wb3B1cCh7bWF4V2lkdGg6ICczMDAnfSk7CgogICAgICAgICAgICAKICAgICAgICAgICAgICAgIHZhciBodG1sXzRhNDQzNTEzZTljMzRkY2Y4MDYzODQyYWRiMzRkYjM3ID0gJCgnPGRpdiBpZD0iaHRtbF80YTQ0MzUxM2U5YzM0ZGNmODA2Mzg0MmFkYjM0ZGIzNyIgc3R5bGU9IndpZHRoOiAxMDAuMCU7IGhlaWdodDogMTAwLjAlOyI+U2VxdW9pYTwvZGl2PicpWzBdOwogICAgICAgICAgICAgICAgcG9wdXBfZWZjOWU0OGE5OWUxNGIyODkwZjlmZTIyMjRjM2YwMDMuc2V0Q29udGVudChodG1sXzRhNDQzNTEzZTljMzRkY2Y4MDYzODQyYWRiMzRkYjM3KTsKICAgICAgICAgICAgCgogICAgICAgICAgICBtYXJrZXJfZjg4NmQ0NGU3OGU2NDczNmJiMDkxNjBiZDU3MGFhYjYuYmluZFBvcHVwKHBvcHVwX2VmYzllNDhhOTllMTRiMjg5MGY5ZmUyMjI0YzNmMDAzKTsKCiAgICAgICAgICAgIAogICAgICAgIAogICAgCgogICAgICAgICAgICB2YXIgbWFya2VyXzFjMTA0YjJmYmZjMjRkZDliZWE2NzI5MzYzM2Y0NTdiID0gTC5tYXJrZXIoCiAgICAgICAgICAgICAgICBbNDguODIwNjkyNjcwMiwyLjMzODI0NDM0ODkzXSwKICAgICAgICAgICAgICAgIHsKICAgICAgICAgICAgICAgICAgICBpY29uOiBuZXcgTC5JY29uLkRlZmF1bHQoKQogICAgICAgICAgICAgICAgICAgIH0KICAgICAgICAgICAgICAgICkKICAgICAgICAgICAgICAgIC5hZGRUbyhtYXBfYmFjYzNjMTRhNTFlNDE3YWJmNGIxNTExY2E1ZjViY2MpOwogICAgICAgICAgICAKICAgIAogICAgICAgICAgICB2YXIgcG9wdXBfZjcxZDkxNjIzMjA0NDFhNTgxNTRhMzM3YWIwNTg1ZTIgPSBMLnBvcHVwKHttYXhXaWR0aDogJzMwMCd9KTsKCiAgICAgICAgICAgIAogICAgICAgICAgICAgICAgdmFyIGh0bWxfZGUyYWU2ZGIxZTRjNGIyNzk0NmIxOWQyOGZkM2ZlNDEgPSAkKCc8ZGl2IGlkPSJodG1sX2RlMmFlNmRiMWU0YzRiMjc5NDZiMTlkMjhmZDNmZTQxIiBzdHlsZT0id2lkdGg6IDEwMC4wJTsgaGVpZ2h0OiAxMDAuMCU7Ij5TZXF1b2lhPC9kaXY+JylbMF07CiAgICAgICAgICAgICAgICBwb3B1cF9mNzFkOTE2MjMyMDQ0MWE1ODE1NGEzMzdhYjA1ODVlMi5zZXRDb250ZW50KGh0bWxfZGUyYWU2ZGIxZTRjNGIyNzk0NmIxOWQyOGZkM2ZlNDEpOwogICAgICAgICAgICAKCiAgICAgICAgICAgIG1hcmtlcl8xYzEwNGIyZmJmYzI0ZGQ5YmVhNjcyOTM2MzNmNDU3Yi5iaW5kUG9wdXAocG9wdXBfZjcxZDkxNjIzMjA0NDFhNTgxNTRhMzM3YWIwNTg1ZTIpOwoKICAgICAgICAgICAgCiAgICAgICAgCiAgICAKCiAgICAgICAgICAgIHZhciBtYXJrZXJfYmVmMGExZmRlMDhkNDQzYTgxOTgxZDc1MzNiNjczOTYgPSBMLm1hcmtlcigKICAgICAgICAgICAgICAgIFs0OC44MjM1OTM4NDEzLDIuMzM3NDExOTEzNTNdLAogICAgICAgICAgICAgICAgewogICAgICAgICAgICAgICAgICAgIGljb246IG5ldyBMLkljb24uRGVmYXVsdCgpCiAgICAgICAgICAgICAgICAgICAgfQogICAgICAgICAgICAgICAgKQogICAgICAgICAgICAgICAgLmFkZFRvKG1hcF9iYWNjM2MxNGE1MWU0MTdhYmY0YjE1MTFjYTVmNWJjYyk7CiAgICAgICAgICAgIAogICAgCiAgICAgICAgICAgIHZhciBwb3B1cF83MzJkMGZhNWZiZGM0MTM1ODJhNzMxZGJhYTFjN2I3OSA9IEwucG9wdXAoe21heFdpZHRoOiAnMzAwJ30pOwoKICAgICAgICAgICAgCiAgICAgICAgICAgICAgICB2YXIgaHRtbF80MWY2ODNkZWFmM2Q0NmIyYWQyNDBjMDljNTZkYjBkZCA9ICQoJzxkaXYgaWQ9Imh0bWxfNDFmNjgzZGVhZjNkNDZiMmFkMjQwYzA5YzU2ZGIwZGQiIHN0eWxlPSJ3aWR0aDogMTAwLjAlOyBoZWlnaHQ6IDEwMC4wJTsiPlNlcXVvaWE8L2Rpdj4nKVswXTsKICAgICAgICAgICAgICAgIHBvcHVwXzczMmQwZmE1ZmJkYzQxMzU4MmE3MzFkYmFhMWM3Yjc5LnNldENvbnRlbnQoaHRtbF80MWY2ODNkZWFmM2Q0NmIyYWQyNDBjMDljNTZkYjBkZCk7CiAgICAgICAgICAgIAoKICAgICAgICAgICAgbWFya2VyX2JlZjBhMWZkZTA4ZDQ0M2E4MTk4MWQ3NTMzYjY3Mzk2LmJpbmRQb3B1cChwb3B1cF83MzJkMGZhNWZiZGM0MTM1ODJhNzMxZGJhYTFjN2I3OSk7CgogICAgICAgICAgICAKICAgICAgICAKICAgIAoKICAgICAgICAgICAgdmFyIG1hcmtlcl9hOTFmN2NhNmZjZGU0ZmQzYTUxNzNmYjIzMmQ2YmYzZiA9IEwubWFya2VyKAogICAgICAgICAgICAgICAgWzQ4Ljg2NjkxNDg4MjIsMi4zMTk5NTc0Mjc5Nl0sCiAgICAgICAgICAgICAgICB7CiAgICAgICAgICAgICAgICAgICAgaWNvbjogbmV3IEwuSWNvbi5EZWZhdWx0KCkKICAgICAgICAgICAgICAgICAgICB9CiAgICAgICAgICAgICAgICApCiAgICAgICAgICAgICAgICAuYWRkVG8obWFwX2JhY2MzYzE0YTUxZTQxN2FiZjRiMTUxMWNhNWY1YmNjKTsKICAgICAgICAgICAgCiAgICAKICAgICAgICAgICAgdmFyIHBvcHVwXzg4OTUyYzA5MzcyMzQ0M2M5MGJhOTAyNDFiZDdkZTc1ID0gTC5wb3B1cCh7bWF4V2lkdGg6ICczMDAnfSk7CgogICAgICAgICAgICAKICAgICAgICAgICAgICAgIHZhciBodG1sXzg1MDU4ZGJmNjgyMzQ3MzRhMzQ1NzQyOTY0Y2ZlMzE0ID0gJCgnPGRpdiBpZD0iaHRtbF84NTA1OGRiZjY4MjM0NzM0YTM0NTc0Mjk2NGNmZTMxNCIgc3R5bGU9IndpZHRoOiAxMDAuMCU7IGhlaWdodDogMTAwLjAlOyI+U2VxdW9pYTwvZGl2PicpWzBdOwogICAgICAgICAgICAgICAgcG9wdXBfODg5NTJjMDkzNzIzNDQzYzkwYmE5MDI0MWJkN2RlNzUuc2V0Q29udGVudChodG1sXzg1MDU4ZGJmNjgyMzQ3MzRhMzQ1NzQyOTY0Y2ZlMzE0KTsKICAgICAgICAgICAgCgogICAgICAgICAgICBtYXJrZXJfYTkxZjdjYTZmY2RlNGZkM2E1MTczZmIyMzJkNmJmM2YuYmluZFBvcHVwKHBvcHVwXzg4OTUyYzA5MzcyMzQ0M2M5MGJhOTAyNDFiZDdkZTc1KTsKCiAgICAgICAgICAgIAogICAgICAgIAogICAgCgogICAgICAgICAgICB2YXIgbWFya2VyXzU0OTRkN2VhODVkYjRmZjFhNzQ2ZmIwYzg4ZjQ3YzhmID0gTC5tYXJrZXIoCiAgICAgICAgICAgICAgICBbNDguODMzMTc5OTE0OSwyLjM2NzIxOTA5NjM0XSwKICAgICAgICAgICAgICAgIHsKICAgICAgICAgICAgICAgICAgICBpY29uOiBuZXcgTC5JY29uLkRlZmF1bHQoKQogICAgICAgICAgICAgICAgICAgIH0KICAgICAgICAgICAgICAgICkKICAgICAgICAgICAgICAgIC5hZGRUbyhtYXBfYmFjYzNjMTRhNTFlNDE3YWJmNGIxNTExY2E1ZjViY2MpOwogICAgICAgICAgICAKICAgIAogICAgICAgICAgICB2YXIgcG9wdXBfYjQwZTQ4YWJhYjNkNDIwM2JmYmM3MGM2ZTJlYTBmZTMgPSBMLnBvcHVwKHttYXhXaWR0aDogJzMwMCd9KTsKCiAgICAgICAgICAgIAogICAgICAgICAgICAgICAgdmFyIGh0bWxfOTk2ZmRmNjg0NTM1NDc0Yjg2ZTI1ZTMwYzVjMmFjOWIgPSAkKCc8ZGl2IGlkPSJodG1sXzk5NmZkZjY4NDUzNTQ3NGI4NmUyNWUzMGM1YzJhYzliIiBzdHlsZT0id2lkdGg6IDEwMC4wJTsgaGVpZ2h0OiAxMDAuMCU7Ij5TZXF1b2lhPC9kaXY+JylbMF07CiAgICAgICAgICAgICAgICBwb3B1cF9iNDBlNDhhYmFiM2Q0MjAzYmZiYzcwYzZlMmVhMGZlMy5zZXRDb250ZW50KGh0bWxfOTk2ZmRmNjg0NTM1NDc0Yjg2ZTI1ZTMwYzVjMmFjOWIpOwogICAgICAgICAgICAKCiAgICAgICAgICAgIG1hcmtlcl81NDk0ZDdlYTg1ZGI0ZmYxYTc0NmZiMGM4OGY0N2M4Zi5iaW5kUG9wdXAocG9wdXBfYjQwZTQ4YWJhYjNkNDIwM2JmYmM3MGM2ZTJlYTBmZTMpOwoKICAgICAgICAgICAgCiAgICAgICAgCiAgICAKCiAgICAgICAgICAgIHZhciBtYXJrZXJfNDZlNGMzNzBjOTlhNDQ1MmFkNDcwMTE1ZmE2NjVlYTcgPSBMLm1hcmtlcigKICAgICAgICAgICAgICAgIFs0OC44NzA5MzM4MDA0LDIuNDEyNTgyMzQ5OTNdLAogICAgICAgICAgICAgICAgewogICAgICAgICAgICAgICAgICAgIGljb246IG5ldyBMLkljb24uRGVmYXVsdCgpCiAgICAgICAgICAgICAgICAgICAgfQogICAgICAgICAgICAgICAgKQogICAgICAgICAgICAgICAgLmFkZFRvKG1hcF9iYWNjM2MxNGE1MWU0MTdhYmY0YjE1MTFjYTVmNWJjYyk7CiAgICAgICAgICAgIAogICAgCiAgICAgICAgICAgIHZhciBwb3B1cF8yNDM2ZTFkZmJmYmI0YzEwYjgyODE3YmIyNGIyYmU2ZSA9IEwucG9wdXAoe21heFdpZHRoOiAnMzAwJ30pOwoKICAgICAgICAgICAgCiAgICAgICAgICAgICAgICB2YXIgaHRtbF8xZjNjNTcwNDhhOTM0MDNlOGJhYWNkMGJhODE2MGFhOSA9ICQoJzxkaXYgaWQ9Imh0bWxfMWYzYzU3MDQ4YTkzNDAzZThiYWFjZDBiYTgxNjBhYTkiIHN0eWxlPSJ3aWR0aDogMTAwLjAlOyBoZWlnaHQ6IDEwMC4wJTsiPlNlcXVvaWE8L2Rpdj4nKVswXTsKICAgICAgICAgICAgICAgIHBvcHVwXzI0MzZlMWRmYmZiYjRjMTBiODI4MTdiYjI0YjJiZTZlLnNldENvbnRlbnQoaHRtbF8xZjNjNTcwNDhhOTM0MDNlOGJhYWNkMGJhODE2MGFhOSk7CiAgICAgICAgICAgIAoKICAgICAgICAgICAgbWFya2VyXzQ2ZTRjMzcwYzk5YTQ0NTJhZDQ3MDExNWZhNjY1ZWE3LmJpbmRQb3B1cChwb3B1cF8yNDM2ZTFkZmJmYmI0YzEwYjgyODE3YmIyNGIyYmU2ZSk7CgogICAgICAgICAgICAKICAgICAgICAKICAgIAoKICAgICAgICAgICAgdmFyIG1hcmtlcl8zODJjMmZkYzE3Njk0OGU1OWM1NjIxZjliMGFkYjA0YyA9IEwubWFya2VyKAogICAgICAgICAgICAgICAgWzQ4LjgyMzQ0MjIzMzcsMi4zMzc0MzgwMzA1MV0sCiAgICAgICAgICAgICAgICB7CiAgICAgICAgICAgICAgICAgICAgaWNvbjogbmV3IEwuSWNvbi5EZWZhdWx0KCkKICAgICAgICAgICAgICAgICAgICB9CiAgICAgICAgICAgICAgICApCiAgICAgICAgICAgICAgICAuYWRkVG8obWFwX2JhY2MzYzE0YTUxZTQxN2FiZjRiMTUxMWNhNWY1YmNjKTsKICAgICAgICAgICAgCiAgICAKICAgICAgICAgICAgdmFyIHBvcHVwXzAwZTFhM2RkZjdkOTQxYzhiMjI0NmUzOWQ0NTJlZjNmID0gTC5wb3B1cCh7bWF4V2lkdGg6ICczMDAnfSk7CgogICAgICAgICAgICAKICAgICAgICAgICAgICAgIHZhciBodG1sXzQ4YjNlY2I1YTZjMDQ1MTU4ZjQxYzhmYjViODQzNzM2ID0gJCgnPGRpdiBpZD0iaHRtbF80OGIzZWNiNWE2YzA0NTE1OGY0MWM4ZmI1Yjg0MzczNiIgc3R5bGU9IndpZHRoOiAxMDAuMCU7IGhlaWdodDogMTAwLjAlOyI+U2VxdW9pYTwvZGl2PicpWzBdOwogICAgICAgICAgICAgICAgcG9wdXBfMDBlMWEzZGRmN2Q5NDFjOGIyMjQ2ZTM5ZDQ1MmVmM2Yuc2V0Q29udGVudChodG1sXzQ4YjNlY2I1YTZjMDQ1MTU4ZjQxYzhmYjViODQzNzM2KTsKICAgICAgICAgICAgCgogICAgICAgICAgICBtYXJrZXJfMzgyYzJmZGMxNzY5NDhlNTljNTYyMWY5YjBhZGIwNGMuYmluZFBvcHVwKHBvcHVwXzAwZTFhM2RkZjdkOTQxYzhiMjI0NmUzOWQ0NTJlZjNmKTsKCiAgICAgICAgICAgIAogICAgICAgIAogICAgCgogICAgICAgICAgICB2YXIgbWFya2VyXzEwNmY1NGQ0YmJlMDQ5NjlhMTM1YzQ3YTdhZmM4MmVjID0gTC5tYXJrZXIoCiAgICAgICAgICAgICAgICBbNDguODMzMTk3MywyLjM2NzE5NzA0NzM1XSwKICAgICAgICAgICAgICAgIHsKICAgICAgICAgICAgICAgICAgICBpY29uOiBuZXcgTC5JY29uLkRlZmF1bHQoKQogICAgICAgICAgICAgICAgICAgIH0KICAgICAgICAgICAgICAgICkKICAgICAgICAgICAgICAgIC5hZGRUbyhtYXBfYmFjYzNjMTRhNTFlNDE3YWJmNGIxNTExY2E1ZjViY2MpOwogICAgICAgICAgICAKICAgIAogICAgICAgICAgICB2YXIgcG9wdXBfY2Q5YmQ5ZmJlZWMxNDViNDgzYmM1YTNkN2E3MjFjNGYgPSBMLnBvcHVwKHttYXhXaWR0aDogJzMwMCd9KTsKCiAgICAgICAgICAgIAogICAgICAgICAgICAgICAgdmFyIGh0bWxfNmQ0NjAyMWJmMTUwNDgwYjhmOTg1OGQyY2Q1MTNiNWEgPSAkKCc8ZGl2IGlkPSJodG1sXzZkNDYwMjFiZjE1MDQ4MGI4Zjk4NThkMmNkNTEzYjVhIiBzdHlsZT0id2lkdGg6IDEwMC4wJTsgaGVpZ2h0OiAxMDAuMCU7Ij5TZXF1b2lhPC9kaXY+JylbMF07CiAgICAgICAgICAgICAgICBwb3B1cF9jZDliZDlmYmVlYzE0NWI0ODNiYzVhM2Q3YTcyMWM0Zi5zZXRDb250ZW50KGh0bWxfNmQ0NjAyMWJmMTUwNDgwYjhmOTg1OGQyY2Q1MTNiNWEpOwogICAgICAgICAgICAKCiAgICAgICAgICAgIG1hcmtlcl8xMDZmNTRkNGJiZTA0OTY5YTEzNWM0N2E3YWZjODJlYy5iaW5kUG9wdXAocG9wdXBfY2Q5YmQ5ZmJlZWMxNDViNDgzYmM1YTNkN2E3MjFjNGYpOwoKICAgICAgICAgICAgCiAgICAgICAgCiAgICAKCiAgICAgICAgICAgIHZhciBtYXJrZXJfMjdjYWIzM2ZhYTVlNDA5ZTk0Mzc0YTgzMjhmZjM2OGYgPSBMLm1hcmtlcigKICAgICAgICAgICAgICAgIFs0OC44NTM3NTgxODI0LDIuMzkxMjg1MjIyNDJdLAogICAgICAgICAgICAgICAgewogICAgICAgICAgICAgICAgICAgIGljb246IG5ldyBMLkljb24uRGVmYXVsdCgpCiAgICAgICAgICAgICAgICAgICAgfQogICAgICAgICAgICAgICAgKQogICAgICAgICAgICAgICAgLmFkZFRvKG1hcF9iYWNjM2MxNGE1MWU0MTdhYmY0YjE1MTFjYTVmNWJjYyk7CiAgICAgICAgICAgIAogICAgCiAgICAgICAgICAgIHZhciBwb3B1cF8yMzYxMTIyZDUzMjQ0MmQ4OTJmNGYxM2E4OTUzOTFiZSA9IEwucG9wdXAoe21heFdpZHRoOiAnMzAwJ30pOwoKICAgICAgICAgICAgCiAgICAgICAgICAgICAgICB2YXIgaHRtbF80OTBhMWU5Mjk4NWY0YTcyYjg2NzE2NzE1OGY5Y2E3ZiA9ICQoJzxkaXYgaWQ9Imh0bWxfNDkwYTFlOTI5ODVmNGE3MmI4NjcxNjcxNThmOWNhN2YiIHN0eWxlPSJ3aWR0aDogMTAwLjAlOyBoZWlnaHQ6IDEwMC4wJTsiPlNlcXVvaWE8L2Rpdj4nKVswXTsKICAgICAgICAgICAgICAgIHBvcHVwXzIzNjExMjJkNTMyNDQyZDg5MmY0ZjEzYTg5NTM5MWJlLnNldENvbnRlbnQoaHRtbF80OTBhMWU5Mjk4NWY0YTcyYjg2NzE2NzE1OGY5Y2E3Zik7CiAgICAgICAgICAgIAoKICAgICAgICAgICAgbWFya2VyXzI3Y2FiMzNmYWE1ZTQwOWU5NDM3NGE4MzI4ZmYzNjhmLmJpbmRQb3B1cChwb3B1cF8yMzYxMTIyZDUzMjQ0MmQ4OTJmNGYxM2E4OTUzOTFiZSk7CgogICAgICAgICAgICAKICAgICAgICAKICAgIAoKICAgICAgICAgICAgdmFyIG1hcmtlcl82MmY5MDBjZmQ2N2U0MjcwOWVmYWZjZjcwOGI3YmE2YSA9IEwubWFya2VyKAogICAgICAgICAgICAgICAgWzQ4Ljg3MjA1NDkwNDEsMi4yODA5NTgzNDk4XSwKICAgICAgICAgICAgICAgIHsKICAgICAgICAgICAgICAgICAgICBpY29uOiBuZXcgTC5JY29uLkRlZmF1bHQoKQogICAgICAgICAgICAgICAgICAgIH0KICAgICAgICAgICAgICAgICkKICAgICAgICAgICAgICAgIC5hZGRUbyhtYXBfYmFjYzNjMTRhNTFlNDE3YWJmNGIxNTExY2E1ZjViY2MpOwogICAgICAgICAgICAKICAgIAogICAgICAgICAgICB2YXIgcG9wdXBfMzQ5MTE5ZTdhN2YzNDhlM2EzMzZhOWQ3YzBmNjE2MzggPSBMLnBvcHVwKHttYXhXaWR0aDogJzMwMCd9KTsKCiAgICAgICAgICAgIAogICAgICAgICAgICAgICAgdmFyIGh0bWxfYWMxNDFkYmRmZjFmNGExYjhjOGUxZjNiNjUyYzMyYjYgPSAkKCc8ZGl2IGlkPSJodG1sX2FjMTQxZGJkZmYxZjRhMWI4YzhlMWYzYjY1MmMzMmI2IiBzdHlsZT0id2lkdGg6IDEwMC4wJTsgaGVpZ2h0OiAxMDAuMCU7Ij5TZXF1b2lhPC9kaXY+JylbMF07CiAgICAgICAgICAgICAgICBwb3B1cF8zNDkxMTllN2E3ZjM0OGUzYTMzNmE5ZDdjMGY2MTYzOC5zZXRDb250ZW50KGh0bWxfYWMxNDFkYmRmZjFmNGExYjhjOGUxZjNiNjUyYzMyYjYpOwogICAgICAgICAgICAKCiAgICAgICAgICAgIG1hcmtlcl82MmY5MDBjZmQ2N2U0MjcwOWVmYWZjZjcwOGI3YmE2YS5iaW5kUG9wdXAocG9wdXBfMzQ5MTE5ZTdhN2YzNDhlM2EzMzZhOWQ3YzBmNjE2MzgpOwoKICAgICAgICAgICAgCiAgICAgICAgCiAgICAKCiAgICAgICAgICAgIHZhciBtYXJrZXJfNzU1ZmU3YTNkMTgxNDk0MTliMTM2ZjFhZWVkMzM3Y2MgPSBMLm1hcmtlcigKICAgICAgICAgICAgICAgIFs0OC44MjQzOTQ5MDg2LDIuMzI3MzQxNzE1MDldLAogICAgICAgICAgICAgICAgewogICAgICAgICAgICAgICAgICAgIGljb246IG5ldyBMLkljb24uRGVmYXVsdCgpCiAgICAgICAgICAgICAgICAgICAgfQogICAgICAgICAgICAgICAgKQogICAgICAgICAgICAgICAgLmFkZFRvKG1hcF9iYWNjM2MxNGE1MWU0MTdhYmY0YjE1MTFjYTVmNWJjYyk7CiAgICAgICAgICAgIAogICAgCiAgICAgICAgICAgIHZhciBwb3B1cF9jMGRlMzMwYmY2ZWE0ZmIzOWU4YzE2YzQxNTljNDU4MiA9IEwucG9wdXAoe21heFdpZHRoOiAnMzAwJ30pOwoKICAgICAgICAgICAgCiAgICAgICAgICAgICAgICB2YXIgaHRtbF9iMTRmY2E5NDJmYjg0Zjc5OGU2YjZkNWI1MzhkYTI2OCA9ICQoJzxkaXYgaWQ9Imh0bWxfYjE0ZmNhOTQyZmI4NGY3OThlNmI2ZDViNTM4ZGEyNjgiIHN0eWxlPSJ3aWR0aDogMTAwLjAlOyBoZWlnaHQ6IDEwMC4wJTsiPlNlcXVvaWE8L2Rpdj4nKVswXTsKICAgICAgICAgICAgICAgIHBvcHVwX2MwZGUzMzBiZjZlYTRmYjM5ZThjMTZjNDE1OWM0NTgyLnNldENvbnRlbnQoaHRtbF9iMTRmY2E5NDJmYjg0Zjc5OGU2YjZkNWI1MzhkYTI2OCk7CiAgICAgICAgICAgIAoKICAgICAgICAgICAgbWFya2VyXzc1NWZlN2EzZDE4MTQ5NDE5YjEzNmYxYWVlZDMzN2NjLmJpbmRQb3B1cChwb3B1cF9jMGRlMzMwYmY2ZWE0ZmIzOWU4YzE2YzQxNTljNDU4Mik7CgogICAgICAgICAgICAKICAgICAgICAKICAgIAoKICAgICAgICAgICAgdmFyIG1hcmtlcl9jNGUyNjNmNTg3Njc0M2RhOWFmYWRhMmVhNGZjMDUwNyA9IEwubWFya2VyKAogICAgICAgICAgICAgICAgWzQ4Ljg3OTA0MzUxMDksMi4zODIyMzA5MjY2OF0sCiAgICAgICAgICAgICAgICB7CiAgICAgICAgICAgICAgICAgICAgaWNvbjogbmV3IEwuSWNvbi5EZWZhdWx0KCkKICAgICAgICAgICAgICAgICAgICB9CiAgICAgICAgICAgICAgICApCiAgICAgICAgICAgICAgICAuYWRkVG8obWFwX2JhY2MzYzE0YTUxZTQxN2FiZjRiMTUxMWNhNWY1YmNjKTsKICAgICAgICAgICAgCiAgICAKICAgICAgICAgICAgdmFyIHBvcHVwX2M1ODE3NDAxYTdjNDQxZTM5ZWIzZWFjYjUzZDFjM2JkID0gTC5wb3B1cCh7bWF4V2lkdGg6ICczMDAnfSk7CgogICAgICAgICAgICAKICAgICAgICAgICAgICAgIHZhciBodG1sXzc0ZjQ5YjlmOTg4OTQ3MDc4MTcwYjJlYTU5NWExYmEzID0gJCgnPGRpdiBpZD0iaHRtbF83NGY0OWI5Zjk4ODk0NzA3ODE3MGIyZWE1OTVhMWJhMyIgc3R5bGU9IndpZHRoOiAxMDAuMCU7IGhlaWdodDogMTAwLjAlOyI+U2VxdW9pYTwvZGl2PicpWzBdOwogICAgICAgICAgICAgICAgcG9wdXBfYzU4MTc0MDFhN2M0NDFlMzllYjNlYWNiNTNkMWMzYmQuc2V0Q29udGVudChodG1sXzc0ZjQ5YjlmOTg4OTQ3MDc4MTcwYjJlYTU5NWExYmEzKTsKICAgICAgICAgICAgCgogICAgICAgICAgICBtYXJrZXJfYzRlMjYzZjU4NzY3NDNkYTlhZmFkYTJlYTRmYzA1MDcuYmluZFBvcHVwKHBvcHVwX2M1ODE3NDAxYTdjNDQxZTM5ZWIzZWFjYjUzZDFjM2JkKTsKCiAgICAgICAgICAgIAogICAgICAgIAogICAgCgogICAgICAgICAgICB2YXIgbWFya2VyXzY2ODA1YmM3N2UwMDRkNzRhNjQzNzZlY2MzZGVhMWMzID0gTC5tYXJrZXIoCiAgICAgICAgICAgICAgICBbNDguODU2OTY0MDkxNCwyLjMwODA1NzA2ODg4XSwKICAgICAgICAgICAgICAgIHsKICAgICAgICAgICAgICAgICAgICBpY29uOiBuZXcgTC5JY29uLkRlZmF1bHQoKQogICAgICAgICAgICAgICAgICAgIH0KICAgICAgICAgICAgICAgICkKICAgICAgICAgICAgICAgIC5hZGRUbyhtYXBfYmFjYzNjMTRhNTFlNDE3YWJmNGIxNTExY2E1ZjViY2MpOwogICAgICAgICAgICAKICAgIAogICAgICAgICAgICB2YXIgcG9wdXBfMWFhYzRkYjhhNDBjNGUxZTg5ZThkYWQ1NjBkNjMzOTcgPSBMLnBvcHVwKHttYXhXaWR0aDogJzMwMCd9KTsKCiAgICAgICAgICAgIAogICAgICAgICAgICAgICAgdmFyIGh0bWxfODAxOGU4M2YwODE1NGYzNjk2YjA5MDJjYWY3MmY5MWQgPSAkKCc8ZGl2IGlkPSJodG1sXzgwMThlODNmMDgxNTRmMzY5NmIwOTAyY2FmNzJmOTFkIiBzdHlsZT0id2lkdGg6IDEwMC4wJTsgaGVpZ2h0OiAxMDAuMCU7Ij5TZXF1b2lhPC9kaXY+JylbMF07CiAgICAgICAgICAgICAgICBwb3B1cF8xYWFjNGRiOGE0MGM0ZTFlODllOGRhZDU2MGQ2MzM5Ny5zZXRDb250ZW50KGh0bWxfODAxOGU4M2YwODE1NGYzNjk2YjA5MDJjYWY3MmY5MWQpOwogICAgICAgICAgICAKCiAgICAgICAgICAgIG1hcmtlcl82NjgwNWJjNzdlMDA0ZDc0YTY0Mzc2ZWNjM2RlYTFjMy5iaW5kUG9wdXAocG9wdXBfMWFhYzRkYjhhNDBjNGUxZTg5ZThkYWQ1NjBkNjMzOTcpOwoKICAgICAgICAgICAgCiAgICAgICAgCiAgICAKCiAgICAgICAgICAgIHZhciBtYXJrZXJfNmY4MWM3NmE5NThkNGRiZTk4NjhlZTRkZWNiZjRiMTAgPSBMLm1hcmtlcigKICAgICAgICAgICAgICAgIFs0OC44NDcyNTQzNjQ3LDIuMjU1ODA5OTAzNV0sCiAgICAgICAgICAgICAgICB7CiAgICAgICAgICAgICAgICAgICAgaWNvbjogbmV3IEwuSWNvbi5EZWZhdWx0KCkKICAgICAgICAgICAgICAgICAgICB9CiAgICAgICAgICAgICAgICApCiAgICAgICAgICAgICAgICAuYWRkVG8obWFwX2JhY2MzYzE0YTUxZTQxN2FiZjRiMTUxMWNhNWY1YmNjKTsKICAgICAgICAgICAgCiAgICAKICAgICAgICAgICAgdmFyIHBvcHVwXzQ5OWFmNTU5NWUyZDQ4NmY5N2ZhY2IwODAzYjNlOTZiID0gTC5wb3B1cCh7bWF4V2lkdGg6ICczMDAnfSk7CgogICAgICAgICAgICAKICAgICAgICAgICAgICAgIHZhciBodG1sXzEzMWU0ZTc3MWYzNTRiMWQ4NDhhNTY0ZjAzMjkxODNiID0gJCgnPGRpdiBpZD0iaHRtbF8xMzFlNGU3NzFmMzU0YjFkODQ4YTU2NGYwMzI5MTgzYiIgc3R5bGU9IndpZHRoOiAxMDAuMCU7IGhlaWdodDogMTAwLjAlOyI+U2VxdW9pYTwvZGl2PicpWzBdOwogICAgICAgICAgICAgICAgcG9wdXBfNDk5YWY1NTk1ZTJkNDg2Zjk3ZmFjYjA4MDNiM2U5NmIuc2V0Q29udGVudChodG1sXzEzMWU0ZTc3MWYzNTRiMWQ4NDhhNTY0ZjAzMjkxODNiKTsKICAgICAgICAgICAgCgogICAgICAgICAgICBtYXJrZXJfNmY4MWM3NmE5NThkNGRiZTk4NjhlZTRkZWNiZjRiMTAuYmluZFBvcHVwKHBvcHVwXzQ5OWFmNTU5NWUyZDQ4NmY5N2ZhY2IwODAzYjNlOTZiKTsKCiAgICAgICAgICAgIAogICAgICAgIAogICAgCgogICAgICAgICAgICB2YXIgbWFya2VyXzVlZGQ0M2FlZWI4NTQ5OTBiYzdmNTAyMzUwM2IyNDhlID0gTC5tYXJrZXIoCiAgICAgICAgICAgICAgICBbNDguODgwMTA4NDMzMywyLjM4MjE2NDUxNjI4XSwKICAgICAgICAgICAgICAgIHsKICAgICAgICAgICAgICAgICAgICBpY29uOiBuZXcgTC5JY29uLkRlZmF1bHQoKQogICAgICAgICAgICAgICAgICAgIH0KICAgICAgICAgICAgICAgICkKICAgICAgICAgICAgICAgIC5hZGRUbyhtYXBfYmFjYzNjMTRhNTFlNDE3YWJmNGIxNTExY2E1ZjViY2MpOwogICAgICAgICAgICAKICAgIAogICAgICAgICAgICB2YXIgcG9wdXBfZTkyMzdjNDJkMjNmNDYxOGExMmYyODE4MjdmMzc4ODQgPSBMLnBvcHVwKHttYXhXaWR0aDogJzMwMCd9KTsKCiAgICAgICAgICAgIAogICAgICAgICAgICAgICAgdmFyIGh0bWxfNTg4NWI3NWUxODBlNDIzNWE2YzRmZmU4OWY2Yzc0YWQgPSAkKCc8ZGl2IGlkPSJodG1sXzU4ODViNzVlMTgwZTQyMzVhNmM0ZmZlODlmNmM3NGFkIiBzdHlsZT0id2lkdGg6IDEwMC4wJTsgaGVpZ2h0OiAxMDAuMCU7Ij5TZXF1b2lhPC9kaXY+JylbMF07CiAgICAgICAgICAgICAgICBwb3B1cF9lOTIzN2M0MmQyM2Y0NjE4YTEyZjI4MTgyN2YzNzg4NC5zZXRDb250ZW50KGh0bWxfNTg4NWI3NWUxODBlNDIzNWE2YzRmZmU4OWY2Yzc0YWQpOwogICAgICAgICAgICAKCiAgICAgICAgICAgIG1hcmtlcl81ZWRkNDNhZWViODU0OTkwYmM3ZjUwMjM1MDNiMjQ4ZS5iaW5kUG9wdXAocG9wdXBfZTkyMzdjNDJkMjNmNDYxOGExMmYyODE4MjdmMzc4ODQpOwoKICAgICAgICAgICAgCiAgICAgICAgCiAgICAKICAgICAgICAgICAgICAgIHZhciBwb2x5X2xpbmVfMjU1Mzg2NTU4YmI3NDM1MzhhMGUwYmJjZjY4ZWQ5YjggPSBMLnBvbHlsaW5lKAogICAgICAgICAgICAgICAgICAgIFtbNDguODQwMjQxODE5NywgMi4zMDc4OTkzMTQyOV0sIFs0OC44NDcyNTQzNjQ3LCAyLjI1NTgwOTkwMzVdLCBbNDguODQ3NjMzNzQ1MiwgMi4yNTM0OTAwMTU1Ml0sIFs0OC44NDc3NTkxOTkzLCAyLjI1NDc3NTU4ODgzXSwgWzQ4Ljg1MjgzNzkyNywgMi4yNzEwMDUwNDk1NF0sIFs0OC44NzIwNTQ5MDQxLCAyLjI4MDk1ODM0OThdLCBbNDguODYyNDQ1MTgyOCwgMi4yODk1NzAzNTU2Nl0sIFs0OC44NTYwOTAwMzYzLCAyLjI5NjM1NzgyMzAzXSwgWzQ4Ljg1Njk2NDA5MTQsIDIuMzA4MDU3MDY4ODhdLCBbNDguODY2OTE0ODgyMiwgMi4zMTk5NTc0Mjc5Nl0sIFs0OC44NzQ3ODI1MzE3LCAyLjM2MjEwMDQ3OTE2XSwgWzQ4Ljg4MDAzNTQ5NjQsIDIuMzgyMjExMzE5MjRdLCBbNDguODgwMTA4NDMzMywgMi4zODIxNjQ1MTYyOF0sIFs0OC44ODAwNTM1MTc1LCAyLjM4MjEyMDQxNjM2XSwgWzQ4Ljg3OTA0MzUxMDksIDIuMzgyMjMwOTI2NjhdLCBbNDguODYzODg4Mzc4NCwgMi4zOTMyNDIzNTE0MV0sIFs0OC44NjM4NzA0NzE5LCAyLjM5MzE2MjQwODc1XSwgWzQ4Ljg1Mzc1ODE4MjQsIDIuMzkxMjg1MjIyNDJdLCBbNDguODUzODM0NzE3OCwgMi4zOTEzNjY2OTkxOV0sIFs0OC44NDYyMDcwNDM5LCAyLjQwOTY2NDY3OTczXSwgWzQ4Ljg0OTA1MDY5NywgMi40MDM0ODYzNTE4M10sIFs0OC44NjU4NTExMjE1LCAyLjQxMjMwNTg2NDcxXSwgWzQ4Ljg2NTg2NTU5NjcsIDIuNDEyMzU4MTQyMzldLCBbNDguODcwOTMzODAwNCwgMi40MTI1ODIzNDk5M10sIFs0OC44NjU3NTQ5NzY5LCAyLjQxMjI4MDk2NzQ4XSwgWzQ4Ljg2NTM1MjMzODYsIDIuNDEyMDU0ODUwOTldLCBbNDguODYzNDg3NTg3NSwgMi4zOTY4MjU2ODk0MV0sIFs0OC44NTM3ODE1NTk0LCAyLjM5MTM4NjU2MzU4XSwgWzQ4LjgzMzE4NzkxNjIsIDIuMzY3MTUyMjE4NDNdLCBbNDguODMzMTk3MywgMi4zNjcxOTcwNDczNV0sIFs0OC44MzMxNzk5MTQ5LCAyLjM2NzIxOTA5NjM0XSwgWzQ4LjgyNDAxMzU4MjMsIDIuMzM3NzY0Mzg0NDVdLCBbNDguODIzOTYxNjI5MiwgMi4zMzc2OTIwMzY4NV0sIFs0OC44MjM2NTYzOTU5LCAyLjMzNzQxNTY2Nzg4XSwgWzQ4LjgyMzUxNDE5MywgMi4zMzc0NjU2MTA1NF0sIFs0OC44MjMzMjQzMTQ3LCAyLjMzNzQ5NDU5NzIzXSwgWzQ4LjgyMzQ0MjIzMzcsIDIuMzM3NDM4MDMwNTFdLCBbNDguODIzNTkzODQxMywgMi4zMzc0MTE5MTM1M10sIFs0OC44MjA3MzA0NTA0LCAyLjMzODIxOTQ2MjQ4XSwgWzQ4LjgyMDcxNzE1MDUsIDIuMzM4MTY3ODA3MzZdLCBbNDguODIwNjkyNjcwMiwgMi4zMzgyNDQzNDg5M10sIFs0OC44MjA3MTQwNzgsIDIuMzQxMTg3OTYxMjldLCBbNDguODIyMDQwNzgzNywgMi4zMzYzMTU2NDMyXSwgWzQ4LjgyNDM5NDkwODYsIDIuMzI3MzQxNzE1MDldLCBbNDguODQwMjQxODE5NywgMi4zMDc4OTkzMTQyOV1dLAogICAgICAgICAgICAgICAgICAgIHsKICAgICAgICAgICAgICAgICAgICAgICAgY29sb3I6ICdyZWQnLAogICAgICAgICAgICAgICAgICAgICAgICB3ZWlnaHQ6IDIuNSwKICAgICAgICAgICAgICAgICAgICAgICAgb3BhY2l0eTogMSwKICAgICAgICAgICAgICAgICAgICAgICAgfSk7CiAgICAgICAgICAgICAgICBtYXBfYmFjYzNjMTRhNTFlNDE3YWJmNGIxNTExY2E1ZjViY2MuYWRkTGF5ZXIocG9seV9saW5lXzI1NTM4NjU1OGJiNzQzNTM4YTBlMGJiY2Y2OGVkOWI4KTsKICAgICAgICAgICAgCjwvc2NyaXB0Pg==\" style=\"position:absolute;width:100%;height:100%;left:0;top:0;border:none !important;\" allowfullscreen webkitallowfullscreen mozallowfullscreen></iframe></div></div>"
      ],
      "text/plain": [
       "<folium.folium.Map at 0x12c661278>"
      ]
     },
     "execution_count": 134,
     "metadata": {},
     "output_type": "execute_result"
    }
   ],
   "source": [
    "import folium\n",
    "map_osm = folium.Map(location=[48.85, 2.34])\n",
    "for i in range(len(geo_points)-1):\n",
    "    folium.Marker(geo_points[i], popup='Sequoia').add_to(map_osm)\n",
    "\n",
    "folium.PolyLine(polyline_best_traj, color=\"red\", weight=2.5, opacity=1).add_to(map_osm)\n",
    "from IPython.display import HTML\n",
    "map_osm"
   ]
  },
  {
   "cell_type": "code",
   "execution_count": null,
   "metadata": {
    "collapsed": true
   },
   "outputs": [],
   "source": []
  }
 ],
 "metadata": {
  "kernelspec": {
   "display_name": "Python 3",
   "language": "python",
   "name": "python3"
  },
  "language_info": {
   "codemirror_mode": {
    "name": "ipython",
    "version": 3
   },
   "file_extension": ".py",
   "mimetype": "text/x-python",
   "name": "python",
   "nbconvert_exporter": "python",
   "pygments_lexer": "ipython3",
   "version": "3.5.3"
  }
 },
 "nbformat": 4,
 "nbformat_minor": 0
}
